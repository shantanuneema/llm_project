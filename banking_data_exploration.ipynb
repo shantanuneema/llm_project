{
 "cells": [
  {
   "cell_type": "code",
   "execution_count": 1,
   "metadata": {
    "collapsed": true,
    "ExecuteTime": {
     "end_time": "2023-12-30T09:27:18.663809Z",
     "start_time": "2023-12-30T09:27:17.567224Z"
    }
   },
   "outputs": [],
   "source": [
    "import numpy as np\n",
    "import pandas as pd\n",
    "bank_data_path = \"data/banking_data\""
   ]
  },
  {
   "cell_type": "code",
   "execution_count": 2,
   "outputs": [
    {
     "data": {
      "text/plain": "(1056320, 16)"
     },
     "execution_count": 2,
     "metadata": {},
     "output_type": "execute_result"
    }
   ],
   "source": [
    "df_trx = pd.read_csv(f\"{bank_data_path}/completedtrans.csv\", low_memory=False)\n",
    "df_trx.shape"
   ],
   "metadata": {
    "collapsed": false,
    "ExecuteTime": {
     "end_time": "2023-12-30T09:27:20.490241Z",
     "start_time": "2023-12-30T09:27:18.664271Z"
    }
   }
  },
  {
   "cell_type": "code",
   "execution_count": 3,
   "outputs": [
    {
     "data": {
      "text/plain": "         Unnamed: 0   trans_id account_id    type                   operation   \n0                 1  T00695247  A00002378  Credit              Credit in Cash  \\\n95               96  T00695250  A00002378  Credit              Credit in Cash   \n100             101  T00695266  A00002378  Credit              Credit in Cash   \n104             105  T00695262  A00002378  Credit              Credit in Cash   \n113             114  T00695265  A00002378  Credit              Credit in Cash   \n...             ...        ...        ...     ...                         ...   \n1032771     1032772  T00695647  A00002378  Credit              Credit in Cash   \n1036812     1036813  T00695410  A00002378   Debit  Remittance to Another Bank   \n1049182     1049183  T00695335  A00002378  Credit              Credit in Cash   \n1049183     1049184  T00695328  A00002378  Credit              Credit in Cash   \n1055280     1055281  T03608663  A00002378  Credit                         NaN   \n\n          amount  balance           k_symbol       bank    account  year   \n0          700.0    700.0                NaN        NaN        NaN  2013  \\\n95        7268.0   7968.0                NaN        NaN        NaN  2013   \n100      14440.0  22408.0                NaN        NaN        NaN  2013   \n104      49752.0  72160.0                NaN        NaN        NaN  2013   \n113      21899.0  94059.0                NaN        NaN        NaN  2013   \n...          ...      ...                ...        ...        ...   ...   \n1032771   1900.0  39664.4                NaN        NaN        NaN  2018   \n1036812   9612.0  30052.4          Household  Citigroup  1222903.0  2018   \n1049182  45410.0  93133.4                NaN        NaN        NaN  2018   \n1049183  17671.0  47723.4                NaN        NaN        NaN  2018   \n1055280    216.2  93349.5  Interest Credited        NaN        NaN  2018   \n\n         month  day    fulldate  fulltime     fulldatewithtime  \n0            1    1  2013-01-01  11:02:40  2013-01-01T11:02:40  \n95           1   22  2013-01-22  14:43:54  2013-01-22T14:43:54  \n100          1   23  2013-01-23  13:56:58  2013-01-23T13:56:58  \n104          1   24  2013-01-24  08:37:03  2013-01-24T08:37:03  \n113          1   26  2013-01-26  09:50:04  2013-01-26T09:50:04  \n...        ...  ...         ...       ...                  ...  \n1032771     12    1  2018-12-01  09:06:42  2018-12-01T09:06:42  \n1036812     12    7  2018-12-07  08:13:06  2018-12-07T08:13:06  \n1049182     12   21  2018-12-21  10:10:52  2018-12-21T10:10:52  \n1049183     12   21  2018-12-21  16:14:26  2018-12-21T16:14:26  \n1055280     12   31  2018-12-31  11:31:33  2018-12-31T11:31:33  \n\n[435 rows x 16 columns]",
      "text/html": "<div>\n<style scoped>\n    .dataframe tbody tr th:only-of-type {\n        vertical-align: middle;\n    }\n\n    .dataframe tbody tr th {\n        vertical-align: top;\n    }\n\n    .dataframe thead th {\n        text-align: right;\n    }\n</style>\n<table border=\"1\" class=\"dataframe\">\n  <thead>\n    <tr style=\"text-align: right;\">\n      <th></th>\n      <th>Unnamed: 0</th>\n      <th>trans_id</th>\n      <th>account_id</th>\n      <th>type</th>\n      <th>operation</th>\n      <th>amount</th>\n      <th>balance</th>\n      <th>k_symbol</th>\n      <th>bank</th>\n      <th>account</th>\n      <th>year</th>\n      <th>month</th>\n      <th>day</th>\n      <th>fulldate</th>\n      <th>fulltime</th>\n      <th>fulldatewithtime</th>\n    </tr>\n  </thead>\n  <tbody>\n    <tr>\n      <th>0</th>\n      <td>1</td>\n      <td>T00695247</td>\n      <td>A00002378</td>\n      <td>Credit</td>\n      <td>Credit in Cash</td>\n      <td>700.0</td>\n      <td>700.0</td>\n      <td>NaN</td>\n      <td>NaN</td>\n      <td>NaN</td>\n      <td>2013</td>\n      <td>1</td>\n      <td>1</td>\n      <td>2013-01-01</td>\n      <td>11:02:40</td>\n      <td>2013-01-01T11:02:40</td>\n    </tr>\n    <tr>\n      <th>95</th>\n      <td>96</td>\n      <td>T00695250</td>\n      <td>A00002378</td>\n      <td>Credit</td>\n      <td>Credit in Cash</td>\n      <td>7268.0</td>\n      <td>7968.0</td>\n      <td>NaN</td>\n      <td>NaN</td>\n      <td>NaN</td>\n      <td>2013</td>\n      <td>1</td>\n      <td>22</td>\n      <td>2013-01-22</td>\n      <td>14:43:54</td>\n      <td>2013-01-22T14:43:54</td>\n    </tr>\n    <tr>\n      <th>100</th>\n      <td>101</td>\n      <td>T00695266</td>\n      <td>A00002378</td>\n      <td>Credit</td>\n      <td>Credit in Cash</td>\n      <td>14440.0</td>\n      <td>22408.0</td>\n      <td>NaN</td>\n      <td>NaN</td>\n      <td>NaN</td>\n      <td>2013</td>\n      <td>1</td>\n      <td>23</td>\n      <td>2013-01-23</td>\n      <td>13:56:58</td>\n      <td>2013-01-23T13:56:58</td>\n    </tr>\n    <tr>\n      <th>104</th>\n      <td>105</td>\n      <td>T00695262</td>\n      <td>A00002378</td>\n      <td>Credit</td>\n      <td>Credit in Cash</td>\n      <td>49752.0</td>\n      <td>72160.0</td>\n      <td>NaN</td>\n      <td>NaN</td>\n      <td>NaN</td>\n      <td>2013</td>\n      <td>1</td>\n      <td>24</td>\n      <td>2013-01-24</td>\n      <td>08:37:03</td>\n      <td>2013-01-24T08:37:03</td>\n    </tr>\n    <tr>\n      <th>113</th>\n      <td>114</td>\n      <td>T00695265</td>\n      <td>A00002378</td>\n      <td>Credit</td>\n      <td>Credit in Cash</td>\n      <td>21899.0</td>\n      <td>94059.0</td>\n      <td>NaN</td>\n      <td>NaN</td>\n      <td>NaN</td>\n      <td>2013</td>\n      <td>1</td>\n      <td>26</td>\n      <td>2013-01-26</td>\n      <td>09:50:04</td>\n      <td>2013-01-26T09:50:04</td>\n    </tr>\n    <tr>\n      <th>...</th>\n      <td>...</td>\n      <td>...</td>\n      <td>...</td>\n      <td>...</td>\n      <td>...</td>\n      <td>...</td>\n      <td>...</td>\n      <td>...</td>\n      <td>...</td>\n      <td>...</td>\n      <td>...</td>\n      <td>...</td>\n      <td>...</td>\n      <td>...</td>\n      <td>...</td>\n      <td>...</td>\n    </tr>\n    <tr>\n      <th>1032771</th>\n      <td>1032772</td>\n      <td>T00695647</td>\n      <td>A00002378</td>\n      <td>Credit</td>\n      <td>Credit in Cash</td>\n      <td>1900.0</td>\n      <td>39664.4</td>\n      <td>NaN</td>\n      <td>NaN</td>\n      <td>NaN</td>\n      <td>2018</td>\n      <td>12</td>\n      <td>1</td>\n      <td>2018-12-01</td>\n      <td>09:06:42</td>\n      <td>2018-12-01T09:06:42</td>\n    </tr>\n    <tr>\n      <th>1036812</th>\n      <td>1036813</td>\n      <td>T00695410</td>\n      <td>A00002378</td>\n      <td>Debit</td>\n      <td>Remittance to Another Bank</td>\n      <td>9612.0</td>\n      <td>30052.4</td>\n      <td>Household</td>\n      <td>Citigroup</td>\n      <td>1222903.0</td>\n      <td>2018</td>\n      <td>12</td>\n      <td>7</td>\n      <td>2018-12-07</td>\n      <td>08:13:06</td>\n      <td>2018-12-07T08:13:06</td>\n    </tr>\n    <tr>\n      <th>1049182</th>\n      <td>1049183</td>\n      <td>T00695335</td>\n      <td>A00002378</td>\n      <td>Credit</td>\n      <td>Credit in Cash</td>\n      <td>45410.0</td>\n      <td>93133.4</td>\n      <td>NaN</td>\n      <td>NaN</td>\n      <td>NaN</td>\n      <td>2018</td>\n      <td>12</td>\n      <td>21</td>\n      <td>2018-12-21</td>\n      <td>10:10:52</td>\n      <td>2018-12-21T10:10:52</td>\n    </tr>\n    <tr>\n      <th>1049183</th>\n      <td>1049184</td>\n      <td>T00695328</td>\n      <td>A00002378</td>\n      <td>Credit</td>\n      <td>Credit in Cash</td>\n      <td>17671.0</td>\n      <td>47723.4</td>\n      <td>NaN</td>\n      <td>NaN</td>\n      <td>NaN</td>\n      <td>2018</td>\n      <td>12</td>\n      <td>21</td>\n      <td>2018-12-21</td>\n      <td>16:14:26</td>\n      <td>2018-12-21T16:14:26</td>\n    </tr>\n    <tr>\n      <th>1055280</th>\n      <td>1055281</td>\n      <td>T03608663</td>\n      <td>A00002378</td>\n      <td>Credit</td>\n      <td>NaN</td>\n      <td>216.2</td>\n      <td>93349.5</td>\n      <td>Interest Credited</td>\n      <td>NaN</td>\n      <td>NaN</td>\n      <td>2018</td>\n      <td>12</td>\n      <td>31</td>\n      <td>2018-12-31</td>\n      <td>11:31:33</td>\n      <td>2018-12-31T11:31:33</td>\n    </tr>\n  </tbody>\n</table>\n<p>435 rows × 16 columns</p>\n</div>"
     },
     "execution_count": 3,
     "metadata": {},
     "output_type": "execute_result"
    }
   ],
   "source": [
    "accounts = df_trx[\"account_id\"].unique()\n",
    "for acct in accounts:\n",
    "    df_group = df_trx[df_trx[\"account_id\"]==acct].copy()\n",
    "    break\n",
    "\n",
    "df_group"
   ],
   "metadata": {
    "collapsed": false,
    "ExecuteTime": {
     "end_time": "2023-12-30T09:27:20.580133Z",
     "start_time": "2023-12-30T09:27:20.503922Z"
    }
   }
  },
  {
   "cell_type": "code",
   "execution_count": 4,
   "outputs": [
    {
     "data": {
      "text/plain": "4500"
     },
     "execution_count": 4,
     "metadata": {},
     "output_type": "execute_result"
    }
   ],
   "source": [
    "len(accounts)"
   ],
   "metadata": {
    "collapsed": false,
    "ExecuteTime": {
     "end_time": "2023-12-30T09:27:20.580492Z",
     "start_time": "2023-12-30T09:27:20.563826Z"
    }
   }
  },
  {
   "cell_type": "code",
   "execution_count": 5,
   "outputs": [
    {
     "data": {
      "text/plain": "Company response to consumer\nClosed with explanation            14337\nClosed with monetary relief         5267\nClosed with non-monetary relief     1934\nClosed with relief                   759\nClosed without relief                672\nClosed                               266\nIn progress                          152\nUntimely response                     32\nName: count, dtype: int64"
     },
     "execution_count": 5,
     "metadata": {},
     "output_type": "execute_result"
    }
   ],
   "source": [
    "df_event = pd.read_csv(f\"{bank_data_path}/CRM Events.csv\", low_memory=False)\n",
    "df_event[\"Company response to consumer\"].apply(lambda x: \"Closed\" if \"Closed\" in x else \"Open\")"
   ],
   "metadata": {
    "collapsed": false,
    "ExecuteTime": {
     "end_time": "2023-12-30T09:27:20.745805Z",
     "start_time": "2023-12-30T09:27:20.568115Z"
    }
   }
  },
  {
   "cell_type": "code",
   "execution_count": 6,
   "outputs": [
    {
     "data": {
      "text/plain": "        disp_id  client_id account_id   type\n2976  D00003141  C00003141  A00002603  Owner",
      "text/html": "<div>\n<style scoped>\n    .dataframe tbody tr th:only-of-type {\n        vertical-align: middle;\n    }\n\n    .dataframe tbody tr th {\n        vertical-align: top;\n    }\n\n    .dataframe thead th {\n        text-align: right;\n    }\n</style>\n<table border=\"1\" class=\"dataframe\">\n  <thead>\n    <tr style=\"text-align: right;\">\n      <th></th>\n      <th>disp_id</th>\n      <th>client_id</th>\n      <th>account_id</th>\n      <th>type</th>\n    </tr>\n  </thead>\n  <tbody>\n    <tr>\n      <th>2976</th>\n      <td>D00003141</td>\n      <td>C00003141</td>\n      <td>A00002603</td>\n      <td>Owner</td>\n    </tr>\n  </tbody>\n</table>\n</div>"
     },
     "execution_count": 6,
     "metadata": {},
     "output_type": "execute_result"
    }
   ],
   "source": [
    "df_join = pd.read_csv(f\"{bank_data_path}/completeddisposition.csv\")\n",
    "df_join[df_join[\"client_id\"]==\"C00003141\"]"
   ],
   "metadata": {
    "collapsed": false,
    "ExecuteTime": {
     "end_time": "2023-12-30T09:27:21.068890Z",
     "start_time": "2023-12-30T09:27:21.019057Z"
    }
   }
  },
  {
   "cell_type": "code",
   "execution_count": 7,
   "outputs": [
    {
     "data": {
      "text/plain": "         Unnamed: 0   trans_id account_id    type   \n335497       335498  T00762425  A00002603  Credit  \\\n346202       346203  T00762432  A00002603  Credit   \n361890       361891  T00762433  A00002603  Credit   \n378285       378286  T00762434  A00002603  Credit   \n395248       395249  T00762435  A00002603  Credit   \n...             ...        ...        ...     ...   \n1032917     1032918  T00762578  A00002603   Debit   \n1034746     1034747  T00762506  A00002603   Debit   \n1037341     1037342  T00762461  A00002603  Credit   \n1038573     1038574  T00762497  A00002603   Debit   \n1053807     1053808  T03616535  A00002603  Credit   \n\n                            operation  amount  balance           k_symbol   \n335497                 Credit in Cash   300.0    300.0                NaN  \\\n346202   Collection from Another Bank  5416.0   5716.0    Old Age Pension   \n361890   Collection from Another Bank  5416.0  11132.0    Old Age Pension   \n378285   Collection from Another Bank  5416.0  16548.0    Old Age Pension   \n395248   Collection from Another Bank  5416.0  21964.0    Old Age Pension   \n...                               ...     ...      ...                ...   \n1032917               Cash Withdrawal  2400.0  29198.5                NaN   \n1034746               Cash Withdrawal   500.0  28698.5                NaN   \n1037341  Collection from Another Bank  5416.0  34114.5    Old Age Pension   \n1038573    Remittance to Another Bank  3210.0  30904.5          Household   \n1053807                           NaN   128.5  31033.0  Interest Credited   \n\n                  bank     account  year  month  day    fulldate  fulltime   \n335497             NaN         NaN  2016      6   14  2016-06-14  09:11:60  \\\n346202   Goldman Sachs  27247029.0  2016      7    7  2016-07-07  10:36:14   \n361890   Goldman Sachs  27247029.0  2016      8    7  2016-08-07  12:09:48   \n378285   Goldman Sachs  27247029.0  2016      9    7  2016-09-07  14:04:60   \n395248   Goldman Sachs  27247029.0  2016     10    7  2016-10-07  08:00:32   \n...                ...         ...   ...    ...  ...         ...       ...   \n1032917            NaN         NaN  2018     12    1  2018-12-01  13:17:07   \n1034746            NaN         NaN  2018     12    5  2018-12-05  16:28:20   \n1037341  Goldman Sachs  27247029.0  2018     12    7  2018-12-07  12:47:45   \n1038573    Capital One  30168819.0  2018     12    8  2018-12-08  10:11:31   \n1053807            NaN         NaN  2018     12   31  2018-12-31  12:41:15   \n\n            fulldatewithtime  \n335497   2016-06-14T09:11:60  \n346202   2016-07-07T10:36:14  \n361890   2016-08-07T12:09:48  \n378285   2016-09-07T14:04:60  \n395248   2016-10-07T08:00:32  \n...                      ...  \n1032917  2018-12-01T13:17:07  \n1034746  2018-12-05T16:28:20  \n1037341  2018-12-07T12:47:45  \n1038573  2018-12-08T10:11:31  \n1053807  2018-12-31T12:41:15  \n\n[138 rows x 16 columns]",
      "text/html": "<div>\n<style scoped>\n    .dataframe tbody tr th:only-of-type {\n        vertical-align: middle;\n    }\n\n    .dataframe tbody tr th {\n        vertical-align: top;\n    }\n\n    .dataframe thead th {\n        text-align: right;\n    }\n</style>\n<table border=\"1\" class=\"dataframe\">\n  <thead>\n    <tr style=\"text-align: right;\">\n      <th></th>\n      <th>Unnamed: 0</th>\n      <th>trans_id</th>\n      <th>account_id</th>\n      <th>type</th>\n      <th>operation</th>\n      <th>amount</th>\n      <th>balance</th>\n      <th>k_symbol</th>\n      <th>bank</th>\n      <th>account</th>\n      <th>year</th>\n      <th>month</th>\n      <th>day</th>\n      <th>fulldate</th>\n      <th>fulltime</th>\n      <th>fulldatewithtime</th>\n    </tr>\n  </thead>\n  <tbody>\n    <tr>\n      <th>335497</th>\n      <td>335498</td>\n      <td>T00762425</td>\n      <td>A00002603</td>\n      <td>Credit</td>\n      <td>Credit in Cash</td>\n      <td>300.0</td>\n      <td>300.0</td>\n      <td>NaN</td>\n      <td>NaN</td>\n      <td>NaN</td>\n      <td>2016</td>\n      <td>6</td>\n      <td>14</td>\n      <td>2016-06-14</td>\n      <td>09:11:60</td>\n      <td>2016-06-14T09:11:60</td>\n    </tr>\n    <tr>\n      <th>346202</th>\n      <td>346203</td>\n      <td>T00762432</td>\n      <td>A00002603</td>\n      <td>Credit</td>\n      <td>Collection from Another Bank</td>\n      <td>5416.0</td>\n      <td>5716.0</td>\n      <td>Old Age Pension</td>\n      <td>Goldman Sachs</td>\n      <td>27247029.0</td>\n      <td>2016</td>\n      <td>7</td>\n      <td>7</td>\n      <td>2016-07-07</td>\n      <td>10:36:14</td>\n      <td>2016-07-07T10:36:14</td>\n    </tr>\n    <tr>\n      <th>361890</th>\n      <td>361891</td>\n      <td>T00762433</td>\n      <td>A00002603</td>\n      <td>Credit</td>\n      <td>Collection from Another Bank</td>\n      <td>5416.0</td>\n      <td>11132.0</td>\n      <td>Old Age Pension</td>\n      <td>Goldman Sachs</td>\n      <td>27247029.0</td>\n      <td>2016</td>\n      <td>8</td>\n      <td>7</td>\n      <td>2016-08-07</td>\n      <td>12:09:48</td>\n      <td>2016-08-07T12:09:48</td>\n    </tr>\n    <tr>\n      <th>378285</th>\n      <td>378286</td>\n      <td>T00762434</td>\n      <td>A00002603</td>\n      <td>Credit</td>\n      <td>Collection from Another Bank</td>\n      <td>5416.0</td>\n      <td>16548.0</td>\n      <td>Old Age Pension</td>\n      <td>Goldman Sachs</td>\n      <td>27247029.0</td>\n      <td>2016</td>\n      <td>9</td>\n      <td>7</td>\n      <td>2016-09-07</td>\n      <td>14:04:60</td>\n      <td>2016-09-07T14:04:60</td>\n    </tr>\n    <tr>\n      <th>395248</th>\n      <td>395249</td>\n      <td>T00762435</td>\n      <td>A00002603</td>\n      <td>Credit</td>\n      <td>Collection from Another Bank</td>\n      <td>5416.0</td>\n      <td>21964.0</td>\n      <td>Old Age Pension</td>\n      <td>Goldman Sachs</td>\n      <td>27247029.0</td>\n      <td>2016</td>\n      <td>10</td>\n      <td>7</td>\n      <td>2016-10-07</td>\n      <td>08:00:32</td>\n      <td>2016-10-07T08:00:32</td>\n    </tr>\n    <tr>\n      <th>...</th>\n      <td>...</td>\n      <td>...</td>\n      <td>...</td>\n      <td>...</td>\n      <td>...</td>\n      <td>...</td>\n      <td>...</td>\n      <td>...</td>\n      <td>...</td>\n      <td>...</td>\n      <td>...</td>\n      <td>...</td>\n      <td>...</td>\n      <td>...</td>\n      <td>...</td>\n      <td>...</td>\n    </tr>\n    <tr>\n      <th>1032917</th>\n      <td>1032918</td>\n      <td>T00762578</td>\n      <td>A00002603</td>\n      <td>Debit</td>\n      <td>Cash Withdrawal</td>\n      <td>2400.0</td>\n      <td>29198.5</td>\n      <td>NaN</td>\n      <td>NaN</td>\n      <td>NaN</td>\n      <td>2018</td>\n      <td>12</td>\n      <td>1</td>\n      <td>2018-12-01</td>\n      <td>13:17:07</td>\n      <td>2018-12-01T13:17:07</td>\n    </tr>\n    <tr>\n      <th>1034746</th>\n      <td>1034747</td>\n      <td>T00762506</td>\n      <td>A00002603</td>\n      <td>Debit</td>\n      <td>Cash Withdrawal</td>\n      <td>500.0</td>\n      <td>28698.5</td>\n      <td>NaN</td>\n      <td>NaN</td>\n      <td>NaN</td>\n      <td>2018</td>\n      <td>12</td>\n      <td>5</td>\n      <td>2018-12-05</td>\n      <td>16:28:20</td>\n      <td>2018-12-05T16:28:20</td>\n    </tr>\n    <tr>\n      <th>1037341</th>\n      <td>1037342</td>\n      <td>T00762461</td>\n      <td>A00002603</td>\n      <td>Credit</td>\n      <td>Collection from Another Bank</td>\n      <td>5416.0</td>\n      <td>34114.5</td>\n      <td>Old Age Pension</td>\n      <td>Goldman Sachs</td>\n      <td>27247029.0</td>\n      <td>2018</td>\n      <td>12</td>\n      <td>7</td>\n      <td>2018-12-07</td>\n      <td>12:47:45</td>\n      <td>2018-12-07T12:47:45</td>\n    </tr>\n    <tr>\n      <th>1038573</th>\n      <td>1038574</td>\n      <td>T00762497</td>\n      <td>A00002603</td>\n      <td>Debit</td>\n      <td>Remittance to Another Bank</td>\n      <td>3210.0</td>\n      <td>30904.5</td>\n      <td>Household</td>\n      <td>Capital One</td>\n      <td>30168819.0</td>\n      <td>2018</td>\n      <td>12</td>\n      <td>8</td>\n      <td>2018-12-08</td>\n      <td>10:11:31</td>\n      <td>2018-12-08T10:11:31</td>\n    </tr>\n    <tr>\n      <th>1053807</th>\n      <td>1053808</td>\n      <td>T03616535</td>\n      <td>A00002603</td>\n      <td>Credit</td>\n      <td>NaN</td>\n      <td>128.5</td>\n      <td>31033.0</td>\n      <td>Interest Credited</td>\n      <td>NaN</td>\n      <td>NaN</td>\n      <td>2018</td>\n      <td>12</td>\n      <td>31</td>\n      <td>2018-12-31</td>\n      <td>12:41:15</td>\n      <td>2018-12-31T12:41:15</td>\n    </tr>\n  </tbody>\n</table>\n<p>138 rows × 16 columns</p>\n</div>"
     },
     "execution_count": 7,
     "metadata": {},
     "output_type": "execute_result"
    }
   ],
   "source": [
    "df_trx[df_trx[\"account_id\"]==\"A00002603\"]"
   ],
   "metadata": {
    "collapsed": false,
    "ExecuteTime": {
     "end_time": "2023-12-30T09:27:22.139956Z",
     "start_time": "2023-12-30T09:27:22.131058Z"
    }
   }
  },
  {
   "cell_type": "code",
   "execution_count": 8,
   "outputs": [
    {
     "data": {
      "text/plain": "operation\nCash Withdrawal                 434918\nRemittance to Another Bank      208283\nCredit in Cash                  156743\nCollection from Another Bank     65226\nCredit Card Withdrawal            8036\nName: count, dtype: int64"
     },
     "execution_count": 8,
     "metadata": {},
     "output_type": "execute_result"
    }
   ],
   "source": [
    "df_trx[\"operation\"].value_counts()"
   ],
   "metadata": {
    "collapsed": false,
    "ExecuteTime": {
     "end_time": "2023-12-30T09:27:23.131536Z",
     "start_time": "2023-12-30T09:27:23.126349Z"
    }
   }
  },
  {
   "cell_type": "code",
   "execution_count": null,
   "outputs": [],
   "source": [],
   "metadata": {
    "collapsed": false
   }
  },
  {
   "cell_type": "code",
   "execution_count": null,
   "outputs": [],
   "source": [],
   "metadata": {
    "collapsed": false
   }
  }
 ],
 "metadata": {
  "kernelspec": {
   "display_name": "Python 3",
   "language": "python",
   "name": "python3"
  },
  "language_info": {
   "codemirror_mode": {
    "name": "ipython",
    "version": 2
   },
   "file_extension": ".py",
   "mimetype": "text/x-python",
   "name": "python",
   "nbconvert_exporter": "python",
   "pygments_lexer": "ipython2",
   "version": "2.7.6"
  }
 },
 "nbformat": 4,
 "nbformat_minor": 0
}
