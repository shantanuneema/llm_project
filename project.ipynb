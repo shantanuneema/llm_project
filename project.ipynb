{
 "cells": [
  {
   "cell_type": "code",
   "execution_count": 1,
   "id": "1758ba4e",
   "metadata": {
    "ExecuteTime": {
     "end_time": "2024-01-06T19:34:38.835416Z",
     "start_time": "2024-01-06T19:34:38.436816Z"
    }
   },
   "outputs": [],
   "source": [
    "import pandas as pd\n",
    "import numpy as np\n",
    "\n",
    "from datetime import datetime\n",
    "import sqlite3\n",
    "import itertools"
   ]
  },
  {
   "cell_type": "code",
   "execution_count": 2,
   "id": "b7738aa6",
   "metadata": {
    "ExecuteTime": {
     "end_time": "2024-01-06T19:34:40.946716Z",
     "start_time": "2024-01-06T19:34:38.872278Z"
    }
   },
   "outputs": [],
   "source": [
    "df = pd.read_csv('data/Crash_Reporting_-_Drivers_Data.csv', low_memory=False)\n",
    "\n",
    "cols_to_drop = ['Report Number', 'Local Case Number','Latitude','Longitude',\n",
    "                'Off-Road Description', 'Municipality','Related Non-Motorist',\n",
    "                'Non-Motorist Substance Abuse', 'Circumstance']\n",
    "\n",
    "df.drop(cols_to_drop, axis=1, inplace=True)\n",
    "\n",
    "d = {'Agency Name': str,\n",
    " 'ACRS Report Type': str,\n",
    " 'Crash Date/Time': 'datetime64[ns]',\n",
    " 'Route Type': str,\n",
    " 'Road Name': 'ignore',\n",
    " 'Cross-Street Type': str,\n",
    " 'Cross-Street Name': 'ignore',\n",
    " 'Collision Type': str,\n",
    " 'Weather': str,\n",
    " 'Surface Condition': str,\n",
    " 'Light': str,\n",
    " 'Traffic Control': str,\n",
    " 'Driver Substance Abuse': str,\n",
    " 'Person ID': 'ignore',\n",
    " 'Driver At Fault': str,\n",
    " 'Injury Severity': str,\n",
    " 'Driver Distracted By': str,\n",
    " 'Drivers License State': str,\n",
    " 'Vehicle ID': 'ignore',\n",
    " 'Vehicle Damage Extent': str,\n",
    " 'Vehicle First Impact Location': str,\n",
    " 'Vehicle Second Impact Location': str,\n",
    " 'Vehicle Body Type': str,\n",
    " 'Vehicle Movement': str,\n",
    " 'Vehicle Continuing Dir': str,\n",
    " 'Vehicle Going Dir': str,\n",
    " 'Speed Limit': float,\n",
    " 'Driverless Vehicle': 'ignore',\n",
    " 'Parked Vehicle': 'ignore',\n",
    " 'Vehicle Year': float,\n",
    " 'Vehicle Make': str,\n",
    " 'Vehicle Model': str,\n",
    " 'Equipment Problems': 'ignore',\n",
    " 'Location': str}"
   ]
  },
  {
   "cell_type": "code",
   "execution_count": 3,
   "id": "be7175cc",
   "metadata": {
    "ExecuteTime": {
     "end_time": "2024-01-06T19:34:46.938652Z",
     "start_time": "2024-01-06T19:34:41.000919Z"
    }
   },
   "outputs": [],
   "source": [
    "for key, value in d.items():\n",
    "    if value != 'ignore':\n",
    "        df[key] = df[key].astype(value)\n",
    "    else:\n",
    "        df.drop(key, axis=1, inplace=True)\n",
    "\n",
    "df['Crash Date'] = df['Crash Date/Time'].dt.date\n",
    "df['Crash Time'] = df['Crash Date/Time'].dt.time\n",
    "df.drop('Crash Date/Time', axis=1, inplace=True)\n",
    "\n",
    "df[\"Driver At Fault\"].replace({\"Yes\": 1, \"No\": 0, \"Unknown\": 0}, inplace=True)\n",
    "df.loc[df[\"Vehicle Year\"]==0.0, \"Vehicle Year\"] = np.nan\n",
    "\n",
    "df.columns = [col.replace(\" \", \"_\").lower() for col in df.columns]"
   ]
  },
  {
   "cell_type": "markdown",
   "id": "2c7e3c23",
   "metadata": {},
   "source": [
    "### SQL Queries"
   ]
  },
  {
   "cell_type": "code",
   "execution_count": 4,
   "id": "90be2547",
   "metadata": {
    "ExecuteTime": {
     "end_time": "2024-01-06T19:34:57.662585Z",
     "start_time": "2024-01-06T19:34:56.244481Z"
    }
   },
   "outputs": [
    {
     "name": "stdout",
     "output_type": "stream",
     "text": [
      "what is the avg driver_at_fault: 0.5371414533713912\n",
      "what is the avg speed_limit: 32.55188105376445\n",
      "what is the avg vehicle_year: 2013.0279753778352\n",
      "what is the min driver_at_fault: 0\n",
      "what is the min speed_limit: 0.0\n",
      "what is the min vehicle_year: 1.0\n",
      "what is the max driver_at_fault: 1\n",
      "what is the max speed_limit: 75.0\n",
      "what is the max vehicle_year: 9999.0\n",
      "what is the sum driver_at_fault: 91834\n",
      "what is the sum speed_limit: 5565330.0\n",
      "what is the sum vehicle_year: 336183724.0\n"
     ]
    }
   ],
   "source": [
    "# Connect to an in-memory SQLite database\n",
    "conn = sqlite3.connect(':memory:')\n",
    "# Insert the Pandas DataFrame into the SQLite database\n",
    "df.to_sql('crash_data', conn, index=False)\n",
    "num_functions = ['avg', 'min', 'max', 'sum']\n",
    "\n",
    "# only numerical\n",
    "for func in num_functions:\n",
    "    for col in df.select_dtypes(include=['float','int']).columns:\n",
    "        query = f\"SELECT {func}({col}) as {col} from crash_data\"\n",
    "        print(f\"what is the {func} {col}: {pd.read_sql_query(query, conn).iat[0, 0]}\")"
   ]
  },
  {
   "cell_type": "code",
   "execution_count": 7,
   "outputs": [
    {
     "data": {
      "text/plain": "   driver_at_fault\n0                1\n1                0\n2                1\n3                1\n4                1",
      "text/html": "<div>\n<style scoped>\n    .dataframe tbody tr th:only-of-type {\n        vertical-align: middle;\n    }\n\n    .dataframe tbody tr th {\n        vertical-align: top;\n    }\n\n    .dataframe thead th {\n        text-align: right;\n    }\n</style>\n<table border=\"1\" class=\"dataframe\">\n  <thead>\n    <tr style=\"text-align: right;\">\n      <th></th>\n      <th>driver_at_fault</th>\n    </tr>\n  </thead>\n  <tbody>\n    <tr>\n      <th>0</th>\n      <td>1</td>\n    </tr>\n    <tr>\n      <th>1</th>\n      <td>0</td>\n    </tr>\n    <tr>\n      <th>2</th>\n      <td>1</td>\n    </tr>\n    <tr>\n      <th>3</th>\n      <td>1</td>\n    </tr>\n    <tr>\n      <th>4</th>\n      <td>1</td>\n    </tr>\n  </tbody>\n</table>\n</div>"
     },
     "execution_count": 7,
     "metadata": {},
     "output_type": "execute_result"
    }
   ],
   "source": [
    "cat_cols = [\"vehicle_make\", \"injury_severity\", \"vehicle_continuing_dir\"]\n",
    "num_cols = [\"speed_limit\", \"vehicle_year\"]\n",
    "date_cols = [\"crash_date\"]\n",
    "bin_cols = [\"driver_at_fault\"]\n",
    "\n",
    "df[bin_cols].head()"
   ],
   "metadata": {
    "collapsed": false,
    "ExecuteTime": {
     "end_time": "2024-01-06T19:39:46.157929Z",
     "start_time": "2024-01-06T19:39:46.153697Z"
    }
   }
  },
  {
   "cell_type": "code",
   "execution_count": null,
   "id": "1dcf1a08",
   "metadata": {},
   "outputs": [],
   "source": [
    "\"\"\"\n",
    "categorical: by category level\n",
    "numerical: by average, max, min and total\n",
    "date: by year, by month\n",
    "binary: when present or not (x 2) for every binary\n",
    "\n",
    "#2 dim\n",
    "num with num        : what is avg vehicle year and avg speed limit\n",
    "num with binary     : what is avg speed limit when driver was (at fault / not at fault)\n",
    "cat with binary     : what is injury severity when driver was at fault\n",
    "cat with cat        : what is injury severity by vehicle make\n",
    "num with cat        : what is avg speed limit by injury severity\n",
    "num with date       : what is avg speed limit by month/year\n",
    "cat with date       : what is vehicle make by month\n",
    "binary with date    : how many times driver was at fault by year\n",
    "\n",
    "#3 give some thought about 3 dimensions (limit)\n",
    "#4 check with some other clean datasets\n",
    "\n",
    "\"\"\""
   ]
  },
  {
   "cell_type": "code",
   "execution_count": 9,
   "id": "b7b02ffc",
   "metadata": {
    "ExecuteTime": {
     "end_time": "2024-01-06T19:46:32.938037Z",
     "start_time": "2024-01-06T19:46:32.929646Z"
    }
   },
   "outputs": [
    {
     "data": {
      "text/plain": "[('speed_limit', 'driver_at_fault'), ('vehicle_year', 'driver_at_fault')]"
     },
     "execution_count": 9,
     "metadata": {},
     "output_type": "execute_result"
    }
   ],
   "source": [
    "list(itertools.product(num_cols, bin_cols))"
   ]
  },
  {
   "cell_type": "code",
   "execution_count": null,
   "outputs": [],
   "source": [
    "# what is the average speed limit\n",
    "col = \"speed_limit\"\n",
    "query = f\"SELECT avg({col}) as average_speed from crash_data\"\n",
    "pd.read_sql_query(query, conn).iat[0, 0]"
   ],
   "metadata": {
    "collapsed": false
   }
  },
  {
   "cell_type": "code",
   "execution_count": null,
   "id": "fb0beccd",
   "metadata": {},
   "outputs": [],
   "source": [
    "combinations = list(itertools.combinations(num_cols, 2))\n",
    "num_functions = ['min', 'max', 'avg', 'total']\n",
    "all_perm = list(itertools.permutations(num_functions, 2))\n",
    "all_perm.extend([(f, f) for f in num_functions])"
   ]
  },
  {
   "cell_type": "code",
   "execution_count": null,
   "id": "64c524d9",
   "metadata": {},
   "outputs": [],
   "source": [
    "from copy import copy\n",
    "combinations = list(itertools.combinations(num_cols, 2))\n",
    "\n",
    "num_functions = ['min', 'max', 'avg', 'total']\n",
    "all_perm = list(itertools.permutations(num_functions, 2))\n",
    "full_perm = copy(all_perm)\n",
    "full_perm.extend([(f, f) for f in num_functions])\n",
    "\n",
    "count = 0\n",
    "# for just one numerical feature\n",
    "if len(num_cols) == 1:\n",
    "    for f1, f2 in all_perm:\n",
    "        for c in num_cols:\n",
    "            query = f\"SELECT {f1}({c}) as {f1}_{c}, {f2}({c}) as {f2}_{c} from crash_data\"\n",
    "            print(f\"what is {f1} {c} and {f2} {c}: {pd.read_sql_query(query, conn)}\")\n",
    "            count+=1\n",
    "\n",
    "else:\n",
    "    # numerical with numerical\n",
    "    for f1, f2 in all_perm:\n",
    "        for c1, c2 in combinations:\n",
    "            query1 = f\"SELECT {f1}({c1}) as {f1}_{c1}, {f2}({c1}) as {f2}_{c1} from crash_data\"\n",
    "            print(f\"what is {f1} {c1} and {f2} {c1}: {pd.read_sql_query(query1, conn)}\")\n",
    "            query2 = f\"SELECT {f1}({c2}) as {f1}_{c2}, {f2}({c2}) as {f2}_{c2} from crash_data\"\n",
    "            print(f\"what is {f1} {c2} and {f2} {c2}: {pd.read_sql_query(query2, conn)}\")\n",
    "            query3 = f\"SELECT {f1}({c1}) as {f1}_{c1}, {f2}({c2}) as {f2}_{c2} from crash_data\"\n",
    "            print(f\"what is {f1} {c1} and {f2} {c2}: {pd.read_sql_query(query3, conn)}\")\n",
    "            query4 = f\"SELECT {f1}({c2}) as {f1}_{c2}, {f2}({c1}) as {f2}_{c1} from crash_data\"\n",
    "            print(f\"what is {f1} {c2} and {f2} {c1}: {pd.read_sql_query(query4, conn)}\")\n",
    "            count+=4\n",
    "\n",
    "# numerical with binary\n",
    "for func in num_functions:\n",
    "    for col in num_cols:\n",
    "        for cond in bin_cols:\n",
    "            print(f\"what is {func} {col} when {cond}\")\n",
    "            print(f\"what is {func} {col} when not {cond}\")\n",
    "            count+=2\n",
    "\n",
    "# categorical with binary\n",
    "for col in cat_cols:\n",
    "    for cond in bin_cols:\n",
    "        print(f\"what {col} has most counts when {cond}\")\n",
    "        print(f\"what {col} has least counts when {cond}\")\n",
    "        for n in range(1, 3):\n",
    "            print(f\"what are the top {n+1} {col} when {cond}\")\n",
    "        count+=4\n",
    "\n",
    "# categorical with categorical\n",
    "for i in cat_cols:\n",
    "    for j in cat_cols:\n",
    "        if j!= i:\n",
    "            print(f\"what is the most {j} by {i}\")\n",
    "            print(f\"what is the least {j} by {i}\")\n",
    "            count+=2\n",
    "\n",
    "# numerical with categorical\n",
    "for func in num_functions:\n",
    "    for num_col in num_cols:\n",
    "        for cat_col in cat_cols:\n",
    "            print(f\"what is {func} {num_col} by {cat_col}\")\n",
    "            count+=1\n",
    "\n",
    "dates = ['month', 'year']\n",
    "# numerical with date\n",
    "for func in num_functions:\n",
    "    for num_col in num_cols:\n",
    "        for date_col in date_cols:\n",
    "            print(f\"what is {func} {num_col} by {date_col} {dates[0]}\")\n",
    "            print(f\"what is {func} {num_col} by {date_col} {dates[1]}\")\n",
    "            print(f\"what is {func} {num_col} by {date_col} {dates[0]} and {dates[1]}\")\n",
    "            count+=3\n",
    "\n",
    "# categorical with date\n",
    "for cat_col in cat_cols:\n",
    "    for date_col in date_cols:\n",
    "        print(f\"what is most {cat_col} by {date_col} {dates[0]}\")\n",
    "        print(f\"what is least {cat_col} by {date_col} {dates[1]}\")\n",
    "        print(f\"what is most {cat_col} by {date_col} {dates[0]} and {dates[1]}\")\n",
    "        print(f\"what is most {cat_col} by {date_col} {dates[0]}\")\n",
    "        print(f\"what is least {cat_col} by {date_col} {dates[1]}\")\n",
    "        print(f\"what is least {cat_col} by {date_col} {dates[0]} and {dates[1]}\")\n",
    "        count+=6\n",
    "        for n in range(1, 3):\n",
    "            print(f\"what are the top {n+1} {cat_col} by {dates[0]}\")\n",
    "            print(f\"what are the top {n+1} {cat_col} by {dates[1]}\")\n",
    "            count+=2\n",
    "\n",
    "# date with binary\n",
    "for col in bin_cols:\n",
    "    print(f\"which {dates[0]} has most {j}\")\n",
    "    print(f\"which {dates[0]} has least {j}\")\n",
    "    print(f\"which {dates[1]} has most {j}\")\n",
    "    print(f\"which {dates[1]} has least {j}\")\n",
    "    print(f\"which {dates[0]} and {dates[1]} has most {j}\")\n",
    "    print(f\"which {dates[0]} and {dates[1]} has least {j}\")\n",
    "    count+=6"
   ]
  },
  {
   "cell_type": "code",
   "execution_count": null,
   "outputs": [],
   "source": [
    "count"
   ],
   "metadata": {
    "collapsed": false
   }
  },
  {
   "cell_type": "code",
   "execution_count": null,
   "outputs": [],
   "source": [
    "df['month_year'] = df[\"\"]"
   ],
   "metadata": {
    "collapsed": false
   }
  },
  {
   "cell_type": "code",
   "execution_count": null,
   "outputs": [],
   "source": [
    "num_functions"
   ],
   "metadata": {
    "collapsed": false
   }
  },
  {
   "cell_type": "code",
   "execution_count": null,
   "outputs": [],
   "source": [
    "for cat_col in cat_cols:\n",
    "    for date_col in date_cols:\n",
    "        print(f\"what is most {cat_col} by {date_col} {dates[0]}\")\n",
    "        print(f\"what is least {cat_col} by {date_col} {dates[1]}\")\n",
    "        print(f\"what is most {cat_col} by {date_col} {dates[0]} and {dates[1]}\")\n",
    "        print(f\"what is most {cat_col} by {date_col} {dates[0]}\")\n",
    "        print(f\"what is least {cat_col} by {date_col} {dates[1]}\")\n",
    "        print(f\"what is least {cat_col} by {date_col} {dates[0]} and {dates[1]}\")\n",
    "        for n in range(1, 3):\n",
    "            print(f\"what are the top {n+1} {cat_col} by {dates[0]}\")\n",
    "            print(f\"what are the top {n+1} {cat_col} by {dates[1]}\")"
   ],
   "metadata": {
    "collapsed": false
   }
  },
  {
   "cell_type": "code",
   "execution_count": null,
   "id": "d8e623dc",
   "metadata": {},
   "outputs": [],
   "source": [
    "# Karan (make 3 cells with dynamic for loop covering all the questions):\n",
    "# cat with binary     : what is injury severity when driver was at fault\n",
    "# num with cat        : what is avg speed limit by injury severity\n",
    "#\n",
    "# Shantanu (make 4 cells with dynamic for loop covering all the questions)::\n",
    "# num with date       : what is avg speed limit by month/year\n",
    "# cat with cat        : what is injury severity by vehicle make\n",
    "# cat with date       : what is vehicle make by month\n",
    "# binary with date    : how many times driver was at fault by year"
   ]
  },
  {
   "cell_type": "code",
   "execution_count": null,
   "outputs": [],
   "source": [
    "cat_cols, bin_cols"
   ],
   "metadata": {
    "collapsed": false
   }
  },
  {
   "cell_type": "code",
   "execution_count": null,
   "outputs": [],
   "source": [
    "df[\"vehicle_continuing_dir\"].value_counts()"
   ],
   "metadata": {
    "collapsed": false
   }
  },
  {
   "cell_type": "code",
   "execution_count": null,
   "outputs": [],
   "source": [
    "# What vehicle_make has most counts when driver at fault\n",
    "# What was the most injury_severity when driver at fault\n",
    "# What was the vehicle_continuing_dir when driver at fault\n",
    "\n",
    "# What vehicle_make has most counts when driver at no fault\n",
    "# What was the most injury_severity when driver at no fault\n",
    "# What was the vehicle_continuing_dir when driver at no fault\n",
    "\n",
    "# What are the top two vehicle_make when driver at fault\n",
    "# What was the top two injury_severity when driver at fault\n",
    "# What are the top two vehicle_make when driver at no fault\n",
    "# What are the top two injury_severity when driver at no fault"
   ],
   "metadata": {
    "collapsed": false
   }
  },
  {
   "cell_type": "code",
   "execution_count": null,
   "outputs": [],
   "source": [
    "\"\"\"\n",
    "1. generated question based on pandas dataframe (done)\n",
    "2. generated sql queries based on #1\n",
    "3. canonical question based on #1 (chatGPT) - 3x of #1\n",
    "4. LLM Model to convert canonical question to best generated question\n",
    "\n",
    "input = paraphrased question\n",
    "output = best generated question (w/ cosine similarity and w/ LLM) (from #4)\n",
    "result = scores between cosine and LLM (metric)\n",
    "\"\"\""
   ],
   "metadata": {
    "collapsed": false
   }
  },
  {
   "cell_type": "code",
   "execution_count": null,
   "outputs": [],
   "source": [
    "num_functions"
   ],
   "metadata": {
    "collapsed": false
   }
  },
  {
   "cell_type": "code",
   "execution_count": null,
   "outputs": [],
   "source": [],
   "metadata": {
    "collapsed": false
   }
  },
  {
   "cell_type": "code",
   "execution_count": null,
   "outputs": [],
   "source": [],
   "metadata": {
    "collapsed": false
   }
  },
  {
   "cell_type": "code",
   "execution_count": null,
   "outputs": [],
   "source": [],
   "metadata": {
    "collapsed": false
   }
  },
  {
   "cell_type": "code",
   "execution_count": null,
   "id": "734519bd",
   "metadata": {},
   "outputs": [],
   "source": [
    "what is avg and min speed\n",
    "what is avg and min year\n",
    "what is avg year and min speed\n",
    "what is avg speed and min year\n",
    "what is avg and min speed\n",
    "what is avg and min cost\n",
    "what is avg cost and min speed\n",
    "what is avg speed and min cost\n",
    "what is avg and min year\n",
    "what is avg and min cost\n",
    "what is avg cost and min year\n",
    "what is avg year and min cost\n",
    "what is avg and max speed\n",
    "what is avg and max year\n",
    "what is avg year and max speed\n",
    "what is avg speed and max year\n",
    "what is avg and max speed\n",
    "what is avg and max cost\n",
    "what is avg cost and max speed\n",
    "what is avg speed and max cost\n",
    "what is avg and max year\n",
    "what is avg and max cost\n",
    "what is avg cost and max year\n",
    "what is avg year and max cost\n",
    "what is avg and sum speed\n",
    "what is avg and sum year\n",
    "what is avg year and sum speed\n",
    "what is avg speed and sum year\n",
    "what is avg and sum speed\n",
    "what is avg and sum cost\n",
    "what is avg cost and sum speed\n",
    "what is avg speed and sum cost\n",
    "what is avg and sum year\n",
    "what is avg and sum cost\n",
    "what is avg cost and sum year\n",
    "what is avg year and sum cost\n",
    "what is min and avg speed\n",
    "what is min and avg year\n",
    "what is min year and avg speed\n",
    "what is min speed and avg year\n",
    "what is min and avg speed\n",
    "what is min and avg cost\n",
    "what is min cost and avg speed\n",
    "what is min speed and avg cost\n",
    "what is min and avg year\n",
    "what is min and avg cost\n",
    "what is min cost and avg year\n",
    "what is min year and avg cost\n",
    "what is min and max speed\n",
    "what is min and max year\n",
    "what is min year and max speed\n",
    "what is min speed and max year\n",
    "what is min and max speed\n",
    "what is min and max cost\n",
    "what is min cost and max speed\n",
    "what is min speed and max cost\n",
    "what is min and max year\n",
    "what is min and max cost\n",
    "what is min cost and max year\n",
    "what is min year and max cost\n",
    "what is min and sum speed\n",
    "what is min and sum year\n",
    "what is min year and sum speed\n",
    "what is min speed and sum year\n",
    "what is min and sum speed\n",
    "what is min and sum cost\n",
    "what is min cost and sum speed\n",
    "what is min speed and sum cost\n",
    "what is min and sum year\n",
    "what is min and sum cost\n",
    "what is min cost and sum year\n",
    "what is min year and sum cost\n",
    "what is max and avg speed\n",
    "what is max and avg year\n",
    "what is max year and avg speed\n",
    "what is max speed and avg year\n",
    "what is max and avg speed\n",
    "what is max and avg cost\n",
    "what is max cost and avg speed\n",
    "what is max speed and avg cost\n",
    "what is max and avg year\n",
    "what is max and avg cost\n",
    "what is max cost and avg year\n",
    "what is max year and avg cost\n",
    "what is max and min speed\n",
    "what is max and min year\n",
    "what is max year and min speed\n",
    "what is max speed and min year\n",
    "what is max and min speed\n",
    "what is max and min cost\n",
    "what is max cost and min speed\n",
    "what is max speed and min cost\n",
    "what is max and min year\n",
    "what is max and min cost\n",
    "what is max cost and min year\n",
    "what is max year and min cost\n",
    "what is max and sum speed\n",
    "what is max and sum year\n",
    "what is max year and sum speed\n",
    "what is max speed and sum year\n",
    "what is max and sum speed\n",
    "what is max and sum cost\n",
    "what is max cost and sum speed\n",
    "what is max speed and sum cost\n",
    "what is max and sum year\n",
    "what is max and sum cost\n",
    "what is max cost and sum year\n",
    "what is max year and sum cost\n",
    "what is sum and avg speed\n",
    "what is sum and avg year\n",
    "what is sum year and avg speed\n",
    "what is sum speed and avg year\n",
    "what is sum and avg speed\n",
    "what is sum and avg cost\n",
    "what is sum cost and avg speed\n",
    "what is sum speed and avg cost\n",
    "what is sum and avg year\n",
    "what is sum and avg cost\n",
    "what is sum cost and avg year\n",
    "what is sum year and avg cost\n",
    "what is sum and min speed\n",
    "what is sum and min year\n",
    "what is sum year and min speed\n",
    "what is sum speed and min year\n",
    "what is sum and min speed\n",
    "what is sum and min cost\n",
    "what is sum cost and min speed\n",
    "what is sum speed and min cost\n",
    "what is sum and min year\n",
    "what is sum and min cost\n",
    "what is sum cost and min year\n",
    "what is sum year and min cost\n",
    "what is sum and max speed\n",
    "what is sum and max year\n",
    "what is sum year and max speed\n",
    "what is sum speed and max year\n",
    "what is sum and max speed\n",
    "what is sum and max cost\n",
    "what is sum cost and max speed\n",
    "what is sum speed and max cost\n",
    "what is sum and max year\n",
    "what is sum and max cost\n",
    "what is sum cost and max year\n",
    "what is sum year and max cost\n",
    "what is avg and avg speed\n",
    "what is avg and avg year\n",
    "what is avg year and avg speed\n",
    "what is avg speed and avg year\n",
    "what is avg and avg speed\n",
    "what is avg and avg cost\n",
    "what is avg cost and avg speed\n",
    "what is avg speed and avg cost\n",
    "what is avg and avg year\n",
    "what is avg and avg cost\n",
    "what is avg cost and avg year\n",
    "what is avg year and avg cost\n",
    "what is min and min speed\n",
    "what is min and min year\n",
    "what is min year and min speed\n",
    "what is min speed and min year\n",
    "what is min and min speed\n",
    "what is min and min cost\n",
    "what is min cost and min speed\n",
    "what is min speed and min cost\n",
    "what is min and min year\n",
    "what is min and min cost\n",
    "what is min cost and min year\n",
    "what is min year and min cost\n",
    "what is max and max speed\n",
    "what is max and max year\n",
    "what is max year and max speed\n",
    "what is max speed and max year\n",
    "what is max and max speed\n",
    "what is max and max cost\n",
    "what is max cost and max speed\n",
    "what is max speed and max cost\n",
    "what is max and max year\n",
    "what is max and max cost\n",
    "what is max cost and max year\n",
    "what is max year and max cost\n",
    "what is sum and sum speed\n",
    "what is sum and sum year\n",
    "what is sum year and sum speed\n",
    "what is sum speed and sum year\n",
    "what is sum and sum speed\n",
    "what is sum and sum cost\n",
    "what is sum cost and sum speed\n",
    "what is sum speed and sum cost\n",
    "what is sum and sum year\n",
    "what is sum and sum cost\n",
    "what is sum cost and sum year\n",
    "what is sum year and sum cost\n",
    "​"
   ]
  }
 ],
 "metadata": {
  "kernelspec": {
   "display_name": "Python (Similarity)",
   "language": "python",
   "name": "similarity-search"
  },
  "language_info": {
   "codemirror_mode": {
    "name": "ipython",
    "version": 3
   },
   "file_extension": ".py",
   "mimetype": "text/x-python",
   "name": "python",
   "nbconvert_exporter": "python",
   "pygments_lexer": "ipython3",
   "version": "3.9.16"
  },
  "varInspector": {
   "cols": {
    "lenName": 16,
    "lenType": 16,
    "lenVar": 40
   },
   "kernels_config": {
    "python": {
     "delete_cmd_postfix": "",
     "delete_cmd_prefix": "del ",
     "library": "var_list.py",
     "varRefreshCmd": "print(var_dic_list())"
    },
    "r": {
     "delete_cmd_postfix": ") ",
     "delete_cmd_prefix": "rm(",
     "library": "var_list.r",
     "varRefreshCmd": "cat(var_dic_list()) "
    }
   },
   "types_to_exclude": [
    "module",
    "function",
    "builtin_function_or_method",
    "instance",
    "_Feature"
   ],
   "window_display": false
  }
 },
 "nbformat": 4,
 "nbformat_minor": 5
}
