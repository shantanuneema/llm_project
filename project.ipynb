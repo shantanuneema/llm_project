{
 "cells": [
  {
   "cell_type": "code",
   "execution_count": 1,
   "id": "1758ba4e",
   "metadata": {
    "ExecuteTime": {
     "end_time": "2023-12-16T18:58:12.412875Z",
     "start_time": "2023-12-16T18:58:11.717188Z"
    }
   },
   "outputs": [],
   "source": [
    "import pandas as pd\n",
    "import numpy as np\n",
    "\n",
    "from datetime import datetime\n",
    "import sqlite3\n",
    "import itertools"
   ]
  },
  {
   "cell_type": "code",
   "execution_count": 2,
   "id": "b7738aa6",
   "metadata": {
    "ExecuteTime": {
     "end_time": "2023-12-16T18:58:14.628619Z",
     "start_time": "2023-12-16T18:58:13.152655Z"
    }
   },
   "outputs": [],
   "source": [
    "df = pd.read_csv('data/Crash_Reporting_-_Drivers_Data.csv', low_memory=False)\n",
    "\n",
    "cols_to_drop = ['Report Number', 'Local Case Number','Latitude','Longitude',\n",
    "                'Off-Road Description', 'Municipality','Related Non-Motorist',\n",
    "                'Non-Motorist Substance Abuse', 'Circumstance']\n",
    "\n",
    "df.drop(cols_to_drop, axis=1, inplace=True)"
   ]
  },
  {
   "cell_type": "code",
   "execution_count": 3,
   "id": "90ef480c",
   "metadata": {
    "ExecuteTime": {
     "end_time": "2023-12-16T18:58:15.454067Z",
     "start_time": "2023-12-16T18:58:15.443719Z"
    }
   },
   "outputs": [],
   "source": [
    "col_datatypes = {}\n",
    "\n",
    "for i in df.columns:\n",
    "    col_datatypes[i] = type(i)"
   ]
  },
  {
   "cell_type": "code",
   "execution_count": 4,
   "id": "bdf3b290",
   "metadata": {
    "ExecuteTime": {
     "end_time": "2023-12-16T18:58:17.241337Z",
     "start_time": "2023-12-16T18:58:17.231868Z"
    }
   },
   "outputs": [],
   "source": [
    "d = {'Agency Name': str,\n",
    " 'ACRS Report Type': str,\n",
    " 'Crash Date/Time': 'datetime64[ns]',\n",
    " 'Route Type': str,\n",
    " 'Road Name': 'ignore',\n",
    " 'Cross-Street Type': str,\n",
    " 'Cross-Street Name': 'ignore',\n",
    " 'Collision Type': str,\n",
    " 'Weather': str,\n",
    " 'Surface Condition': str,\n",
    " 'Light': str,\n",
    " 'Traffic Control': str,\n",
    " 'Driver Substance Abuse': str,\n",
    " 'Person ID': 'ignore',\n",
    " 'Driver At Fault': str,\n",
    " 'Injury Severity': str,\n",
    " 'Driver Distracted By': str,\n",
    " 'Drivers License State': str,\n",
    " 'Vehicle ID': 'ignore',\n",
    " 'Vehicle Damage Extent': str,\n",
    " 'Vehicle First Impact Location': str,\n",
    " 'Vehicle Second Impact Location': str,\n",
    " 'Vehicle Body Type': str,\n",
    " 'Vehicle Movement': str,\n",
    " 'Vehicle Continuing Dir': str,\n",
    " 'Vehicle Going Dir': str,\n",
    " 'Speed Limit': float,\n",
    " 'Driverless Vehicle': 'ignore',\n",
    " 'Parked Vehicle': 'ignore',\n",
    " 'Vehicle Year': float,\n",
    " 'Vehicle Make': str,\n",
    " 'Vehicle Model': str,\n",
    " 'Equipment Problems': 'ignore',\n",
    " 'Location': str}"
   ]
  },
  {
   "cell_type": "code",
   "execution_count": 5,
   "id": "be7175cc",
   "metadata": {
    "ExecuteTime": {
     "end_time": "2023-12-16T18:58:25.937884Z",
     "start_time": "2023-12-16T18:58:21.393848Z"
    }
   },
   "outputs": [],
   "source": [
    "for key, value in d.items():\n",
    "    if value != 'ignore':\n",
    "        df[key] = df[key].astype(value)\n",
    "    else:\n",
    "        df.drop(key, axis=1, inplace=True)\n",
    "\n",
    "# df['speed_limit'] = df['Speed Limit']\n",
    "df['Crash Date'] = df['Crash Date/Time'].dt.date\n",
    "df['Crash Time'] = df['Crash Date/Time'].dt.time\n",
    "df.drop('Crash Date/Time', axis=1, inplace=True)"
   ]
  },
  {
   "cell_type": "code",
   "execution_count": 6,
   "id": "fd59c0c5",
   "metadata": {
    "ExecuteTime": {
     "end_time": "2023-12-16T18:58:25.947405Z",
     "start_time": "2023-12-16T18:58:25.936131Z"
    }
   },
   "outputs": [
    {
     "data": {
      "text/plain": "NO APPARENT INJURY          140232\nPOSSIBLE INJURY              17367\nSUSPECTED MINOR INJURY       11805\nSUSPECTED SERIOUS INJURY      1411\nFATAL INJURY                   153\nName: Injury Severity, dtype: int64"
     },
     "execution_count": 6,
     "metadata": {},
     "output_type": "execute_result"
    }
   ],
   "source": [
    "df[\"Injury Severity\"].value_counts()"
   ]
  },
  {
   "cell_type": "code",
   "execution_count": 7,
   "id": "c1e24447",
   "metadata": {
    "ExecuteTime": {
     "end_time": "2023-12-16T18:58:25.984434Z",
     "start_time": "2023-12-16T18:58:25.951301Z"
    }
   },
   "outputs": [],
   "source": [
    "df[\"Driver At Fault\"].replace({\"Yes\": 1, \"No\": 0, \"Unknown\": 0}, inplace=True)"
   ]
  },
  {
   "cell_type": "code",
   "execution_count": 8,
   "id": "07ae48b8",
   "metadata": {
    "ExecuteTime": {
     "end_time": "2023-12-16T18:58:25.984655Z",
     "start_time": "2023-12-16T18:58:25.981458Z"
    }
   },
   "outputs": [],
   "source": [
    "df.columns = [col.replace(\" \", \"_\").lower() for col in df.columns]"
   ]
  },
  {
   "cell_type": "markdown",
   "id": "2c7e3c23",
   "metadata": {},
   "source": [
    "### SQL Queries"
   ]
  },
  {
   "cell_type": "code",
   "execution_count": 9,
   "id": "6bead6f7",
   "metadata": {
    "ExecuteTime": {
     "end_time": "2023-12-16T18:58:32.045303Z",
     "start_time": "2023-12-16T18:58:31.221790Z"
    }
   },
   "outputs": [
    {
     "data": {
      "text/plain": "170968"
     },
     "execution_count": 9,
     "metadata": {},
     "output_type": "execute_result"
    }
   ],
   "source": []
  },
  {
   "cell_type": "code",
   "execution_count": 10,
   "id": "f92309f1",
   "metadata": {
    "ExecuteTime": {
     "end_time": "2023-12-16T18:58:35.707260Z",
     "start_time": "2023-12-16T18:58:35.684003Z"
    }
   },
   "outputs": [
    {
     "name": "stdout",
     "output_type": "stream",
     "text": [
      "   speed_limit\n",
      "0         15.0\n",
      "1         40.0\n",
      "2         35.0\n",
      "3         40.0\n",
      "4         35.0\n",
      "5         30.0\n",
      "6         25.0\n",
      "7         35.0\n",
      "8         35.0\n",
      "9         30.0\n"
     ]
    }
   ],
   "source": [
    "query = \"SELECT Speed_Limit from crash_data limit 10\"\n",
    "result = pd.read_sql_query(query, conn)\n",
    "print(result)"
   ]
  },
  {
   "cell_type": "markdown",
   "id": "c1934580",
   "metadata": {},
   "source": [
    "### 1. What is the sum, average, count of a given column"
   ]
  },
  {
   "cell_type": "code",
   "execution_count": 15,
   "outputs": [],
   "source": [
    "df.loc[df[\"vehicle_year\"]==0.0, \"vehicle_year\"] = np.nan"
   ],
   "metadata": {
    "collapsed": false,
    "ExecuteTime": {
     "end_time": "2023-12-16T18:59:06.209818Z",
     "start_time": "2023-12-16T18:59:06.197078Z"
    }
   }
  },
  {
   "cell_type": "code",
   "execution_count": 18,
   "outputs": [
    {
     "data": {
      "text/plain": "NaN       15700\n2015.0    11769\n2014.0    11579\n2016.0    11121\n2013.0    10891\n2012.0     9281\n2017.0     9002\n2011.0     8335\n2007.0     7888\n2008.0     7866\n2010.0     7390\n2006.0     7390\n2009.0     6757\n2018.0     6673\n2005.0     6477\n2004.0     6128\n2019.0     5405\n2003.0     5341\n2002.0     4263\n2001.0     3472\n2020.0     3424\n2021.0     2529\n2022.0     1608\n2023.0      679\nName: vehicle_year, dtype: int64"
     },
     "execution_count": 18,
     "metadata": {},
     "output_type": "execute_result"
    }
   ],
   "source": [
    "df.loc[(df[\"vehicle_year\"]<=2000) | (df[\"vehicle_year\"] > pd.to_datetime(\"today\").year), \"vehicle_year\"] = np.nan\n",
    "\n",
    "df[\"vehicle_year\"].value_counts(dropna=False)"
   ],
   "metadata": {
    "collapsed": false,
    "ExecuteTime": {
     "end_time": "2023-12-16T18:59:55.843407Z",
     "start_time": "2023-12-16T18:59:55.834705Z"
    }
   }
  },
  {
   "cell_type": "code",
   "execution_count": 30,
   "id": "90be2547",
   "metadata": {
    "ExecuteTime": {
     "end_time": "2023-12-16T19:04:20.894607Z",
     "start_time": "2023-12-16T19:04:19.371671Z"
    }
   },
   "outputs": [
    {
     "name": "stdout",
     "output_type": "stream",
     "text": [
      "what is the avg driver_at_fault: 0.5371414533713912\n",
      "what is the avg speed_limit: 32.55188105376445\n",
      "what is the avg vehicle_year: 2011.5397699461575\n",
      "what is the min driver_at_fault: 0\n",
      "what is the min speed_limit: 0.0\n",
      "what is the min vehicle_year: 2001.0\n",
      "what is the max driver_at_fault: 1\n",
      "what is the max speed_limit: 75.0\n",
      "what is the max vehicle_year: 2023.0\n",
      "what is the sum driver_at_fault: 91834\n",
      "what is the sum speed_limit: 5565330.0\n",
      "what is the sum vehicle_year: 312327757.0\n"
     ]
    }
   ],
   "source": [
    "# Connect to an in-memory SQLite database\n",
    "conn = sqlite3.connect(':memory:')\n",
    "# Insert the Pandas DataFrame into the SQLite database\n",
    "df.to_sql('crash_data', conn, index=False)\n",
    "num_functions = ['avg', 'min', 'max', 'sum']\n",
    "\n",
    "for func in num_functions:\n",
    "    for col in df.select_dtypes(include=['float','int']).columns:\n",
    "        query = f\"SELECT {func}({col}) as {col} from crash_data\"\n",
    "        print(f\"what is the {func} {col}: {pd.read_sql_query(query, conn).iat[0, 0]}\")"
   ]
  },
  {
   "cell_type": "code",
   "execution_count": 42,
   "id": "1dcf1a08",
   "metadata": {
    "ExecuteTime": {
     "end_time": "2023-12-16T19:09:56.687767Z",
     "start_time": "2023-12-16T19:09:56.675870Z"
    }
   },
   "outputs": [
    {
     "data": {
      "text/plain": "'\\ncategorical: by category level\\nnumerical: by average, max, min and total\\ndate: by year, by month\\nbinary: when present or not (x 2) for every binary\\n\\n#2 dim\\nnum with num        : what is avg vehicle year and avg speed limit\\n\\nnum with binary     : what is avg speed limit when driver was (at fault / not at fault)\\nnum with cat        : what is avg speed limit by injury severity\\nnum with date       : what is avg speed limit by month/year\\ncat with cat        : what is injury severity by vehicle make\\ncat with binary     : what is injury severity when driver was at fault\\ncat with date       : what is vehicle make by month\\nbinary with date    : how many times driver was at fault by year\\n\\n'"
     },
     "execution_count": 42,
     "metadata": {},
     "output_type": "execute_result"
    }
   ],
   "source": [
    "cat_cols = [\"vehicle_make\", \"injury_severity\", \"vehicle_continuing_dir\"]\n",
    "num_cols = [\"speed_limit\", \"vehicle_year\"]\n",
    "date_cols = [\"crash_date\"]\n",
    "bin_cols = [\"driver_at_fault\"]\n",
    "\n",
    "\"\"\"\n",
    "categorical: by category level\n",
    "numerical: by average, max, min and total\n",
    "date: by year, by month\n",
    "binary: when present or not (x 2) for every binary\n",
    "\n",
    "#2 dim\n",
    "num with num        : what is avg vehicle year and avg speed limit\n",
    "num with binary     : what is avg speed limit when driver was (at fault / not at fault)\n",
    "\n",
    "num with cat        : what is avg speed limit by injury severity\n",
    "num with date       : what is avg speed limit by month/year\n",
    "cat with cat        : what is injury severity by vehicle make\n",
    "cat with binary     : what is injury severity when driver was at fault\n",
    "cat with date       : what is vehicle make by month\n",
    "binary with date    : how many times driver was at fault by year\n",
    "\n",
    "\"\"\"\n",
    "\n",
    "# for f in num_functions:\n",
    "#     for num in num_cols:\n",
    "#         print(f\"what is {f} \")"
   ]
  },
  {
   "cell_type": "code",
   "execution_count": 23,
   "id": "b7b02ffc",
   "metadata": {
    "ExecuteTime": {
     "end_time": "2023-12-16T19:01:49.685821Z",
     "start_time": "2023-12-16T19:01:49.673693Z"
    }
   },
   "outputs": [
    {
     "data": {
      "text/plain": "[('speed_limit', 'driver_at_fault'), ('vehicle_year', 'driver_at_fault')]"
     },
     "execution_count": 23,
     "metadata": {},
     "output_type": "execute_result"
    }
   ],
   "source": [
    "list(itertools.product(num_cols, bin_cols))"
   ]
  },
  {
   "cell_type": "code",
   "execution_count": 29,
   "outputs": [
    {
     "data": {
      "text/plain": "32.55188105376445"
     },
     "execution_count": 29,
     "metadata": {},
     "output_type": "execute_result"
    }
   ],
   "source": [
    "# what is the average speed limit\n",
    "col = \"speed_limit\"\n",
    "query = f\"SELECT avg({col}) as average_speed from crash_data\"\n",
    "pd.read_sql_query(query, conn).iat[0, 0]"
   ],
   "metadata": {
    "collapsed": false,
    "ExecuteTime": {
     "end_time": "2023-12-16T19:04:04.783732Z",
     "start_time": "2023-12-16T19:04:04.737043Z"
    }
   }
  },
  {
   "cell_type": "code",
   "execution_count": 24,
   "id": "fb0beccd",
   "metadata": {
    "ExecuteTime": {
     "end_time": "2023-12-16T19:01:54.880225Z",
     "start_time": "2023-12-16T19:01:54.874852Z"
    }
   },
   "outputs": [],
   "source": [
    "combinations = list(itertools.combinations(num_cols, 2))\n",
    "num_functions = ['min', 'max', 'avg', 'total']\n",
    "all_perm = list(itertools.permutations(num_functions, 2))\n",
    "all_perm.extend([(f, f) for f in num_functions])"
   ]
  },
  {
   "cell_type": "code",
   "execution_count": 45,
   "outputs": [
    {
     "data": {
      "text/plain": "[('min', 'max'),\n ('min', 'avg'),\n ('min', 'total'),\n ('max', 'min'),\n ('max', 'avg'),\n ('max', 'total'),\n ('avg', 'min'),\n ('avg', 'max'),\n ('avg', 'total'),\n ('total', 'min'),\n ('total', 'max'),\n ('total', 'avg'),\n ('min', 'min'),\n ('max', 'max'),\n ('avg', 'avg'),\n ('total', 'total')]"
     },
     "execution_count": 45,
     "metadata": {},
     "output_type": "execute_result"
    }
   ],
   "source": [
    "full_perm"
   ],
   "metadata": {
    "collapsed": false,
    "ExecuteTime": {
     "end_time": "2023-12-16T19:10:36.489771Z",
     "start_time": "2023-12-16T19:10:36.474812Z"
    }
   }
  },
  {
   "cell_type": "code",
   "execution_count": 53,
   "id": "64c524d9",
   "metadata": {
    "ExecuteTime": {
     "end_time": "2023-12-16T19:15:46.375469Z",
     "start_time": "2023-12-16T19:15:45.687355Z"
    }
   },
   "outputs": [
    {
     "name": "stdout",
     "output_type": "stream",
     "text": [
      "what is min speed_limit and max speed_limit:    min_speed_limit  max_speed_limit\n",
      "0              0.0             75.0\n",
      "what is min vehicle_year and max vehicle_year:    min_vehicle_year  max_vehicle_year\n",
      "0            2001.0            2023.0\n",
      "what is min speed_limit and max vehicle_year:    min_speed_limit  max_vehicle_year\n",
      "0              0.0            2023.0\n",
      "what is min vehicle_year and max speed_limit:    min_vehicle_year  max_speed_limit\n",
      "0            2001.0             75.0\n",
      "what is min speed_limit and avg speed_limit:    min_speed_limit  avg_speed_limit\n",
      "0              0.0        32.551881\n",
      "what is min vehicle_year and avg vehicle_year:    min_vehicle_year  avg_vehicle_year\n",
      "0            2001.0        2011.53977\n",
      "what is min speed_limit and avg vehicle_year:    min_speed_limit  avg_vehicle_year\n",
      "0              0.0        2011.53977\n",
      "what is min vehicle_year and avg speed_limit:    min_vehicle_year  avg_speed_limit\n",
      "0            2001.0        32.551881\n",
      "what is min speed_limit and total speed_limit:    min_speed_limit  total_speed_limit\n",
      "0              0.0          5565330.0\n",
      "what is min vehicle_year and total vehicle_year:    min_vehicle_year  total_vehicle_year\n",
      "0            2001.0         312327757.0\n",
      "what is min speed_limit and total vehicle_year:    min_speed_limit  total_vehicle_year\n",
      "0              0.0         312327757.0\n",
      "what is min vehicle_year and total speed_limit:    min_vehicle_year  total_speed_limit\n",
      "0            2001.0          5565330.0\n",
      "what is max speed_limit and min speed_limit:    max_speed_limit  min_speed_limit\n",
      "0             75.0              0.0\n",
      "what is max vehicle_year and min vehicle_year:    max_vehicle_year  min_vehicle_year\n",
      "0            2023.0            2001.0\n",
      "what is max speed_limit and min vehicle_year:    max_speed_limit  min_vehicle_year\n",
      "0             75.0            2001.0\n",
      "what is max vehicle_year and min speed_limit:    max_vehicle_year  min_speed_limit\n",
      "0            2023.0              0.0\n",
      "what is max speed_limit and avg speed_limit:    max_speed_limit  avg_speed_limit\n",
      "0             75.0        32.551881\n",
      "what is max vehicle_year and avg vehicle_year:    max_vehicle_year  avg_vehicle_year\n",
      "0            2023.0        2011.53977\n",
      "what is max speed_limit and avg vehicle_year:    max_speed_limit  avg_vehicle_year\n",
      "0             75.0        2011.53977\n",
      "what is max vehicle_year and avg speed_limit:    max_vehicle_year  avg_speed_limit\n",
      "0            2023.0        32.551881\n",
      "what is max speed_limit and total speed_limit:    max_speed_limit  total_speed_limit\n",
      "0             75.0          5565330.0\n",
      "what is max vehicle_year and total vehicle_year:    max_vehicle_year  total_vehicle_year\n",
      "0            2023.0         312327757.0\n",
      "what is max speed_limit and total vehicle_year:    max_speed_limit  total_vehicle_year\n",
      "0             75.0         312327757.0\n",
      "what is max vehicle_year and total speed_limit:    max_vehicle_year  total_speed_limit\n",
      "0            2023.0          5565330.0\n",
      "what is avg speed_limit and min speed_limit:    avg_speed_limit  min_speed_limit\n",
      "0        32.551881              0.0\n",
      "what is avg vehicle_year and min vehicle_year:    avg_vehicle_year  min_vehicle_year\n",
      "0        2011.53977            2001.0\n",
      "what is avg speed_limit and min vehicle_year:    avg_speed_limit  min_vehicle_year\n",
      "0        32.551881            2001.0\n",
      "what is avg vehicle_year and min speed_limit:    avg_vehicle_year  min_speed_limit\n",
      "0        2011.53977              0.0\n",
      "what is avg speed_limit and max speed_limit:    avg_speed_limit  max_speed_limit\n",
      "0        32.551881             75.0\n",
      "what is avg vehicle_year and max vehicle_year:    avg_vehicle_year  max_vehicle_year\n",
      "0        2011.53977            2023.0\n",
      "what is avg speed_limit and max vehicle_year:    avg_speed_limit  max_vehicle_year\n",
      "0        32.551881            2023.0\n",
      "what is avg vehicle_year and max speed_limit:    avg_vehicle_year  max_speed_limit\n",
      "0        2011.53977             75.0\n",
      "what is avg speed_limit and total speed_limit:    avg_speed_limit  total_speed_limit\n",
      "0        32.551881          5565330.0\n",
      "what is avg vehicle_year and total vehicle_year:    avg_vehicle_year  total_vehicle_year\n",
      "0        2011.53977         312327757.0\n",
      "what is avg speed_limit and total vehicle_year:    avg_speed_limit  total_vehicle_year\n",
      "0        32.551881         312327757.0\n",
      "what is avg vehicle_year and total speed_limit:    avg_vehicle_year  total_speed_limit\n",
      "0        2011.53977          5565330.0\n",
      "what is total speed_limit and min speed_limit:    total_speed_limit  min_speed_limit\n",
      "0          5565330.0              0.0\n",
      "what is total vehicle_year and min vehicle_year:    total_vehicle_year  min_vehicle_year\n",
      "0         312327757.0            2001.0\n",
      "what is total speed_limit and min vehicle_year:    total_speed_limit  min_vehicle_year\n",
      "0          5565330.0            2001.0\n",
      "what is total vehicle_year and min speed_limit:    total_vehicle_year  min_speed_limit\n",
      "0         312327757.0              0.0\n",
      "what is total speed_limit and max speed_limit:    total_speed_limit  max_speed_limit\n",
      "0          5565330.0             75.0\n",
      "what is total vehicle_year and max vehicle_year:    total_vehicle_year  max_vehicle_year\n",
      "0         312327757.0            2023.0\n",
      "what is total speed_limit and max vehicle_year:    total_speed_limit  max_vehicle_year\n",
      "0          5565330.0            2023.0\n",
      "what is total vehicle_year and max speed_limit:    total_vehicle_year  max_speed_limit\n",
      "0         312327757.0             75.0\n",
      "what is total speed_limit and avg speed_limit:    total_speed_limit  avg_speed_limit\n",
      "0          5565330.0        32.551881\n",
      "what is total vehicle_year and avg vehicle_year:    total_vehicle_year  avg_vehicle_year\n",
      "0         312327757.0        2011.53977\n",
      "what is total speed_limit and avg vehicle_year:    total_speed_limit  avg_vehicle_year\n",
      "0          5565330.0        2011.53977\n",
      "what is total vehicle_year and avg speed_limit:    total_vehicle_year  avg_speed_limit\n",
      "0         312327757.0        32.551881\n"
     ]
    }
   ],
   "source": [
    "from copy import copy\n",
    "combinations = list(itertools.combinations(num_cols, 2))\n",
    "\n",
    "num_functions = ['min', 'max', 'avg', 'total']\n",
    "all_perm = list(itertools.permutations(num_functions, 2))\n",
    "full_perm = copy(all_perm)\n",
    "full_perm.extend([(f, f) for f in num_functions])\n",
    "\n",
    "# for just one numerical feature\n",
    "if len(num_cols) == 1:\n",
    "    for f1, f2 in all_perm:\n",
    "        for c in num_cols:\n",
    "            query = f\"SELECT {f1}({c}) as {f1}_{c}, {f2}({c}) as {f2}_{c} from crash_data\"\n",
    "            print(f\"what is {f1} {c} and {f2} {c}: {pd.read_sql_query(query, conn)}\")\n",
    "\n",
    "else:\n",
    "    for f1, f2 in all_perm:\n",
    "        for c1, c2 in combinations:\n",
    "            query1 = f\"SELECT {f1}({c1}) as {f1}_{c1}, {f2}({c1}) as {f2}_{c1} from crash_data\"\n",
    "            print(f\"what is {f1} {c1} and {f2} {c1}: {pd.read_sql_query(query1, conn)}\")\n",
    "            query2 = f\"SELECT {f1}({c2}) as {f1}_{c2}, {f2}({c2}) as {f2}_{c2} from crash_data\"\n",
    "            print(f\"what is {f1} {c2} and {f2} {c2}: {pd.read_sql_query(query2, conn)}\")\n",
    "            query3 = f\"SELECT {f1}({c1}) as {f1}_{c1}, {f2}({c2}) as {f2}_{c2} from crash_data\"\n",
    "            print(f\"what is {f1} {c1} and {f2} {c2}: {pd.read_sql_query(query3, conn)}\")\n",
    "            query4 = f\"SELECT {f1}({c2}) as {f1}_{c2}, {f2}({c1}) as {f2}_{c1} from crash_data\"\n",
    "            print(f\"what is {f1} {c2} and {f2} {c1}: {pd.read_sql_query(query4, conn)}\")"
   ]
  },
  {
   "cell_type": "code",
   "execution_count": 41,
   "outputs": [
    {
     "data": {
      "text/plain": "   total_speed_limit  avg_speed_limit\n0          5565330.0        32.551881",
      "text/html": "<div>\n<style scoped>\n    .dataframe tbody tr th:only-of-type {\n        vertical-align: middle;\n    }\n\n    .dataframe tbody tr th {\n        vertical-align: top;\n    }\n\n    .dataframe thead th {\n        text-align: right;\n    }\n</style>\n<table border=\"1\" class=\"dataframe\">\n  <thead>\n    <tr style=\"text-align: right;\">\n      <th></th>\n      <th>total_speed_limit</th>\n      <th>avg_speed_limit</th>\n    </tr>\n  </thead>\n  <tbody>\n    <tr>\n      <th>0</th>\n      <td>5565330.0</td>\n      <td>32.551881</td>\n    </tr>\n  </tbody>\n</table>\n</div>"
     },
     "execution_count": 41,
     "metadata": {},
     "output_type": "execute_result"
    }
   ],
   "source": [
    "pd.read_sql_query(query, conn)"
   ],
   "metadata": {
    "collapsed": false,
    "ExecuteTime": {
     "end_time": "2023-12-16T19:09:20.996927Z",
     "start_time": "2023-12-16T19:09:20.945431Z"
    }
   }
  },
  {
   "cell_type": "code",
   "execution_count": 46,
   "outputs": [
    {
     "data": {
      "text/plain": "[('min', 'max'),\n ('min', 'avg'),\n ('min', 'total'),\n ('max', 'min'),\n ('max', 'avg'),\n ('max', 'total'),\n ('avg', 'min'),\n ('avg', 'max'),\n ('avg', 'total'),\n ('total', 'min'),\n ('total', 'max'),\n ('total', 'avg')]"
     },
     "execution_count": 46,
     "metadata": {},
     "output_type": "execute_result"
    }
   ],
   "source": [
    "all_perm"
   ],
   "metadata": {
    "collapsed": false,
    "ExecuteTime": {
     "end_time": "2023-12-16T19:11:21.316829Z",
     "start_time": "2023-12-16T19:11:21.309033Z"
    }
   }
  },
  {
   "cell_type": "code",
   "execution_count": 48,
   "id": "ae3bdf6b",
   "metadata": {
    "ExecuteTime": {
     "end_time": "2023-12-16T19:11:40.742167Z",
     "start_time": "2023-12-16T19:11:40.720081Z"
    }
   },
   "outputs": [
    {
     "data": {
      "text/plain": "(12, 16)"
     },
     "execution_count": 48,
     "metadata": {},
     "output_type": "execute_result"
    }
   ],
   "source": [
    "len(all_perm), len(full_perm)"
   ]
  },
  {
   "cell_type": "code",
   "execution_count": null,
   "id": "d8e623dc",
   "metadata": {},
   "outputs": [],
   "source": []
  },
  {
   "cell_type": "code",
   "execution_count": null,
   "id": "734519bd",
   "metadata": {},
   "outputs": [],
   "source": [
    "what is avg and min speed\n",
    "what is avg and min year\n",
    "what is avg year and min speed\n",
    "what is avg speed and min year\n",
    "what is avg and min speed\n",
    "what is avg and min cost\n",
    "what is avg cost and min speed\n",
    "what is avg speed and min cost\n",
    "what is avg and min year\n",
    "what is avg and min cost\n",
    "what is avg cost and min year\n",
    "what is avg year and min cost\n",
    "what is avg and max speed\n",
    "what is avg and max year\n",
    "what is avg year and max speed\n",
    "what is avg speed and max year\n",
    "what is avg and max speed\n",
    "what is avg and max cost\n",
    "what is avg cost and max speed\n",
    "what is avg speed and max cost\n",
    "what is avg and max year\n",
    "what is avg and max cost\n",
    "what is avg cost and max year\n",
    "what is avg year and max cost\n",
    "what is avg and sum speed\n",
    "what is avg and sum year\n",
    "what is avg year and sum speed\n",
    "what is avg speed and sum year\n",
    "what is avg and sum speed\n",
    "what is avg and sum cost\n",
    "what is avg cost and sum speed\n",
    "what is avg speed and sum cost\n",
    "what is avg and sum year\n",
    "what is avg and sum cost\n",
    "what is avg cost and sum year\n",
    "what is avg year and sum cost\n",
    "what is min and avg speed\n",
    "what is min and avg year\n",
    "what is min year and avg speed\n",
    "what is min speed and avg year\n",
    "what is min and avg speed\n",
    "what is min and avg cost\n",
    "what is min cost and avg speed\n",
    "what is min speed and avg cost\n",
    "what is min and avg year\n",
    "what is min and avg cost\n",
    "what is min cost and avg year\n",
    "what is min year and avg cost\n",
    "what is min and max speed\n",
    "what is min and max year\n",
    "what is min year and max speed\n",
    "what is min speed and max year\n",
    "what is min and max speed\n",
    "what is min and max cost\n",
    "what is min cost and max speed\n",
    "what is min speed and max cost\n",
    "what is min and max year\n",
    "what is min and max cost\n",
    "what is min cost and max year\n",
    "what is min year and max cost\n",
    "what is min and sum speed\n",
    "what is min and sum year\n",
    "what is min year and sum speed\n",
    "what is min speed and sum year\n",
    "what is min and sum speed\n",
    "what is min and sum cost\n",
    "what is min cost and sum speed\n",
    "what is min speed and sum cost\n",
    "what is min and sum year\n",
    "what is min and sum cost\n",
    "what is min cost and sum year\n",
    "what is min year and sum cost\n",
    "what is max and avg speed\n",
    "what is max and avg year\n",
    "what is max year and avg speed\n",
    "what is max speed and avg year\n",
    "what is max and avg speed\n",
    "what is max and avg cost\n",
    "what is max cost and avg speed\n",
    "what is max speed and avg cost\n",
    "what is max and avg year\n",
    "what is max and avg cost\n",
    "what is max cost and avg year\n",
    "what is max year and avg cost\n",
    "what is max and min speed\n",
    "what is max and min year\n",
    "what is max year and min speed\n",
    "what is max speed and min year\n",
    "what is max and min speed\n",
    "what is max and min cost\n",
    "what is max cost and min speed\n",
    "what is max speed and min cost\n",
    "what is max and min year\n",
    "what is max and min cost\n",
    "what is max cost and min year\n",
    "what is max year and min cost\n",
    "what is max and sum speed\n",
    "what is max and sum year\n",
    "what is max year and sum speed\n",
    "what is max speed and sum year\n",
    "what is max and sum speed\n",
    "what is max and sum cost\n",
    "what is max cost and sum speed\n",
    "what is max speed and sum cost\n",
    "what is max and sum year\n",
    "what is max and sum cost\n",
    "what is max cost and sum year\n",
    "what is max year and sum cost\n",
    "what is sum and avg speed\n",
    "what is sum and avg year\n",
    "what is sum year and avg speed\n",
    "what is sum speed and avg year\n",
    "what is sum and avg speed\n",
    "what is sum and avg cost\n",
    "what is sum cost and avg speed\n",
    "what is sum speed and avg cost\n",
    "what is sum and avg year\n",
    "what is sum and avg cost\n",
    "what is sum cost and avg year\n",
    "what is sum year and avg cost\n",
    "what is sum and min speed\n",
    "what is sum and min year\n",
    "what is sum year and min speed\n",
    "what is sum speed and min year\n",
    "what is sum and min speed\n",
    "what is sum and min cost\n",
    "what is sum cost and min speed\n",
    "what is sum speed and min cost\n",
    "what is sum and min year\n",
    "what is sum and min cost\n",
    "what is sum cost and min year\n",
    "what is sum year and min cost\n",
    "what is sum and max speed\n",
    "what is sum and max year\n",
    "what is sum year and max speed\n",
    "what is sum speed and max year\n",
    "what is sum and max speed\n",
    "what is sum and max cost\n",
    "what is sum cost and max speed\n",
    "what is sum speed and max cost\n",
    "what is sum and max year\n",
    "what is sum and max cost\n",
    "what is sum cost and max year\n",
    "what is sum year and max cost\n",
    "what is avg and avg speed\n",
    "what is avg and avg year\n",
    "what is avg year and avg speed\n",
    "what is avg speed and avg year\n",
    "what is avg and avg speed\n",
    "what is avg and avg cost\n",
    "what is avg cost and avg speed\n",
    "what is avg speed and avg cost\n",
    "what is avg and avg year\n",
    "what is avg and avg cost\n",
    "what is avg cost and avg year\n",
    "what is avg year and avg cost\n",
    "what is min and min speed\n",
    "what is min and min year\n",
    "what is min year and min speed\n",
    "what is min speed and min year\n",
    "what is min and min speed\n",
    "what is min and min cost\n",
    "what is min cost and min speed\n",
    "what is min speed and min cost\n",
    "what is min and min year\n",
    "what is min and min cost\n",
    "what is min cost and min year\n",
    "what is min year and min cost\n",
    "what is max and max speed\n",
    "what is max and max year\n",
    "what is max year and max speed\n",
    "what is max speed and max year\n",
    "what is max and max speed\n",
    "what is max and max cost\n",
    "what is max cost and max speed\n",
    "what is max speed and max cost\n",
    "what is max and max year\n",
    "what is max and max cost\n",
    "what is max cost and max year\n",
    "what is max year and max cost\n",
    "what is sum and sum speed\n",
    "what is sum and sum year\n",
    "what is sum year and sum speed\n",
    "what is sum speed and sum year\n",
    "what is sum and sum speed\n",
    "what is sum and sum cost\n",
    "what is sum cost and sum speed\n",
    "what is sum speed and sum cost\n",
    "what is sum and sum year\n",
    "what is sum and sum cost\n",
    "what is sum cost and sum year\n",
    "what is sum year and sum cost\n",
    "​"
   ]
  }
 ],
 "metadata": {
  "kernelspec": {
   "display_name": "Python (Similarity)",
   "language": "python",
   "name": "similarity-search"
  },
  "language_info": {
   "codemirror_mode": {
    "name": "ipython",
    "version": 3
   },
   "file_extension": ".py",
   "mimetype": "text/x-python",
   "name": "python",
   "nbconvert_exporter": "python",
   "pygments_lexer": "ipython3",
   "version": "3.9.16"
  },
  "varInspector": {
   "cols": {
    "lenName": 16,
    "lenType": 16,
    "lenVar": 40
   },
   "kernels_config": {
    "python": {
     "delete_cmd_postfix": "",
     "delete_cmd_prefix": "del ",
     "library": "var_list.py",
     "varRefreshCmd": "print(var_dic_list())"
    },
    "r": {
     "delete_cmd_postfix": ") ",
     "delete_cmd_prefix": "rm(",
     "library": "var_list.r",
     "varRefreshCmd": "cat(var_dic_list()) "
    }
   },
   "types_to_exclude": [
    "module",
    "function",
    "builtin_function_or_method",
    "instance",
    "_Feature"
   ],
   "window_display": false
  }
 },
 "nbformat": 4,
 "nbformat_minor": 5
}
