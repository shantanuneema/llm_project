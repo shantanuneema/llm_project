{
 "cells": [
  {
   "cell_type": "code",
   "execution_count": 1,
   "id": "1758ba4e",
   "metadata": {},
   "outputs": [],
   "source": [
    "import pandas as pd\n",
    "import numpy as np\n",
    "\n",
    "from datetime import datetime\n",
    "import sqlite3\n",
    "import itertools"
   ]
  },
  {
   "cell_type": "code",
   "execution_count": 4,
   "id": "b7738aa6",
   "metadata": {},
   "outputs": [],
   "source": [
    "df = pd.read_csv('data/Crash_Reporting_-_Drivers_Data.csv', low_memory=False)\n",
    "\n",
    "cols_to_drop = ['Report Number', 'Local Case Number','Latitude','Longitude',\n",
    "                'Off-Road Description', 'Municipality','Related Non-Motorist',\n",
    "                'Non-Motorist Substance Abuse', 'Circumstance']\n",
    "\n",
    "df.drop(cols_to_drop, axis=1, inplace=True)"
   ]
  },
  {
   "cell_type": "code",
   "execution_count": 5,
   "id": "90ef480c",
   "metadata": {},
   "outputs": [],
   "source": [
    "col_datatypes = {}\n",
    "\n",
    "for i in df.columns:\n",
    "    col_datatypes[i] = type(i)"
   ]
  },
  {
   "cell_type": "code",
   "execution_count": 6,
   "id": "bdf3b290",
   "metadata": {},
   "outputs": [],
   "source": [
    "d = {'Agency Name': str,\n",
    " 'ACRS Report Type': str,\n",
    " 'Crash Date/Time': 'datetime64[ns]',\n",
    " 'Route Type': str,\n",
    " 'Road Name': str,\n",
    " 'Cross-Street Type': str,\n",
    " 'Cross-Street Name': str,\n",
    " 'Collision Type': str,\n",
    " 'Weather': str,\n",
    " 'Surface Condition': str,\n",
    " 'Light': str,\n",
    " 'Traffic Control': str,\n",
    " 'Driver Substance Abuse': str,\n",
    " 'Person ID': 'ignore',\n",
    " 'Driver At Fault': str,\n",
    " 'Injury Severity': str,\n",
    " 'Driver Distracted By': str,\n",
    " 'Drivers License State': str,\n",
    " 'Vehicle ID': 'ignore',\n",
    " 'Vehicle Damage Extent': str,\n",
    " 'Vehicle First Impact Location': str,\n",
    " 'Vehicle Second Impact Location': str,\n",
    " 'Vehicle Body Type': str,\n",
    " 'Vehicle Movement': str,\n",
    " 'Vehicle Continuing Dir': str,\n",
    " 'Vehicle Going Dir': str,\n",
    " 'Speed Limit': float,\n",
    " 'Driverless Vehicle': 'ignore',\n",
    " 'Parked Vehicle': 'ignore',\n",
    " 'Vehicle Year': float,\n",
    " 'Vehicle Make': str,\n",
    " 'Vehicle Model': str,\n",
    " 'Equipment Problems': 'ignore',\n",
    " 'Location': str}"
   ]
  },
  {
   "cell_type": "code",
   "execution_count": 7,
   "id": "be7175cc",
   "metadata": {},
   "outputs": [],
   "source": [
    "for key, values in d.items():\n",
    "    if values != 'ignore':\n",
    "        df[key] = df[key].astype(values)\n",
    "    else:\n",
    "        df.drop(key, axis=1, inplace=True)\n",
    "\n",
    "df['Speed_Limit'] = df['Speed Limit']\n",
    "df['Crash Date'] = df['Crash Date/Time'].dt.date\n",
    "df['Crash Time'] = df['Crash Date/Time'].dt.time\n",
    "df.drop('Crash Date/Time', axis=1, inplace=True)"
   ]
  },
  {
   "cell_type": "markdown",
   "id": "2c7e3c23",
   "metadata": {},
   "source": [
    "### SQL Queries"
   ]
  },
  {
   "cell_type": "code",
   "execution_count": 14,
   "id": "6bead6f7",
   "metadata": {},
   "outputs": [
    {
     "data": {
      "text/plain": [
       "167799"
      ]
     },
     "execution_count": 14,
     "metadata": {},
     "output_type": "execute_result"
    }
   ],
   "source": [
    "# Connect to an in-memory SQLite database\n",
    "conn = sqlite3.connect(':memory:')\n",
    "\n",
    "# Insert the Pandas DataFrame into the SQLite database\n",
    "df.to_sql('crash_data', conn, index=False)"
   ]
  },
  {
   "cell_type": "code",
   "execution_count": 13,
   "id": "f92309f1",
   "metadata": {},
   "outputs": [
    {
     "name": "stdout",
     "output_type": "stream",
     "text": [
      "   Speed_Limit\n",
      "0         15.0\n",
      "1          0.0\n",
      "2         35.0\n",
      "3         45.0\n",
      "4         25.0\n",
      "5         35.0\n",
      "6         30.0\n",
      "7         40.0\n",
      "8         35.0\n",
      "9         40.0\n"
     ]
    }
   ],
   "source": [
    "query = \"SELECT Speed_Limit from crash_data limit 10\"\n",
    "result = pd.read_sql_query(query, conn)\n",
    "print(result)"
   ]
  },
  {
   "cell_type": "markdown",
   "id": "c1934580",
   "metadata": {},
   "source": [
    "### 1. What is the sum, average, count of a given column"
   ]
  },
  {
   "cell_type": "code",
   "execution_count": 16,
   "id": "fcbaea23",
   "metadata": {},
   "outputs": [
    {
     "data": {
      "text/html": [
       "<div>\n",
       "<style scoped>\n",
       "    .dataframe tbody tr th:only-of-type {\n",
       "        vertical-align: middle;\n",
       "    }\n",
       "\n",
       "    .dataframe tbody tr th {\n",
       "        vertical-align: top;\n",
       "    }\n",
       "\n",
       "    .dataframe thead th {\n",
       "        text-align: right;\n",
       "    }\n",
       "</style>\n",
       "<table border=\"1\" class=\"dataframe\">\n",
       "  <thead>\n",
       "    <tr style=\"text-align: right;\">\n",
       "      <th></th>\n",
       "      <th>average_speed</th>\n",
       "    </tr>\n",
       "  </thead>\n",
       "  <tbody>\n",
       "    <tr>\n",
       "      <th>0</th>\n",
       "      <td>32.568728</td>\n",
       "    </tr>\n",
       "  </tbody>\n",
       "</table>\n",
       "</div>"
      ],
      "text/plain": [
       "   average_speed\n",
       "0      32.568728"
      ]
     },
     "execution_count": 16,
     "metadata": {},
     "output_type": "execute_result"
    }
   ],
   "source": [
    "# what is the average speed limit\n",
    "col = \"Speed_Limit\"\n",
    "query = f\"SELECT avg({col}) as average_speed from crash_data\"\n",
    "pd.read_sql_query(query,conn)"
   ]
  },
  {
   "cell_type": "code",
   "execution_count": 18,
   "id": "d500d765",
   "metadata": {},
   "outputs": [
    {
     "data": {
      "text/html": [
       "<div>\n",
       "<style scoped>\n",
       "    .dataframe tbody tr th:only-of-type {\n",
       "        vertical-align: middle;\n",
       "    }\n",
       "\n",
       "    .dataframe tbody tr th {\n",
       "        vertical-align: top;\n",
       "    }\n",
       "\n",
       "    .dataframe thead th {\n",
       "        text-align: right;\n",
       "    }\n",
       "</style>\n",
       "<table border=\"1\" class=\"dataframe\">\n",
       "  <thead>\n",
       "    <tr style=\"text-align: right;\">\n",
       "      <th></th>\n",
       "      <th>max_speed</th>\n",
       "      <th>min_speed</th>\n",
       "    </tr>\n",
       "  </thead>\n",
       "  <tbody>\n",
       "    <tr>\n",
       "      <th>0</th>\n",
       "      <td>75.0</td>\n",
       "      <td>0.0</td>\n",
       "    </tr>\n",
       "  </tbody>\n",
       "</table>\n",
       "</div>"
      ],
      "text/plain": [
       "   max_speed  min_speed\n",
       "0       75.0        0.0"
      ]
     },
     "execution_count": 18,
     "metadata": {},
     "output_type": "execute_result"
    }
   ],
   "source": [
    "col = \"Speed_Limit\"\n",
    "query = f\"SELECT max({col}) as max_speed, min({col}) as min_speed from crash_data\"\n",
    "pd.read_sql_query(query,conn)"
   ]
  },
  {
   "cell_type": "code",
   "execution_count": null,
   "id": "90be2547",
   "metadata": {},
   "outputs": [],
   "source": [
    "num_functions = ['avg', 'min', 'max', 'sum']\n",
    "\n",
    "for func in num_functions:\n",
    "    for col in df.select_dtypes(include=['float','int']).columns:\n",
    "        print(f\"what is the {func} {col}\")"
   ]
  },
  {
   "cell_type": "code",
   "execution_count": 27,
   "id": "a6e81bc4",
   "metadata": {},
   "outputs": [
    {
     "ename": "TypeError",
     "evalue": "<class 'datetime.time'> is not convertible to datetime",
     "output_type": "error",
     "traceback": [
      "\u001b[0;31m---------------------------------------------------------------------------\u001b[0m",
      "\u001b[0;31mTypeError\u001b[0m                                 Traceback (most recent call last)",
      "Cell \u001b[0;32mIn[27], line 1\u001b[0m\n\u001b[0;32m----> 1\u001b[0m \u001b[43mpd\u001b[49m\u001b[38;5;241;43m.\u001b[39;49m\u001b[43mto_datetime\u001b[49m\u001b[43m(\u001b[49m\u001b[43mdf\u001b[49m\u001b[43m[\u001b[49m\u001b[38;5;124;43m\"\u001b[39;49m\u001b[38;5;124;43mCrash Time\u001b[39;49m\u001b[38;5;124;43m\"\u001b[39;49m\u001b[43m]\u001b[49m\u001b[43m)\u001b[49m\n",
      "File \u001b[0;32m~/anaconda3/envs/similarity-search/lib/python3.9/site-packages/pandas/core/tools/datetimes.py:1064\u001b[0m, in \u001b[0;36mto_datetime\u001b[0;34m(arg, errors, dayfirst, yearfirst, utc, format, exact, unit, infer_datetime_format, origin, cache)\u001b[0m\n\u001b[1;32m   1062\u001b[0m             result \u001b[38;5;241m=\u001b[39m arg\u001b[38;5;241m.\u001b[39mtz_localize(tz)\n\u001b[1;32m   1063\u001b[0m \u001b[38;5;28;01melif\u001b[39;00m \u001b[38;5;28misinstance\u001b[39m(arg, ABCSeries):\n\u001b[0;32m-> 1064\u001b[0m     cache_array \u001b[38;5;241m=\u001b[39m \u001b[43m_maybe_cache\u001b[49m\u001b[43m(\u001b[49m\u001b[43marg\u001b[49m\u001b[43m,\u001b[49m\u001b[43m \u001b[49m\u001b[38;5;28;43mformat\u001b[39;49m\u001b[43m,\u001b[49m\u001b[43m \u001b[49m\u001b[43mcache\u001b[49m\u001b[43m,\u001b[49m\u001b[43m \u001b[49m\u001b[43mconvert_listlike\u001b[49m\u001b[43m)\u001b[49m\n\u001b[1;32m   1065\u001b[0m     \u001b[38;5;28;01mif\u001b[39;00m \u001b[38;5;129;01mnot\u001b[39;00m cache_array\u001b[38;5;241m.\u001b[39mempty:\n\u001b[1;32m   1066\u001b[0m         result \u001b[38;5;241m=\u001b[39m arg\u001b[38;5;241m.\u001b[39mmap(cache_array)\n",
      "File \u001b[0;32m~/anaconda3/envs/similarity-search/lib/python3.9/site-packages/pandas/core/tools/datetimes.py:229\u001b[0m, in \u001b[0;36m_maybe_cache\u001b[0;34m(arg, format, cache, convert_listlike)\u001b[0m\n\u001b[1;32m    227\u001b[0m unique_dates \u001b[38;5;241m=\u001b[39m unique(arg)\n\u001b[1;32m    228\u001b[0m \u001b[38;5;28;01mif\u001b[39;00m \u001b[38;5;28mlen\u001b[39m(unique_dates) \u001b[38;5;241m<\u001b[39m \u001b[38;5;28mlen\u001b[39m(arg):\n\u001b[0;32m--> 229\u001b[0m     cache_dates \u001b[38;5;241m=\u001b[39m \u001b[43mconvert_listlike\u001b[49m\u001b[43m(\u001b[49m\u001b[43munique_dates\u001b[49m\u001b[43m,\u001b[49m\u001b[43m \u001b[49m\u001b[38;5;28;43mformat\u001b[39;49m\u001b[43m)\u001b[49m\n\u001b[1;32m    230\u001b[0m     \u001b[38;5;66;03m# GH#45319\u001b[39;00m\n\u001b[1;32m    231\u001b[0m     \u001b[38;5;28;01mtry\u001b[39;00m:\n",
      "File \u001b[0;32m~/anaconda3/envs/similarity-search/lib/python3.9/site-packages/pandas/core/tools/datetimes.py:438\u001b[0m, in \u001b[0;36m_convert_listlike_datetimes\u001b[0;34m(arg, format, name, tz, unit, errors, infer_datetime_format, dayfirst, yearfirst, exact)\u001b[0m\n\u001b[1;32m    436\u001b[0m \u001b[38;5;28;01massert\u001b[39;00m \u001b[38;5;28mformat\u001b[39m \u001b[38;5;129;01mis\u001b[39;00m \u001b[38;5;28;01mNone\u001b[39;00m \u001b[38;5;129;01mor\u001b[39;00m infer_datetime_format\n\u001b[1;32m    437\u001b[0m utc \u001b[38;5;241m=\u001b[39m tz \u001b[38;5;241m==\u001b[39m \u001b[38;5;124m\"\u001b[39m\u001b[38;5;124mutc\u001b[39m\u001b[38;5;124m\"\u001b[39m\n\u001b[0;32m--> 438\u001b[0m result, tz_parsed \u001b[38;5;241m=\u001b[39m \u001b[43mobjects_to_datetime64ns\u001b[49m\u001b[43m(\u001b[49m\n\u001b[1;32m    439\u001b[0m \u001b[43m    \u001b[49m\u001b[43marg\u001b[49m\u001b[43m,\u001b[49m\n\u001b[1;32m    440\u001b[0m \u001b[43m    \u001b[49m\u001b[43mdayfirst\u001b[49m\u001b[38;5;241;43m=\u001b[39;49m\u001b[43mdayfirst\u001b[49m\u001b[43m,\u001b[49m\n\u001b[1;32m    441\u001b[0m \u001b[43m    \u001b[49m\u001b[43myearfirst\u001b[49m\u001b[38;5;241;43m=\u001b[39;49m\u001b[43myearfirst\u001b[49m\u001b[43m,\u001b[49m\n\u001b[1;32m    442\u001b[0m \u001b[43m    \u001b[49m\u001b[43mutc\u001b[49m\u001b[38;5;241;43m=\u001b[39;49m\u001b[43mutc\u001b[49m\u001b[43m,\u001b[49m\n\u001b[1;32m    443\u001b[0m \u001b[43m    \u001b[49m\u001b[43merrors\u001b[49m\u001b[38;5;241;43m=\u001b[39;49m\u001b[43merrors\u001b[49m\u001b[43m,\u001b[49m\n\u001b[1;32m    444\u001b[0m \u001b[43m    \u001b[49m\u001b[43mrequire_iso8601\u001b[49m\u001b[38;5;241;43m=\u001b[39;49m\u001b[43mrequire_iso8601\u001b[49m\u001b[43m,\u001b[49m\n\u001b[1;32m    445\u001b[0m \u001b[43m    \u001b[49m\u001b[43mallow_object\u001b[49m\u001b[38;5;241;43m=\u001b[39;49m\u001b[38;5;28;43;01mTrue\u001b[39;49;00m\u001b[43m,\u001b[49m\n\u001b[1;32m    446\u001b[0m \u001b[43m\u001b[49m\u001b[43m)\u001b[49m\n\u001b[1;32m    448\u001b[0m \u001b[38;5;28;01mif\u001b[39;00m tz_parsed \u001b[38;5;129;01mis\u001b[39;00m \u001b[38;5;129;01mnot\u001b[39;00m \u001b[38;5;28;01mNone\u001b[39;00m:\n\u001b[1;32m    449\u001b[0m     \u001b[38;5;66;03m# We can take a shortcut since the datetime64 numpy array\u001b[39;00m\n\u001b[1;32m    450\u001b[0m     \u001b[38;5;66;03m# is in UTC\u001b[39;00m\n\u001b[1;32m    451\u001b[0m     dta \u001b[38;5;241m=\u001b[39m DatetimeArray(result, dtype\u001b[38;5;241m=\u001b[39mtz_to_dtype(tz_parsed))\n",
      "File \u001b[0;32m~/anaconda3/envs/similarity-search/lib/python3.9/site-packages/pandas/core/arrays/datetimes.py:2177\u001b[0m, in \u001b[0;36mobjects_to_datetime64ns\u001b[0;34m(data, dayfirst, yearfirst, utc, errors, require_iso8601, allow_object, allow_mixed)\u001b[0m\n\u001b[1;32m   2175\u001b[0m order: Literal[\u001b[38;5;124m\"\u001b[39m\u001b[38;5;124mF\u001b[39m\u001b[38;5;124m\"\u001b[39m, \u001b[38;5;124m\"\u001b[39m\u001b[38;5;124mC\u001b[39m\u001b[38;5;124m\"\u001b[39m] \u001b[38;5;241m=\u001b[39m \u001b[38;5;124m\"\u001b[39m\u001b[38;5;124mF\u001b[39m\u001b[38;5;124m\"\u001b[39m \u001b[38;5;28;01mif\u001b[39;00m flags\u001b[38;5;241m.\u001b[39mf_contiguous \u001b[38;5;28;01melse\u001b[39;00m \u001b[38;5;124m\"\u001b[39m\u001b[38;5;124mC\u001b[39m\u001b[38;5;124m\"\u001b[39m\n\u001b[1;32m   2176\u001b[0m \u001b[38;5;28;01mtry\u001b[39;00m:\n\u001b[0;32m-> 2177\u001b[0m     result, tz_parsed \u001b[38;5;241m=\u001b[39m \u001b[43mtslib\u001b[49m\u001b[38;5;241;43m.\u001b[39;49m\u001b[43marray_to_datetime\u001b[49m\u001b[43m(\u001b[49m\n\u001b[1;32m   2178\u001b[0m \u001b[43m        \u001b[49m\u001b[43mdata\u001b[49m\u001b[38;5;241;43m.\u001b[39;49m\u001b[43mravel\u001b[49m\u001b[43m(\u001b[49m\u001b[38;5;124;43m\"\u001b[39;49m\u001b[38;5;124;43mK\u001b[39;49m\u001b[38;5;124;43m\"\u001b[39;49m\u001b[43m)\u001b[49m\u001b[43m,\u001b[49m\n\u001b[1;32m   2179\u001b[0m \u001b[43m        \u001b[49m\u001b[43merrors\u001b[49m\u001b[38;5;241;43m=\u001b[39;49m\u001b[43merrors\u001b[49m\u001b[43m,\u001b[49m\n\u001b[1;32m   2180\u001b[0m \u001b[43m        \u001b[49m\u001b[43mutc\u001b[49m\u001b[38;5;241;43m=\u001b[39;49m\u001b[43mutc\u001b[49m\u001b[43m,\u001b[49m\n\u001b[1;32m   2181\u001b[0m \u001b[43m        \u001b[49m\u001b[43mdayfirst\u001b[49m\u001b[38;5;241;43m=\u001b[39;49m\u001b[43mdayfirst\u001b[49m\u001b[43m,\u001b[49m\n\u001b[1;32m   2182\u001b[0m \u001b[43m        \u001b[49m\u001b[43myearfirst\u001b[49m\u001b[38;5;241;43m=\u001b[39;49m\u001b[43myearfirst\u001b[49m\u001b[43m,\u001b[49m\n\u001b[1;32m   2183\u001b[0m \u001b[43m        \u001b[49m\u001b[43mrequire_iso8601\u001b[49m\u001b[38;5;241;43m=\u001b[39;49m\u001b[43mrequire_iso8601\u001b[49m\u001b[43m,\u001b[49m\n\u001b[1;32m   2184\u001b[0m \u001b[43m        \u001b[49m\u001b[43mallow_mixed\u001b[49m\u001b[38;5;241;43m=\u001b[39;49m\u001b[43mallow_mixed\u001b[49m\u001b[43m,\u001b[49m\n\u001b[1;32m   2185\u001b[0m \u001b[43m    \u001b[49m\u001b[43m)\u001b[49m\n\u001b[1;32m   2186\u001b[0m     result \u001b[38;5;241m=\u001b[39m result\u001b[38;5;241m.\u001b[39mreshape(data\u001b[38;5;241m.\u001b[39mshape, order\u001b[38;5;241m=\u001b[39morder)\n\u001b[1;32m   2187\u001b[0m \u001b[38;5;28;01mexcept\u001b[39;00m \u001b[38;5;167;01mOverflowError\u001b[39;00m \u001b[38;5;28;01mas\u001b[39;00m err:\n\u001b[1;32m   2188\u001b[0m     \u001b[38;5;66;03m# Exception is raised when a part of date is greater than 32 bit signed int\u001b[39;00m\n",
      "File \u001b[0;32m~/anaconda3/envs/similarity-search/lib/python3.9/site-packages/pandas/_libs/tslib.pyx:427\u001b[0m, in \u001b[0;36mpandas._libs.tslib.array_to_datetime\u001b[0;34m()\u001b[0m\n",
      "File \u001b[0;32m~/anaconda3/envs/similarity-search/lib/python3.9/site-packages/pandas/_libs/tslib.pyx:683\u001b[0m, in \u001b[0;36mpandas._libs.tslib.array_to_datetime\u001b[0;34m()\u001b[0m\n",
      "File \u001b[0;32m~/anaconda3/envs/similarity-search/lib/python3.9/site-packages/pandas/_libs/tslib.pyx:833\u001b[0m, in \u001b[0;36mpandas._libs.tslib._array_to_datetime_object\u001b[0;34m()\u001b[0m\n",
      "File \u001b[0;32m~/anaconda3/envs/similarity-search/lib/python3.9/site-packages/pandas/_libs/tslib.pyx:655\u001b[0m, in \u001b[0;36mpandas._libs.tslib.array_to_datetime\u001b[0;34m()\u001b[0m\n",
      "\u001b[0;31mTypeError\u001b[0m: <class 'datetime.time'> is not convertible to datetime"
     ]
    }
   ],
   "source": [
    "pd.to_datetime(df[\"Crash Time\"])"
   ]
  },
  {
   "cell_type": "code",
   "execution_count": null,
   "id": "79dbae3f",
   "metadata": {},
   "outputs": [],
   "source": []
  },
  {
   "cell_type": "code",
   "execution_count": null,
   "id": "f85c03a5",
   "metadata": {},
   "outputs": [],
   "source": []
  },
  {
   "cell_type": "code",
   "execution_count": null,
   "id": "d7918a7c",
   "metadata": {},
   "outputs": [],
   "source": []
  },
  {
   "cell_type": "code",
   "execution_count": null,
   "id": "fc042e69",
   "metadata": {},
   "outputs": [],
   "source": []
  },
  {
   "cell_type": "code",
   "execution_count": 21,
   "id": "b53a2a1b",
   "metadata": {},
   "outputs": [
    {
     "name": "stdout",
     "output_type": "stream",
     "text": [
      "<class 'pandas.core.frame.DataFrame'>\n",
      "RangeIndex: 167799 entries, 0 to 167798\n",
      "Data columns (total 31 columns):\n",
      " #   Column                          Non-Null Count   Dtype  \n",
      "---  ------                          --------------   -----  \n",
      " 0   Agency Name                     167799 non-null  object \n",
      " 1   ACRS Report Type                167799 non-null  object \n",
      " 2   Route Type                      167799 non-null  object \n",
      " 3   Road Name                       167799 non-null  object \n",
      " 4   Cross-Street Type               167799 non-null  object \n",
      " 5   Cross-Street Name               167799 non-null  object \n",
      " 6   Collision Type                  167799 non-null  object \n",
      " 7   Weather                         167799 non-null  object \n",
      " 8   Surface Condition               167799 non-null  object \n",
      " 9   Light                           167799 non-null  object \n",
      " 10  Traffic Control                 167799 non-null  object \n",
      " 11  Driver Substance Abuse          167799 non-null  object \n",
      " 12  Driver At Fault                 167799 non-null  object \n",
      " 13  Injury Severity                 167799 non-null  object \n",
      " 14  Driver Distracted By            167799 non-null  object \n",
      " 15  Drivers License State           167799 non-null  object \n",
      " 16  Vehicle Damage Extent           167799 non-null  object \n",
      " 17  Vehicle First Impact Location   167799 non-null  object \n",
      " 18  Vehicle Second Impact Location  167799 non-null  object \n",
      " 19  Vehicle Body Type               167799 non-null  object \n",
      " 20  Vehicle Movement                167799 non-null  object \n",
      " 21  Vehicle Continuing Dir          167799 non-null  object \n",
      " 22  Vehicle Going Dir               167799 non-null  object \n",
      " 23  Speed Limit                     167799 non-null  float64\n",
      " 24  Vehicle Year                    167799 non-null  float64\n",
      " 25  Vehicle Make                    167799 non-null  object \n",
      " 26  Vehicle Model                   167799 non-null  object \n",
      " 27  Location                        167799 non-null  object \n",
      " 28  Speed_Limit                     167799 non-null  float64\n",
      " 29  Crash Date                      167799 non-null  object \n",
      " 30  Crash Time                      167799 non-null  object \n",
      "dtypes: float64(3), object(28)\n",
      "memory usage: 39.7+ MB\n"
     ]
    }
   ],
   "source": [
    "df.info()"
   ]
  },
  {
   "cell_type": "code",
   "execution_count": 20,
   "id": "35d43a19",
   "metadata": {},
   "outputs": [
    {
     "data": {
      "text/plain": [
       "0         Yes\n",
       "1         Yes\n",
       "2         Yes\n",
       "3          No\n",
       "4         Yes\n",
       "         ... \n",
       "167794     No\n",
       "167795    Yes\n",
       "167796     No\n",
       "167797     No\n",
       "167798    Yes\n",
       "Name: Driver At Fault, Length: 167799, dtype: object"
      ]
     },
     "execution_count": 20,
     "metadata": {},
     "output_type": "execute_result"
    }
   ],
   "source": [
    "cat_cols = \n",
    "num_cols = \n",
    "date_cols = \n",
    "bin_cols = "
   ]
  },
  {
   "cell_type": "code",
   "execution_count": null,
   "id": "64c524d9",
   "metadata": {},
   "outputs": [],
   "source": [
    "num_cols = ['speed','year','cost']\n",
    "\n",
    "combinations = list(itertools.combinations(num_cols, 2))\n",
    "combinations"
   ]
  },
  {
   "cell_type": "code",
   "execution_count": null,
   "id": "e884648d",
   "metadata": {},
   "outputs": [],
   "source": [
    "all_perm = list(itertools.permutations(num_functions, 2))\n",
    "# all_perm.extend([(i,i) for i in num_functions])"
   ]
  },
  {
   "cell_type": "code",
   "execution_count": null,
   "id": "33f65229",
   "metadata": {},
   "outputs": [],
   "source": [
    "all_perm"
   ]
  },
  {
   "cell_type": "code",
   "execution_count": null,
   "id": "799c6671",
   "metadata": {},
   "outputs": [],
   "source": [
    "for f1, f2 in all_perm:\n",
    "    for c1, c2 in combinations:\n",
    "#         print(f\"what is {f1} and {f2} {c1}\")\n",
    "#         print(f\"what is {f1} and {f2} {c2}\")\n",
    "#         print(f\"what is {f1} {c2} and {f2} {c1}\")\n",
    "#         print(f\"what is {f1} {c1} and {f2} {c2}\")\n",
    "        print(f\"{f1}{f2}{c1}\")\n",
    "        print(f\"{f1}{f2}{c2}\")\n",
    "        print(f\"{f1}{c2}{f2}{c1}\")\n",
    "        print(f\"{f1}{c1}{f2}{c2}\")"
   ]
  },
  {
   "cell_type": "code",
   "execution_count": null,
   "id": "d8e623dc",
   "metadata": {},
   "outputs": [],
   "source": []
  },
  {
   "cell_type": "code",
   "execution_count": null,
   "id": "734519bd",
   "metadata": {},
   "outputs": [],
   "source": [
    "what is avg and min speed\n",
    "what is avg and min year\n",
    "what is avg year and min speed\n",
    "what is avg speed and min year\n",
    "what is avg and min speed\n",
    "what is avg and min cost\n",
    "what is avg cost and min speed\n",
    "what is avg speed and min cost\n",
    "what is avg and min year\n",
    "what is avg and min cost\n",
    "what is avg cost and min year\n",
    "what is avg year and min cost\n",
    "what is avg and max speed\n",
    "what is avg and max year\n",
    "what is avg year and max speed\n",
    "what is avg speed and max year\n",
    "what is avg and max speed\n",
    "what is avg and max cost\n",
    "what is avg cost and max speed\n",
    "what is avg speed and max cost\n",
    "what is avg and max year\n",
    "what is avg and max cost\n",
    "what is avg cost and max year\n",
    "what is avg year and max cost\n",
    "what is avg and sum speed\n",
    "what is avg and sum year\n",
    "what is avg year and sum speed\n",
    "what is avg speed and sum year\n",
    "what is avg and sum speed\n",
    "what is avg and sum cost\n",
    "what is avg cost and sum speed\n",
    "what is avg speed and sum cost\n",
    "what is avg and sum year\n",
    "what is avg and sum cost\n",
    "what is avg cost and sum year\n",
    "what is avg year and sum cost\n",
    "what is min and avg speed\n",
    "what is min and avg year\n",
    "what is min year and avg speed\n",
    "what is min speed and avg year\n",
    "what is min and avg speed\n",
    "what is min and avg cost\n",
    "what is min cost and avg speed\n",
    "what is min speed and avg cost\n",
    "what is min and avg year\n",
    "what is min and avg cost\n",
    "what is min cost and avg year\n",
    "what is min year and avg cost\n",
    "what is min and max speed\n",
    "what is min and max year\n",
    "what is min year and max speed\n",
    "what is min speed and max year\n",
    "what is min and max speed\n",
    "what is min and max cost\n",
    "what is min cost and max speed\n",
    "what is min speed and max cost\n",
    "what is min and max year\n",
    "what is min and max cost\n",
    "what is min cost and max year\n",
    "what is min year and max cost\n",
    "what is min and sum speed\n",
    "what is min and sum year\n",
    "what is min year and sum speed\n",
    "what is min speed and sum year\n",
    "what is min and sum speed\n",
    "what is min and sum cost\n",
    "what is min cost and sum speed\n",
    "what is min speed and sum cost\n",
    "what is min and sum year\n",
    "what is min and sum cost\n",
    "what is min cost and sum year\n",
    "what is min year and sum cost\n",
    "what is max and avg speed\n",
    "what is max and avg year\n",
    "what is max year and avg speed\n",
    "what is max speed and avg year\n",
    "what is max and avg speed\n",
    "what is max and avg cost\n",
    "what is max cost and avg speed\n",
    "what is max speed and avg cost\n",
    "what is max and avg year\n",
    "what is max and avg cost\n",
    "what is max cost and avg year\n",
    "what is max year and avg cost\n",
    "what is max and min speed\n",
    "what is max and min year\n",
    "what is max year and min speed\n",
    "what is max speed and min year\n",
    "what is max and min speed\n",
    "what is max and min cost\n",
    "what is max cost and min speed\n",
    "what is max speed and min cost\n",
    "what is max and min year\n",
    "what is max and min cost\n",
    "what is max cost and min year\n",
    "what is max year and min cost\n",
    "what is max and sum speed\n",
    "what is max and sum year\n",
    "what is max year and sum speed\n",
    "what is max speed and sum year\n",
    "what is max and sum speed\n",
    "what is max and sum cost\n",
    "what is max cost and sum speed\n",
    "what is max speed and sum cost\n",
    "what is max and sum year\n",
    "what is max and sum cost\n",
    "what is max cost and sum year\n",
    "what is max year and sum cost\n",
    "what is sum and avg speed\n",
    "what is sum and avg year\n",
    "what is sum year and avg speed\n",
    "what is sum speed and avg year\n",
    "what is sum and avg speed\n",
    "what is sum and avg cost\n",
    "what is sum cost and avg speed\n",
    "what is sum speed and avg cost\n",
    "what is sum and avg year\n",
    "what is sum and avg cost\n",
    "what is sum cost and avg year\n",
    "what is sum year and avg cost\n",
    "what is sum and min speed\n",
    "what is sum and min year\n",
    "what is sum year and min speed\n",
    "what is sum speed and min year\n",
    "what is sum and min speed\n",
    "what is sum and min cost\n",
    "what is sum cost and min speed\n",
    "what is sum speed and min cost\n",
    "what is sum and min year\n",
    "what is sum and min cost\n",
    "what is sum cost and min year\n",
    "what is sum year and min cost\n",
    "what is sum and max speed\n",
    "what is sum and max year\n",
    "what is sum year and max speed\n",
    "what is sum speed and max year\n",
    "what is sum and max speed\n",
    "what is sum and max cost\n",
    "what is sum cost and max speed\n",
    "what is sum speed and max cost\n",
    "what is sum and max year\n",
    "what is sum and max cost\n",
    "what is sum cost and max year\n",
    "what is sum year and max cost\n",
    "what is avg and avg speed\n",
    "what is avg and avg year\n",
    "what is avg year and avg speed\n",
    "what is avg speed and avg year\n",
    "what is avg and avg speed\n",
    "what is avg and avg cost\n",
    "what is avg cost and avg speed\n",
    "what is avg speed and avg cost\n",
    "what is avg and avg year\n",
    "what is avg and avg cost\n",
    "what is avg cost and avg year\n",
    "what is avg year and avg cost\n",
    "what is min and min speed\n",
    "what is min and min year\n",
    "what is min year and min speed\n",
    "what is min speed and min year\n",
    "what is min and min speed\n",
    "what is min and min cost\n",
    "what is min cost and min speed\n",
    "what is min speed and min cost\n",
    "what is min and min year\n",
    "what is min and min cost\n",
    "what is min cost and min year\n",
    "what is min year and min cost\n",
    "what is max and max speed\n",
    "what is max and max year\n",
    "what is max year and max speed\n",
    "what is max speed and max year\n",
    "what is max and max speed\n",
    "what is max and max cost\n",
    "what is max cost and max speed\n",
    "what is max speed and max cost\n",
    "what is max and max year\n",
    "what is max and max cost\n",
    "what is max cost and max year\n",
    "what is max year and max cost\n",
    "what is sum and sum speed\n",
    "what is sum and sum year\n",
    "what is sum year and sum speed\n",
    "what is sum speed and sum year\n",
    "what is sum and sum speed\n",
    "what is sum and sum cost\n",
    "what is sum cost and sum speed\n",
    "what is sum speed and sum cost\n",
    "what is sum and sum year\n",
    "what is sum and sum cost\n",
    "what is sum cost and sum year\n",
    "what is sum year and sum cost\n",
    "​"
   ]
  }
 ],
 "metadata": {
  "kernelspec": {
   "display_name": "Python (Similarity)",
   "language": "python",
   "name": "similarity-search"
  },
  "language_info": {
   "codemirror_mode": {
    "name": "ipython",
    "version": 3
   },
   "file_extension": ".py",
   "mimetype": "text/x-python",
   "name": "python",
   "nbconvert_exporter": "python",
   "pygments_lexer": "ipython3",
   "version": "3.9.16"
  },
  "varInspector": {
   "cols": {
    "lenName": 16,
    "lenType": 16,
    "lenVar": 40
   },
   "kernels_config": {
    "python": {
     "delete_cmd_postfix": "",
     "delete_cmd_prefix": "del ",
     "library": "var_list.py",
     "varRefreshCmd": "print(var_dic_list())"
    },
    "r": {
     "delete_cmd_postfix": ") ",
     "delete_cmd_prefix": "rm(",
     "library": "var_list.r",
     "varRefreshCmd": "cat(var_dic_list()) "
    }
   },
   "types_to_exclude": [
    "module",
    "function",
    "builtin_function_or_method",
    "instance",
    "_Feature"
   ],
   "window_display": false
  }
 },
 "nbformat": 4,
 "nbformat_minor": 5
}
