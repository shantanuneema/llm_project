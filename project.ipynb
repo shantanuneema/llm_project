{
 "cells": [
  {
   "cell_type": "code",
   "execution_count": 1,
   "id": "1758ba4e",
   "metadata": {
    "ExecuteTime": {
     "end_time": "2024-01-06T18:01:44.007362Z",
     "start_time": "2024-01-06T18:01:37.971499Z"
    }
   },
   "outputs": [],
   "source": [
    "import pandas as pd\n",
    "import numpy as np\n",
    "\n",
    "from datetime import datetime\n",
    "import sqlite3\n",
    "import itertools"
   ]
  },
  {
   "cell_type": "code",
   "execution_count": 2,
   "id": "b7738aa6",
   "metadata": {
    "ExecuteTime": {
     "end_time": "2024-01-06T18:01:45.988953Z",
     "start_time": "2024-01-06T18:01:44.008855Z"
    }
   },
   "outputs": [],
   "source": [
    "df = pd.read_csv('data/Crash_Reporting_-_Drivers_Data.csv', low_memory=False)\n",
    "\n",
    "cols_to_drop = ['Report Number', 'Local Case Number','Latitude','Longitude',\n",
    "                'Off-Road Description', 'Municipality','Related Non-Motorist',\n",
    "                'Non-Motorist Substance Abuse', 'Circumstance']\n",
    "\n",
    "df.drop(cols_to_drop, axis=1, inplace=True)"
   ]
  },
  {
   "cell_type": "code",
   "execution_count": 3,
   "id": "90ef480c",
   "metadata": {
    "ExecuteTime": {
     "end_time": "2024-01-06T18:01:45.990834Z",
     "start_time": "2024-01-06T18:01:45.989248Z"
    }
   },
   "outputs": [],
   "source": [
    "col_datatypes = {}\n",
    "\n",
    "for i in df.columns:\n",
    "    col_datatypes[i] = type(i)"
   ]
  },
  {
   "cell_type": "code",
   "execution_count": 4,
   "id": "bdf3b290",
   "metadata": {
    "ExecuteTime": {
     "end_time": "2024-01-06T18:01:45.996740Z",
     "start_time": "2024-01-06T18:01:45.993092Z"
    }
   },
   "outputs": [],
   "source": [
    "d = {'Agency Name': str,\n",
    " 'ACRS Report Type': str,\n",
    " 'Crash Date/Time': 'datetime64[ns]',\n",
    " 'Route Type': str,\n",
    " 'Road Name': 'ignore',\n",
    " 'Cross-Street Type': str,\n",
    " 'Cross-Street Name': 'ignore',\n",
    " 'Collision Type': str,\n",
    " 'Weather': str,\n",
    " 'Surface Condition': str,\n",
    " 'Light': str,\n",
    " 'Traffic Control': str,\n",
    " 'Driver Substance Abuse': str,\n",
    " 'Person ID': 'ignore',\n",
    " 'Driver At Fault': str,\n",
    " 'Injury Severity': str,\n",
    " 'Driver Distracted By': str,\n",
    " 'Drivers License State': str,\n",
    " 'Vehicle ID': 'ignore',\n",
    " 'Vehicle Damage Extent': str,\n",
    " 'Vehicle First Impact Location': str,\n",
    " 'Vehicle Second Impact Location': str,\n",
    " 'Vehicle Body Type': str,\n",
    " 'Vehicle Movement': str,\n",
    " 'Vehicle Continuing Dir': str,\n",
    " 'Vehicle Going Dir': str,\n",
    " 'Speed Limit': float,\n",
    " 'Driverless Vehicle': 'ignore',\n",
    " 'Parked Vehicle': 'ignore',\n",
    " 'Vehicle Year': float,\n",
    " 'Vehicle Make': str,\n",
    " 'Vehicle Model': str,\n",
    " 'Equipment Problems': 'ignore',\n",
    " 'Location': str}"
   ]
  },
  {
   "cell_type": "code",
   "execution_count": 5,
   "id": "be7175cc",
   "metadata": {
    "ExecuteTime": {
     "end_time": "2024-01-06T18:01:49.569952Z",
     "start_time": "2024-01-06T18:01:46.002073Z"
    }
   },
   "outputs": [],
   "source": [
    "for key, value in d.items():\n",
    "    if value != 'ignore':\n",
    "        df[key] = df[key].astype(value)\n",
    "    else:\n",
    "        df.drop(key, axis=1, inplace=True)\n",
    "\n",
    "# df['speed_limit'] = df['Speed Limit']\n",
    "df['Crash Date'] = df['Crash Date/Time'].dt.date\n",
    "df['Crash Time'] = df['Crash Date/Time'].dt.time\n",
    "df.drop('Crash Date/Time', axis=1, inplace=True)"
   ]
  },
  {
   "cell_type": "code",
   "execution_count": 6,
   "id": "fd59c0c5",
   "metadata": {
    "ExecuteTime": {
     "end_time": "2024-01-06T18:01:49.577249Z",
     "start_time": "2024-01-06T18:01:49.575628Z"
    }
   },
   "outputs": [
    {
     "data": {
      "text/plain": "NO APPARENT INJURY          140232\nPOSSIBLE INJURY              17367\nSUSPECTED MINOR INJURY       11805\nSUSPECTED SERIOUS INJURY      1411\nFATAL INJURY                   153\nName: Injury Severity, dtype: int64"
     },
     "execution_count": 6,
     "metadata": {},
     "output_type": "execute_result"
    }
   ],
   "source": [
    "df[\"Injury Severity\"].value_counts()"
   ]
  },
  {
   "cell_type": "code",
   "execution_count": 7,
   "id": "c1e24447",
   "metadata": {
    "ExecuteTime": {
     "end_time": "2024-01-06T18:01:49.613876Z",
     "start_time": "2024-01-06T18:01:49.581058Z"
    }
   },
   "outputs": [],
   "source": [
    "df[\"Driver At Fault\"].replace({\"Yes\": 1, \"No\": 0, \"Unknown\": 0}, inplace=True)"
   ]
  },
  {
   "cell_type": "code",
   "execution_count": 8,
   "id": "07ae48b8",
   "metadata": {
    "ExecuteTime": {
     "end_time": "2024-01-06T18:01:49.620671Z",
     "start_time": "2024-01-06T18:01:49.615210Z"
    }
   },
   "outputs": [],
   "source": [
    "df.columns = [col.replace(\" \", \"_\").lower() for col in df.columns]"
   ]
  },
  {
   "cell_type": "markdown",
   "id": "2c7e3c23",
   "metadata": {},
   "source": [
    "### SQL Queries"
   ]
  },
  {
   "cell_type": "markdown",
   "id": "c1934580",
   "metadata": {},
   "source": [
    "### 1. What is the sum, average, count of a given column"
   ]
  },
  {
   "cell_type": "code",
   "execution_count": 10,
   "outputs": [],
   "source": [
    "df.loc[df[\"vehicle_year\"]==0.0, \"vehicle_year\"] = np.nan"
   ],
   "metadata": {
    "collapsed": false,
    "ExecuteTime": {
     "end_time": "2024-01-06T18:02:37.303067Z",
     "start_time": "2024-01-06T18:02:37.295148Z"
    }
   }
  },
  {
   "cell_type": "code",
   "execution_count": 11,
   "outputs": [
    {
     "data": {
      "text/plain": "NaN       15651\n2015.0    11769\n2014.0    11579\n2016.0    11121\n2013.0    10891\n2012.0     9281\n2017.0     9002\n2011.0     8335\n2007.0     7888\n2008.0     7866\n2010.0     7390\n2006.0     7390\n2009.0     6757\n2018.0     6673\n2005.0     6477\n2004.0     6128\n2019.0     5405\n2003.0     5341\n2002.0     4263\n2001.0     3472\n2020.0     3424\n2021.0     2529\n2022.0     1608\n2023.0      679\n2024.0       49\nName: vehicle_year, dtype: int64"
     },
     "execution_count": 11,
     "metadata": {},
     "output_type": "execute_result"
    }
   ],
   "source": [
    "df.loc[(df[\"vehicle_year\"]<=2000) | (df[\"vehicle_year\"] > pd.to_datetime(\"today\").year), \"vehicle_year\"] = np.nan\n",
    "\n",
    "df[\"vehicle_year\"].value_counts(dropna=False)"
   ],
   "metadata": {
    "collapsed": false,
    "ExecuteTime": {
     "end_time": "2024-01-06T18:02:37.777049Z",
     "start_time": "2024-01-06T18:02:37.769242Z"
    }
   }
  },
  {
   "cell_type": "code",
   "execution_count": 12,
   "id": "90be2547",
   "metadata": {
    "ExecuteTime": {
     "end_time": "2024-01-06T18:02:40.005322Z",
     "start_time": "2024-01-06T18:02:39.190050Z"
    }
   },
   "outputs": [
    {
     "name": "stdout",
     "output_type": "stream",
     "text": [
      "what is the avg driver_at_fault: 0.5371414533713912\n",
      "what is the avg speed_limit: 32.55188105376445\n",
      "what is the avg vehicle_year: 2011.5437009470952\n",
      "what is the min driver_at_fault: 0\n",
      "what is the min speed_limit: 0.0\n",
      "what is the min vehicle_year: 2001.0\n",
      "what is the max driver_at_fault: 1\n",
      "what is the max speed_limit: 75.0\n",
      "what is the max vehicle_year: 2024.0\n",
      "what is the sum driver_at_fault: 91834\n",
      "what is the sum speed_limit: 5565330.0\n",
      "what is the sum vehicle_year: 312426933.0\n"
     ]
    }
   ],
   "source": [
    "# Connect to an in-memory SQLite database\n",
    "conn = sqlite3.connect(':memory:')\n",
    "# Insert the Pandas DataFrame into the SQLite database\n",
    "df.to_sql('crash_data', conn, index=False)\n",
    "num_functions = ['avg', 'min', 'max', 'sum']\n",
    "\n",
    "for func in num_functions:\n",
    "    for col in df.select_dtypes(include=['float','int']).columns:\n",
    "        query = f\"SELECT {func}({col}) as {col} from crash_data\"\n",
    "        print(f\"what is the {func} {col}: {pd.read_sql_query(query, conn).iat[0, 0]}\")"
   ]
  },
  {
   "cell_type": "code",
   "execution_count": 15,
   "id": "1dcf1a08",
   "metadata": {
    "ExecuteTime": {
     "end_time": "2024-01-06T18:03:43.898938Z",
     "start_time": "2024-01-06T18:03:43.892322Z"
    }
   },
   "outputs": [
    {
     "data": {
      "text/plain": "'\\ncategorical: by category level\\nnumerical: by average, max, min and total\\ndate: by year, by month\\nbinary: when present or not (x 2) for every binary\\n\\n#2 dim\\nnum with num        : what is avg vehicle year and avg speed limit\\n\\nKaran (make 3 cells with dynamic for loop covering all the questions):\\nnum with binary     : what is avg speed limit when driver was (at fault / not at fault)\\ncat with binary     : what is injury severity when driver was at fault\\nnum with cat        : what is avg speed limit by injury severity\\n\\nShantanu (make 4 cells with dynamic for loop covering all the questions)::\\nnum with date       : what is avg speed limit by month/year\\ncat with cat        : what is injury severity by vehicle make\\ncat with date       : what is vehicle make by month\\nbinary with date    : how many times driver was at fault by year\\n\\n#3 give some thought about 3 dimensions (limit)\\n#4 check with some other clean datasets\\n\\n'"
     },
     "execution_count": 15,
     "metadata": {},
     "output_type": "execute_result"
    }
   ],
   "source": [
    "cat_cols = [\"vehicle_make\", \"injury_severity\", \"vehicle_continuing_dir\"]\n",
    "num_cols = [\"speed_limit\", \"vehicle_year\"]\n",
    "date_cols = [\"crash_date\"]\n",
    "bin_cols = [\"driver_at_fault\"]\n",
    "\n",
    "\"\"\"\n",
    "categorical: by category level\n",
    "numerical: by average, max, min and total\n",
    "date: by year, by month\n",
    "binary: when present or not (x 2) for every binary\n",
    "\n",
    "#2 dim\n",
    "num with num        : what is avg vehicle year and avg speed limit\n",
    "num with binary     : what is avg speed limit when driver was (at fault / not at fault)\n",
    "cat with binary     : what is injury severity when driver was at fault\n",
    "cat with cat        : what is injury severity by vehicle make\n",
    "num with cat        : what is avg speed limit by injury severity\n",
    "num with date       : what is avg speed limit by month/year\n",
    "\n",
    "cat with date       : what is vehicle make by month\n",
    "binary with date    : how many times driver was at fault by year\n",
    "\n",
    "#3 give some thought about 3 dimensions (limit)\n",
    "#4 check with some other clean datasets\n",
    "\n",
    "\"\"\"\n",
    "\n",
    "# for f in num_functions:\n",
    "#     for num in num_cols:\n",
    "#         print(f\"what is {f} \")"
   ]
  },
  {
   "cell_type": "code",
   "execution_count": 16,
   "id": "b7b02ffc",
   "metadata": {
    "ExecuteTime": {
     "end_time": "2024-01-06T18:03:44.396933Z",
     "start_time": "2024-01-06T18:03:44.391944Z"
    }
   },
   "outputs": [
    {
     "data": {
      "text/plain": "[('speed_limit', 'driver_at_fault'), ('vehicle_year', 'driver_at_fault')]"
     },
     "execution_count": 16,
     "metadata": {},
     "output_type": "execute_result"
    }
   ],
   "source": [
    "list(itertools.product(num_cols, bin_cols))"
   ]
  },
  {
   "cell_type": "code",
   "execution_count": 17,
   "outputs": [
    {
     "data": {
      "text/plain": "32.55188105376445"
     },
     "execution_count": 17,
     "metadata": {},
     "output_type": "execute_result"
    }
   ],
   "source": [
    "# what is the average speed limit\n",
    "col = \"speed_limit\"\n",
    "query = f\"SELECT avg({col}) as average_speed from crash_data\"\n",
    "pd.read_sql_query(query, conn).iat[0, 0]"
   ],
   "metadata": {
    "collapsed": false,
    "ExecuteTime": {
     "end_time": "2024-01-06T18:03:44.893562Z",
     "start_time": "2024-01-06T18:03:44.880407Z"
    }
   }
  },
  {
   "cell_type": "code",
   "execution_count": 18,
   "id": "fb0beccd",
   "metadata": {
    "ExecuteTime": {
     "end_time": "2024-01-06T18:03:45.503925Z",
     "start_time": "2024-01-06T18:03:45.502021Z"
    }
   },
   "outputs": [],
   "source": [
    "combinations = list(itertools.combinations(num_cols, 2))\n",
    "num_functions = ['min', 'max', 'avg', 'total']\n",
    "all_perm = list(itertools.permutations(num_functions, 2))\n",
    "all_perm.extend([(f, f) for f in num_functions])"
   ]
  },
  {
   "cell_type": "code",
   "execution_count": 26,
   "id": "64c524d9",
   "metadata": {
    "ExecuteTime": {
     "end_time": "2024-01-06T18:10:33.313654Z",
     "start_time": "2024-01-06T18:10:32.716334Z"
    }
   },
   "outputs": [
    {
     "name": "stdout",
     "output_type": "stream",
     "text": [
      "what is min speed_limit and max speed_limit:    min_speed_limit  max_speed_limit\n",
      "0              0.0             75.0\n",
      "what is min vehicle_year and max vehicle_year:    min_vehicle_year  max_vehicle_year\n",
      "0            2001.0            2024.0\n",
      "what is min speed_limit and max vehicle_year:    min_speed_limit  max_vehicle_year\n",
      "0              0.0            2024.0\n",
      "what is min vehicle_year and max speed_limit:    min_vehicle_year  max_speed_limit\n",
      "0            2001.0             75.0\n",
      "what is min speed_limit and avg speed_limit:    min_speed_limit  avg_speed_limit\n",
      "0              0.0        32.551881\n",
      "what is min vehicle_year and avg vehicle_year:    min_vehicle_year  avg_vehicle_year\n",
      "0            2001.0       2011.543701\n",
      "what is min speed_limit and avg vehicle_year:    min_speed_limit  avg_vehicle_year\n",
      "0              0.0       2011.543701\n",
      "what is min vehicle_year and avg speed_limit:    min_vehicle_year  avg_speed_limit\n",
      "0            2001.0        32.551881\n",
      "what is min speed_limit and total speed_limit:    min_speed_limit  total_speed_limit\n",
      "0              0.0          5565330.0\n",
      "what is min vehicle_year and total vehicle_year:    min_vehicle_year  total_vehicle_year\n",
      "0            2001.0         312426933.0\n",
      "what is min speed_limit and total vehicle_year:    min_speed_limit  total_vehicle_year\n",
      "0              0.0         312426933.0\n",
      "what is min vehicle_year and total speed_limit:    min_vehicle_year  total_speed_limit\n",
      "0            2001.0          5565330.0\n",
      "what is max speed_limit and min speed_limit:    max_speed_limit  min_speed_limit\n",
      "0             75.0              0.0\n",
      "what is max vehicle_year and min vehicle_year:    max_vehicle_year  min_vehicle_year\n",
      "0            2024.0            2001.0\n",
      "what is max speed_limit and min vehicle_year:    max_speed_limit  min_vehicle_year\n",
      "0             75.0            2001.0\n",
      "what is max vehicle_year and min speed_limit:    max_vehicle_year  min_speed_limit\n",
      "0            2024.0              0.0\n",
      "what is max speed_limit and avg speed_limit:    max_speed_limit  avg_speed_limit\n",
      "0             75.0        32.551881\n",
      "what is max vehicle_year and avg vehicle_year:    max_vehicle_year  avg_vehicle_year\n",
      "0            2024.0       2011.543701\n",
      "what is max speed_limit and avg vehicle_year:    max_speed_limit  avg_vehicle_year\n",
      "0             75.0       2011.543701\n",
      "what is max vehicle_year and avg speed_limit:    max_vehicle_year  avg_speed_limit\n",
      "0            2024.0        32.551881\n",
      "what is max speed_limit and total speed_limit:    max_speed_limit  total_speed_limit\n",
      "0             75.0          5565330.0\n",
      "what is max vehicle_year and total vehicle_year:    max_vehicle_year  total_vehicle_year\n",
      "0            2024.0         312426933.0\n",
      "what is max speed_limit and total vehicle_year:    max_speed_limit  total_vehicle_year\n",
      "0             75.0         312426933.0\n",
      "what is max vehicle_year and total speed_limit:    max_vehicle_year  total_speed_limit\n",
      "0            2024.0          5565330.0\n",
      "what is avg speed_limit and min speed_limit:    avg_speed_limit  min_speed_limit\n",
      "0        32.551881              0.0\n",
      "what is avg vehicle_year and min vehicle_year:    avg_vehicle_year  min_vehicle_year\n",
      "0       2011.543701            2001.0\n",
      "what is avg speed_limit and min vehicle_year:    avg_speed_limit  min_vehicle_year\n",
      "0        32.551881            2001.0\n",
      "what is avg vehicle_year and min speed_limit:    avg_vehicle_year  min_speed_limit\n",
      "0       2011.543701              0.0\n",
      "what is avg speed_limit and max speed_limit:    avg_speed_limit  max_speed_limit\n",
      "0        32.551881             75.0\n",
      "what is avg vehicle_year and max vehicle_year:    avg_vehicle_year  max_vehicle_year\n",
      "0       2011.543701            2024.0\n",
      "what is avg speed_limit and max vehicle_year:    avg_speed_limit  max_vehicle_year\n",
      "0        32.551881            2024.0\n",
      "what is avg vehicle_year and max speed_limit:    avg_vehicle_year  max_speed_limit\n",
      "0       2011.543701             75.0\n",
      "what is avg speed_limit and total speed_limit:    avg_speed_limit  total_speed_limit\n",
      "0        32.551881          5565330.0\n",
      "what is avg vehicle_year and total vehicle_year:    avg_vehicle_year  total_vehicle_year\n",
      "0       2011.543701         312426933.0\n",
      "what is avg speed_limit and total vehicle_year:    avg_speed_limit  total_vehicle_year\n",
      "0        32.551881         312426933.0\n",
      "what is avg vehicle_year and total speed_limit:    avg_vehicle_year  total_speed_limit\n",
      "0       2011.543701          5565330.0\n",
      "what is total speed_limit and min speed_limit:    total_speed_limit  min_speed_limit\n",
      "0          5565330.0              0.0\n",
      "what is total vehicle_year and min vehicle_year:    total_vehicle_year  min_vehicle_year\n",
      "0         312426933.0            2001.0\n",
      "what is total speed_limit and min vehicle_year:    total_speed_limit  min_vehicle_year\n",
      "0          5565330.0            2001.0\n",
      "what is total vehicle_year and min speed_limit:    total_vehicle_year  min_speed_limit\n",
      "0         312426933.0              0.0\n",
      "what is total speed_limit and max speed_limit:    total_speed_limit  max_speed_limit\n",
      "0          5565330.0             75.0\n",
      "what is total vehicle_year and max vehicle_year:    total_vehicle_year  max_vehicle_year\n",
      "0         312426933.0            2024.0\n",
      "what is total speed_limit and max vehicle_year:    total_speed_limit  max_vehicle_year\n",
      "0          5565330.0            2024.0\n",
      "what is total vehicle_year and max speed_limit:    total_vehicle_year  max_speed_limit\n",
      "0         312426933.0             75.0\n",
      "what is total speed_limit and avg speed_limit:    total_speed_limit  avg_speed_limit\n",
      "0          5565330.0        32.551881\n",
      "what is total vehicle_year and avg vehicle_year:    total_vehicle_year  avg_vehicle_year\n",
      "0         312426933.0       2011.543701\n",
      "what is total speed_limit and avg vehicle_year:    total_speed_limit  avg_vehicle_year\n",
      "0          5565330.0       2011.543701\n",
      "what is total vehicle_year and avg speed_limit:    total_vehicle_year  avg_speed_limit\n",
      "0         312426933.0        32.551881\n"
     ]
    }
   ],
   "source": [
    "from copy import copy\n",
    "combinations = list(itertools.combinations(num_cols, 2))\n",
    "\n",
    "num_functions = ['min', 'max', 'avg', 'total']\n",
    "all_perm = list(itertools.permutations(num_functions, 2))\n",
    "full_perm = copy(all_perm)\n",
    "full_perm.extend([(f, f) for f in num_functions])\n",
    "\n",
    "# for just one numerical feature\n",
    "if len(num_cols) == 1:\n",
    "    for f1, f2 in all_perm:\n",
    "        for c in num_cols:\n",
    "            query = f\"SELECT {f1}({c}) as {f1}_{c}, {f2}({c}) as {f2}_{c} from crash_data\"\n",
    "            print(f\"what is {f1} {c} and {f2} {c}: {pd.read_sql_query(query, conn)}\")\n",
    "\n",
    "else:\n",
    "    # numerical with numerical\n",
    "    for f1, f2 in all_perm:\n",
    "        for c1, c2 in combinations:\n",
    "            query1 = f\"SELECT {f1}({c1}) as {f1}_{c1}, {f2}({c1}) as {f2}_{c1} from crash_data\"\n",
    "            print(f\"what is {f1} {c1} and {f2} {c1}: {pd.read_sql_query(query1, conn)}\")\n",
    "            query2 = f\"SELECT {f1}({c2}) as {f1}_{c2}, {f2}({c2}) as {f2}_{c2} from crash_data\"\n",
    "            print(f\"what is {f1} {c2} and {f2} {c2}: {pd.read_sql_query(query2, conn)}\")\n",
    "            query3 = f\"SELECT {f1}({c1}) as {f1}_{c1}, {f2}({c2}) as {f2}_{c2} from crash_data\"\n",
    "            print(f\"what is {f1} {c1} and {f2} {c2}: {pd.read_sql_query(query3, conn)}\")\n",
    "            query4 = f\"SELECT {f1}({c2}) as {f1}_{c2}, {f2}({c1}) as {f2}_{c1} from crash_data\"\n",
    "            print(f\"what is {f1} {c2} and {f2} {c1}: {pd.read_sql_query(query4, conn)}\")\n",
    "\n",
    "# numerical with binary\n",
    "for func in num_functions:\n",
    "    for col in num_cols:\n",
    "        for cond in bin_cols:\n",
    "            print(f\"what is {func} {col} when {cond}\")\n",
    "            print(f\"what is {func} {col} when not {cond}\")\n",
    "\n",
    "# categorical with binary\n",
    "for col in cat_cols:\n",
    "    for cond in bin_cols:\n",
    "        print(f\"what {col} has most counts when {cond}\")\n",
    "        print(f\"what {col} has least counts when {cond}\")\n",
    "        for n in range(1, 3):\n",
    "            print(f\"what are the top {n+1} {col} when {cond}\")\n",
    "\n",
    "# categorical with categorical\n",
    "for i in cat_cols:\n",
    "    for j in cat_cols:\n",
    "        if j!= i:\n",
    "            print(f\"what is the most {j} by {i}\")\n",
    "            print(f\"what is the least {j} by {i}\")\n",
    "\n",
    "# numerical with categorical\n",
    "for func in num_functions:\n",
    "    for num_col in num_cols:\n",
    "        for cat_col in cat_cols:\n",
    "            print(f\"what is {func} {num_col} by {cat_col}\")\n",
    "\n",
    "# numerical with date\n",
    "for func in num_functions:\n",
    "    for num_col in num_cols:\n",
    "        for date_col in date_cols:\n",
    "            print(f\"what is {func} {num_col} by {date_col} month\")\n",
    "            print(f\"what is {func} {num_col} by {date_col} year\")\n",
    "\n",
    "# categorical with date\n",
    "for cat_col in cat_cols:\n",
    "    for date_col in date_cols:\n",
    "        print(f\"what is most {cat_col} by {date_col} month\")\n",
    "        print(f\"what is least {cat_col} by {date_col} year\")\n",
    "        print(f\"what is most {cat_col} by {date_col} month\")\n",
    "        print(f\"what is least {cat_col} by {date_col} year\")\n",
    "        for n in range(1, 3):\n",
    "            print(f\"what are the top {n+1} {cat_col} by month\")\n",
    "            print(f\"what are the top {n+1} {cat_col} by year\")\n",
    "\n",
    "# categorical with binary\n"
   ]
  },
  {
   "cell_type": "code",
   "execution_count": 41,
   "outputs": [
    {
     "data": {
      "text/plain": "   total_speed_limit  avg_speed_limit\n0          5565330.0        32.551881",
      "text/html": "<div>\n<style scoped>\n    .dataframe tbody tr th:only-of-type {\n        vertical-align: middle;\n    }\n\n    .dataframe tbody tr th {\n        vertical-align: top;\n    }\n\n    .dataframe thead th {\n        text-align: right;\n    }\n</style>\n<table border=\"1\" class=\"dataframe\">\n  <thead>\n    <tr style=\"text-align: right;\">\n      <th></th>\n      <th>total_speed_limit</th>\n      <th>avg_speed_limit</th>\n    </tr>\n  </thead>\n  <tbody>\n    <tr>\n      <th>0</th>\n      <td>5565330.0</td>\n      <td>32.551881</td>\n    </tr>\n  </tbody>\n</table>\n</div>"
     },
     "execution_count": 41,
     "metadata": {},
     "output_type": "execute_result"
    }
   ],
   "source": [
    "pd.read_sql_query(query, conn)"
   ],
   "metadata": {
    "collapsed": false,
    "ExecuteTime": {
     "end_time": "2023-12-16T19:09:20.996927Z",
     "start_time": "2023-12-16T19:09:20.945431Z"
    }
   }
  },
  {
   "cell_type": "code",
   "execution_count": 38,
   "outputs": [
    {
     "data": {
      "text/plain": "0         2019-05-31\n1         2023-07-21\n2         2023-07-20\n3         2023-07-23\n4         2023-07-24\n             ...    \n170963    2016-03-01\n170964    2017-07-19\n170965    2020-11-23\n170966    2019-11-23\n170967    2015-01-21\nName: crash_date, Length: 170968, dtype: object"
     },
     "execution_count": 38,
     "metadata": {},
     "output_type": "execute_result"
    }
   ],
   "source": [
    "df['month_year'] = df[\"\"]"
   ],
   "metadata": {
    "collapsed": false,
    "ExecuteTime": {
     "end_time": "2024-01-06T18:32:09.542607Z",
     "start_time": "2024-01-06T18:32:09.534898Z"
    }
   }
  },
  {
   "cell_type": "code",
   "execution_count": 47,
   "outputs": [
    {
     "data": {
      "text/plain": "['min', 'max', 'avg', 'total']"
     },
     "execution_count": 47,
     "metadata": {},
     "output_type": "execute_result"
    }
   ],
   "source": [
    "num_functions"
   ],
   "metadata": {
    "collapsed": false,
    "ExecuteTime": {
     "end_time": "2024-01-06T18:36:26.499377Z",
     "start_time": "2024-01-06T18:36:26.494704Z"
    }
   }
  },
  {
   "cell_type": "code",
   "execution_count": 53,
   "outputs": [
    {
     "name": "stdout",
     "output_type": "stream",
     "text": [
      "what is most vehicle_make by crash_date month\n",
      "what is least vehicle_make by crash_date year\n",
      "what is most vehicle_make by crash_date month\n",
      "what is least vehicle_make by crash_date year\n",
      "what are the top 2 vehicle_make by month\n",
      "what are the top 2 vehicle_make by year\n",
      "what are the top 3 vehicle_make by month\n",
      "what are the top 3 vehicle_make by year\n",
      "what is most injury_severity by crash_date month\n",
      "what is least injury_severity by crash_date year\n",
      "what is most injury_severity by crash_date month\n",
      "what is least injury_severity by crash_date year\n",
      "what are the top 2 injury_severity by month\n",
      "what are the top 2 injury_severity by year\n",
      "what are the top 3 injury_severity by month\n",
      "what are the top 3 injury_severity by year\n",
      "what is most vehicle_continuing_dir by crash_date month\n",
      "what is least vehicle_continuing_dir by crash_date year\n",
      "what is most vehicle_continuing_dir by crash_date month\n",
      "what is least vehicle_continuing_dir by crash_date year\n",
      "what are the top 2 vehicle_continuing_dir by month\n",
      "what are the top 2 vehicle_continuing_dir by year\n",
      "what are the top 3 vehicle_continuing_dir by month\n",
      "what are the top 3 vehicle_continuing_dir by year\n"
     ]
    }
   ],
   "source": [],
   "metadata": {
    "collapsed": false,
    "ExecuteTime": {
     "end_time": "2024-01-06T18:44:44.578541Z",
     "start_time": "2024-01-06T18:44:44.574366Z"
    }
   }
  },
  {
   "cell_type": "code",
   "execution_count": null,
   "id": "d8e623dc",
   "metadata": {},
   "outputs": [],
   "source": [
    "# Karan (make 3 cells with dynamic for loop covering all the questions):\n",
    "# cat with binary     : what is injury severity when driver was at fault\n",
    "# num with cat        : what is avg speed limit by injury severity\n",
    "#\n",
    "# Shantanu (make 4 cells with dynamic for loop covering all the questions)::\n",
    "# num with date       : what is avg speed limit by month/year\n",
    "# cat with cat        : what is injury severity by vehicle make\n",
    "# cat with date       : what is vehicle make by month\n",
    "# binary with date    : how many times driver was at fault by year"
   ]
  },
  {
   "cell_type": "code",
   "execution_count": 29,
   "outputs": [
    {
     "data": {
      "text/plain": "(['vehicle_make', 'injury_severity', 'vehicle_continuing_dir'],\n ['driver_at_fault'])"
     },
     "execution_count": 29,
     "metadata": {},
     "output_type": "execute_result"
    }
   ],
   "source": [
    "cat_cols, bin_cols"
   ],
   "metadata": {
    "collapsed": false,
    "ExecuteTime": {
     "end_time": "2024-01-06T18:11:04.278818Z",
     "start_time": "2024-01-06T18:11:04.273453Z"
    }
   }
  },
  {
   "cell_type": "code",
   "execution_count": 32,
   "outputs": [
    {
     "data": {
      "text/plain": "North      46536\nSouth      45634\nEast       35856\nWest       34655\nUnknown     5621\nnan         2666\nName: vehicle_continuing_dir, dtype: int64"
     },
     "execution_count": 32,
     "metadata": {},
     "output_type": "execute_result"
    }
   ],
   "source": [
    "df[\"vehicle_continuing_dir\"].value_counts()"
   ],
   "metadata": {
    "collapsed": false,
    "ExecuteTime": {
     "end_time": "2024-01-06T18:24:38.750300Z",
     "start_time": "2024-01-06T18:24:38.725394Z"
    }
   }
  },
  {
   "cell_type": "code",
   "execution_count": null,
   "outputs": [],
   "source": [
    "# What vehicle_make has most counts when driver at fault\n",
    "# What was the most injury_severity when driver at fault\n",
    "# What was the vehicle_continuing_dir when driver at fault\n",
    "\n",
    "# What vehicle_make has most counts when driver at no fault\n",
    "# What was the most injury_severity when driver at no fault\n",
    "# What was the vehicle_continuing_dir when driver at no fault\n",
    "\n",
    "# What are the top two vehicle_make when driver at fault\n",
    "# What was the top two injury_severity when driver at fault\n",
    "# What are the top two vehicle_make when driver at no fault\n",
    "# What are the top two injury_severity when driver at no fault"
   ],
   "metadata": {
    "collapsed": false
   }
  },
  {
   "cell_type": "code",
   "execution_count": 34,
   "outputs": [
    {
     "name": "stdout",
     "output_type": "stream",
     "text": [
      "what vehicle_make has most counts when driver_at_fault\n",
      "what vehicle_make has least counts when driver_at_fault\n",
      "what are the top 2 vehicle_make when driver_at_fault\n",
      "what are the top 3 vehicle_make when driver_at_fault\n",
      "what injury_severity has most counts when driver_at_fault\n",
      "what injury_severity has least counts when driver_at_fault\n",
      "what are the top 2 injury_severity when driver_at_fault\n",
      "what are the top 3 injury_severity when driver_at_fault\n",
      "what vehicle_continuing_dir has most counts when driver_at_fault\n",
      "what vehicle_continuing_dir has least counts when driver_at_fault\n",
      "what are the top 2 vehicle_continuing_dir when driver_at_fault\n",
      "what are the top 3 vehicle_continuing_dir when driver_at_fault\n"
     ]
    }
   ],
   "source": [],
   "metadata": {
    "collapsed": false,
    "ExecuteTime": {
     "end_time": "2024-01-06T18:27:09.096387Z",
     "start_time": "2024-01-06T18:27:09.090195Z"
    }
   }
  },
  {
   "cell_type": "code",
   "execution_count": null,
   "outputs": [],
   "source": [],
   "metadata": {
    "collapsed": false
   }
  },
  {
   "cell_type": "code",
   "execution_count": 27,
   "outputs": [
    {
     "name": "stdout",
     "output_type": "stream",
     "text": [
      "what is min speed_limit when driver_at_fault\n",
      "what is min speed_limit when not driver_at_fault\n",
      "what is min vehicle_year when driver_at_fault\n",
      "what is min vehicle_year when not driver_at_fault\n",
      "what is max speed_limit when driver_at_fault\n",
      "what is max speed_limit when not driver_at_fault\n",
      "what is max vehicle_year when driver_at_fault\n",
      "what is max vehicle_year when not driver_at_fault\n",
      "what is avg speed_limit when driver_at_fault\n",
      "what is avg speed_limit when not driver_at_fault\n",
      "what is avg vehicle_year when driver_at_fault\n",
      "what is avg vehicle_year when not driver_at_fault\n",
      "what is total speed_limit when driver_at_fault\n",
      "what is total speed_limit when not driver_at_fault\n",
      "what is total vehicle_year when driver_at_fault\n",
      "what is total vehicle_year when not driver_at_fault\n"
     ]
    }
   ],
   "source": [],
   "metadata": {
    "collapsed": false,
    "ExecuteTime": {
     "end_time": "2024-01-06T18:10:37.478481Z",
     "start_time": "2024-01-06T18:10:37.472232Z"
    }
   }
  },
  {
   "cell_type": "code",
   "execution_count": 28,
   "outputs": [
    {
     "data": {
      "text/plain": "['min', 'max', 'avg', 'total']"
     },
     "execution_count": 28,
     "metadata": {},
     "output_type": "execute_result"
    }
   ],
   "source": [
    "num_functions"
   ],
   "metadata": {
    "collapsed": false,
    "ExecuteTime": {
     "end_time": "2024-01-06T18:10:39.900283Z",
     "start_time": "2024-01-06T18:10:39.891549Z"
    }
   }
  },
  {
   "cell_type": "code",
   "execution_count": null,
   "outputs": [],
   "source": [],
   "metadata": {
    "collapsed": false
   }
  },
  {
   "cell_type": "code",
   "execution_count": null,
   "outputs": [],
   "source": [],
   "metadata": {
    "collapsed": false
   }
  },
  {
   "cell_type": "code",
   "execution_count": null,
   "outputs": [],
   "source": [],
   "metadata": {
    "collapsed": false
   }
  },
  {
   "cell_type": "code",
   "execution_count": null,
   "id": "734519bd",
   "metadata": {},
   "outputs": [],
   "source": [
    "what is avg and min speed\n",
    "what is avg and min year\n",
    "what is avg year and min speed\n",
    "what is avg speed and min year\n",
    "what is avg and min speed\n",
    "what is avg and min cost\n",
    "what is avg cost and min speed\n",
    "what is avg speed and min cost\n",
    "what is avg and min year\n",
    "what is avg and min cost\n",
    "what is avg cost and min year\n",
    "what is avg year and min cost\n",
    "what is avg and max speed\n",
    "what is avg and max year\n",
    "what is avg year and max speed\n",
    "what is avg speed and max year\n",
    "what is avg and max speed\n",
    "what is avg and max cost\n",
    "what is avg cost and max speed\n",
    "what is avg speed and max cost\n",
    "what is avg and max year\n",
    "what is avg and max cost\n",
    "what is avg cost and max year\n",
    "what is avg year and max cost\n",
    "what is avg and sum speed\n",
    "what is avg and sum year\n",
    "what is avg year and sum speed\n",
    "what is avg speed and sum year\n",
    "what is avg and sum speed\n",
    "what is avg and sum cost\n",
    "what is avg cost and sum speed\n",
    "what is avg speed and sum cost\n",
    "what is avg and sum year\n",
    "what is avg and sum cost\n",
    "what is avg cost and sum year\n",
    "what is avg year and sum cost\n",
    "what is min and avg speed\n",
    "what is min and avg year\n",
    "what is min year and avg speed\n",
    "what is min speed and avg year\n",
    "what is min and avg speed\n",
    "what is min and avg cost\n",
    "what is min cost and avg speed\n",
    "what is min speed and avg cost\n",
    "what is min and avg year\n",
    "what is min and avg cost\n",
    "what is min cost and avg year\n",
    "what is min year and avg cost\n",
    "what is min and max speed\n",
    "what is min and max year\n",
    "what is min year and max speed\n",
    "what is min speed and max year\n",
    "what is min and max speed\n",
    "what is min and max cost\n",
    "what is min cost and max speed\n",
    "what is min speed and max cost\n",
    "what is min and max year\n",
    "what is min and max cost\n",
    "what is min cost and max year\n",
    "what is min year and max cost\n",
    "what is min and sum speed\n",
    "what is min and sum year\n",
    "what is min year and sum speed\n",
    "what is min speed and sum year\n",
    "what is min and sum speed\n",
    "what is min and sum cost\n",
    "what is min cost and sum speed\n",
    "what is min speed and sum cost\n",
    "what is min and sum year\n",
    "what is min and sum cost\n",
    "what is min cost and sum year\n",
    "what is min year and sum cost\n",
    "what is max and avg speed\n",
    "what is max and avg year\n",
    "what is max year and avg speed\n",
    "what is max speed and avg year\n",
    "what is max and avg speed\n",
    "what is max and avg cost\n",
    "what is max cost and avg speed\n",
    "what is max speed and avg cost\n",
    "what is max and avg year\n",
    "what is max and avg cost\n",
    "what is max cost and avg year\n",
    "what is max year and avg cost\n",
    "what is max and min speed\n",
    "what is max and min year\n",
    "what is max year and min speed\n",
    "what is max speed and min year\n",
    "what is max and min speed\n",
    "what is max and min cost\n",
    "what is max cost and min speed\n",
    "what is max speed and min cost\n",
    "what is max and min year\n",
    "what is max and min cost\n",
    "what is max cost and min year\n",
    "what is max year and min cost\n",
    "what is max and sum speed\n",
    "what is max and sum year\n",
    "what is max year and sum speed\n",
    "what is max speed and sum year\n",
    "what is max and sum speed\n",
    "what is max and sum cost\n",
    "what is max cost and sum speed\n",
    "what is max speed and sum cost\n",
    "what is max and sum year\n",
    "what is max and sum cost\n",
    "what is max cost and sum year\n",
    "what is max year and sum cost\n",
    "what is sum and avg speed\n",
    "what is sum and avg year\n",
    "what is sum year and avg speed\n",
    "what is sum speed and avg year\n",
    "what is sum and avg speed\n",
    "what is sum and avg cost\n",
    "what is sum cost and avg speed\n",
    "what is sum speed and avg cost\n",
    "what is sum and avg year\n",
    "what is sum and avg cost\n",
    "what is sum cost and avg year\n",
    "what is sum year and avg cost\n",
    "what is sum and min speed\n",
    "what is sum and min year\n",
    "what is sum year and min speed\n",
    "what is sum speed and min year\n",
    "what is sum and min speed\n",
    "what is sum and min cost\n",
    "what is sum cost and min speed\n",
    "what is sum speed and min cost\n",
    "what is sum and min year\n",
    "what is sum and min cost\n",
    "what is sum cost and min year\n",
    "what is sum year and min cost\n",
    "what is sum and max speed\n",
    "what is sum and max year\n",
    "what is sum year and max speed\n",
    "what is sum speed and max year\n",
    "what is sum and max speed\n",
    "what is sum and max cost\n",
    "what is sum cost and max speed\n",
    "what is sum speed and max cost\n",
    "what is sum and max year\n",
    "what is sum and max cost\n",
    "what is sum cost and max year\n",
    "what is sum year and max cost\n",
    "what is avg and avg speed\n",
    "what is avg and avg year\n",
    "what is avg year and avg speed\n",
    "what is avg speed and avg year\n",
    "what is avg and avg speed\n",
    "what is avg and avg cost\n",
    "what is avg cost and avg speed\n",
    "what is avg speed and avg cost\n",
    "what is avg and avg year\n",
    "what is avg and avg cost\n",
    "what is avg cost and avg year\n",
    "what is avg year and avg cost\n",
    "what is min and min speed\n",
    "what is min and min year\n",
    "what is min year and min speed\n",
    "what is min speed and min year\n",
    "what is min and min speed\n",
    "what is min and min cost\n",
    "what is min cost and min speed\n",
    "what is min speed and min cost\n",
    "what is min and min year\n",
    "what is min and min cost\n",
    "what is min cost and min year\n",
    "what is min year and min cost\n",
    "what is max and max speed\n",
    "what is max and max year\n",
    "what is max year and max speed\n",
    "what is max speed and max year\n",
    "what is max and max speed\n",
    "what is max and max cost\n",
    "what is max cost and max speed\n",
    "what is max speed and max cost\n",
    "what is max and max year\n",
    "what is max and max cost\n",
    "what is max cost and max year\n",
    "what is max year and max cost\n",
    "what is sum and sum speed\n",
    "what is sum and sum year\n",
    "what is sum year and sum speed\n",
    "what is sum speed and sum year\n",
    "what is sum and sum speed\n",
    "what is sum and sum cost\n",
    "what is sum cost and sum speed\n",
    "what is sum speed and sum cost\n",
    "what is sum and sum year\n",
    "what is sum and sum cost\n",
    "what is sum cost and sum year\n",
    "what is sum year and sum cost\n",
    "​"
   ]
  }
 ],
 "metadata": {
  "kernelspec": {
   "display_name": "Python (Similarity)",
   "language": "python",
   "name": "similarity-search"
  },
  "language_info": {
   "codemirror_mode": {
    "name": "ipython",
    "version": 3
   },
   "file_extension": ".py",
   "mimetype": "text/x-python",
   "name": "python",
   "nbconvert_exporter": "python",
   "pygments_lexer": "ipython3",
   "version": "3.9.16"
  },
  "varInspector": {
   "cols": {
    "lenName": 16,
    "lenType": 16,
    "lenVar": 40
   },
   "kernels_config": {
    "python": {
     "delete_cmd_postfix": "",
     "delete_cmd_prefix": "del ",
     "library": "var_list.py",
     "varRefreshCmd": "print(var_dic_list())"
    },
    "r": {
     "delete_cmd_postfix": ") ",
     "delete_cmd_prefix": "rm(",
     "library": "var_list.r",
     "varRefreshCmd": "cat(var_dic_list()) "
    }
   },
   "types_to_exclude": [
    "module",
    "function",
    "builtin_function_or_method",
    "instance",
    "_Feature"
   ],
   "window_display": false
  }
 },
 "nbformat": 4,
 "nbformat_minor": 5
}
