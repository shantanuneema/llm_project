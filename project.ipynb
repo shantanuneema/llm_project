{
 "cells": [
  {
   "cell_type": "code",
   "execution_count": 1,
   "id": "1758ba4e",
   "metadata": {},
   "outputs": [],
   "source": [
    "import pandas as pd\n",
    "import numpy as np\n",
    "\n",
    "from datetime import datetime\n",
    "import sqlite3\n",
    "import itertools"
   ]
  },
  {
   "cell_type": "code",
   "execution_count": 4,
   "id": "b7738aa6",
   "metadata": {},
   "outputs": [],
   "source": [
    "df = pd.read_csv('data/Crash_Reporting_-_Drivers_Data.csv', low_memory=False)\n",
    "\n",
    "cols_to_drop = ['Report Number', 'Local Case Number','Latitude','Longitude',\n",
    "                'Off-Road Description', 'Municipality','Related Non-Motorist',\n",
    "                'Non-Motorist Substance Abuse', 'Circumstance']\n",
    "\n",
    "df.drop(cols_to_drop, axis=1, inplace=True)"
   ]
  },
  {
   "cell_type": "code",
   "execution_count": 5,
   "id": "90ef480c",
   "metadata": {},
   "outputs": [],
   "source": [
    "col_datatypes = {}\n",
    "\n",
    "for i in df.columns:\n",
    "    col_datatypes[i] = type(i)"
   ]
  },
  {
   "cell_type": "code",
   "execution_count": 6,
   "id": "bdf3b290",
   "metadata": {},
   "outputs": [],
   "source": [
    "d = {'Agency Name': str,\n",
    " 'ACRS Report Type': str,\n",
    " 'Crash Date/Time': 'datetime64[ns]',\n",
    " 'Route Type': str,\n",
    " 'Road Name': 'ignore',\n",
    " 'Cross-Street Type': str,\n",
    " 'Cross-Street Name': 'ignore',\n",
    " 'Collision Type': str,\n",
    " 'Weather': str,\n",
    " 'Surface Condition': str,\n",
    " 'Light': str,\n",
    " 'Traffic Control': str,\n",
    " 'Driver Substance Abuse': str,\n",
    " 'Person ID': 'ignore',\n",
    " 'Driver At Fault': str,\n",
    " 'Injury Severity': str,\n",
    " 'Driver Distracted By': str,\n",
    " 'Drivers License State': str,\n",
    " 'Vehicle ID': 'ignore',\n",
    " 'Vehicle Damage Extent': str,\n",
    " 'Vehicle First Impact Location': str,\n",
    " 'Vehicle Second Impact Location': str,\n",
    " 'Vehicle Body Type': str,\n",
    " 'Vehicle Movement': str,\n",
    " 'Vehicle Continuing Dir': str,\n",
    " 'Vehicle Going Dir': str,\n",
    " 'Speed Limit': float,\n",
    " 'Driverless Vehicle': 'ignore',\n",
    " 'Parked Vehicle': 'ignore',\n",
    " 'Vehicle Year': float,\n",
    " 'Vehicle Make': str,\n",
    " 'Vehicle Model': str,\n",
    " 'Equipment Problems': 'ignore',\n",
    " 'Location': str}"
   ]
  },
  {
   "cell_type": "code",
   "execution_count": 7,
   "id": "be7175cc",
   "metadata": {},
   "outputs": [],
   "source": [
    "for key, value in d.items():\n",
    "    if value != 'ignore':\n",
    "        df[key] = df[key].astype(value)\n",
    "    else:\n",
    "        df.drop(key, axis=1, inplace=True)\n",
    "\n",
    "df['Speed_Limit'] = df['Speed Limit']\n",
    "df['Crash Date'] = df['Crash Date/Time'].dt.date\n",
    "df['Crash Time'] = df['Crash Date/Time'].dt.time\n",
    "df.drop('Crash Date/Time', axis=1, inplace=True)"
   ]
  },
  {
   "cell_type": "code",
   "execution_count": 37,
   "id": "fd59c0c5",
   "metadata": {},
   "outputs": [
    {
     "data": {
      "text/plain": [
       "NO APPARENT INJURY          137563\n",
       "POSSIBLE INJURY              17045\n",
       "SUSPECTED MINOR INJURY       11654\n",
       "SUSPECTED SERIOUS INJURY      1386\n",
       "FATAL INJURY                   151\n",
       "Name: Injury Severity, dtype: int64"
      ]
     },
     "execution_count": 37,
     "metadata": {},
     "output_type": "execute_result"
    }
   ],
   "source": [
    "df[\"Injury Severity\"].value_counts()"
   ]
  },
  {
   "cell_type": "code",
   "execution_count": 40,
   "id": "c1e24447",
   "metadata": {},
   "outputs": [],
   "source": [
    "df[\"Driver At Fault\"].replace({\"Yes\": 1, \"No\": 0, \"Unknown\": 0}, inplace=True)"
   ]
  },
  {
   "cell_type": "code",
   "execution_count": 45,
   "id": "07ae48b8",
   "metadata": {},
   "outputs": [],
   "source": [
    "df.columns = [col.replace(\" \", \"_\").lower() for col in df.columns]"
   ]
  },
  {
   "cell_type": "markdown",
   "id": "2c7e3c23",
   "metadata": {},
   "source": [
    "### SQL Queries"
   ]
  },
  {
   "cell_type": "code",
   "execution_count": 14,
   "id": "6bead6f7",
   "metadata": {},
   "outputs": [
    {
     "data": {
      "text/plain": [
       "167799"
      ]
     },
     "execution_count": 14,
     "metadata": {},
     "output_type": "execute_result"
    }
   ],
   "source": [
    "# Connect to an in-memory SQLite database\n",
    "conn = sqlite3.connect(':memory:')\n",
    "\n",
    "# Insert the Pandas DataFrame into the SQLite database\n",
    "df.to_sql('crash_data', conn, index=False)"
   ]
  },
  {
   "cell_type": "code",
   "execution_count": 13,
   "id": "f92309f1",
   "metadata": {},
   "outputs": [
    {
     "name": "stdout",
     "output_type": "stream",
     "text": [
      "   Speed_Limit\n",
      "0         15.0\n",
      "1          0.0\n",
      "2         35.0\n",
      "3         45.0\n",
      "4         25.0\n",
      "5         35.0\n",
      "6         30.0\n",
      "7         40.0\n",
      "8         35.0\n",
      "9         40.0\n"
     ]
    }
   ],
   "source": [
    "query = \"SELECT Speed_Limit from crash_data limit 10\"\n",
    "result = pd.read_sql_query(query, conn)\n",
    "print(result)"
   ]
  },
  {
   "cell_type": "markdown",
   "id": "c1934580",
   "metadata": {},
   "source": [
    "### 1. What is the sum, average, count of a given column"
   ]
  },
  {
   "cell_type": "code",
   "execution_count": 46,
   "id": "fcbaea23",
   "metadata": {},
   "outputs": [
    {
     "data": {
      "text/html": [
       "<div>\n",
       "<style scoped>\n",
       "    .dataframe tbody tr th:only-of-type {\n",
       "        vertical-align: middle;\n",
       "    }\n",
       "\n",
       "    .dataframe tbody tr th {\n",
       "        vertical-align: top;\n",
       "    }\n",
       "\n",
       "    .dataframe thead th {\n",
       "        text-align: right;\n",
       "    }\n",
       "</style>\n",
       "<table border=\"1\" class=\"dataframe\">\n",
       "  <thead>\n",
       "    <tr style=\"text-align: right;\">\n",
       "      <th></th>\n",
       "      <th>average_speed</th>\n",
       "    </tr>\n",
       "  </thead>\n",
       "  <tbody>\n",
       "    <tr>\n",
       "      <th>0</th>\n",
       "      <td>32.568728</td>\n",
       "    </tr>\n",
       "  </tbody>\n",
       "</table>\n",
       "</div>"
      ],
      "text/plain": [
       "   average_speed\n",
       "0      32.568728"
      ]
     },
     "execution_count": 46,
     "metadata": {},
     "output_type": "execute_result"
    }
   ],
   "source": [
    "# what is the average speed limit\n",
    "col = \"speed_limit\"\n",
    "query = f\"SELECT avg({col}) as average_speed from crash_data\"\n",
    "pd.read_sql_query(query,conn)"
   ]
  },
  {
   "cell_type": "code",
   "execution_count": null,
   "id": "90be2547",
   "metadata": {},
   "outputs": [],
   "source": [
    "num_functions = ['avg', 'min', 'max', 'sum']\n",
    "\n",
    "for func in num_functions:\n",
    "    for col in df.select_dtypes(include=['float','int']).columns:\n",
    "        print(f\"what is the {func} {col}\")"
   ]
  },
  {
   "cell_type": "code",
   "execution_count": 44,
   "id": "9d6d7b3f",
   "metadata": {},
   "outputs": [
    {
     "data": {
      "text/plain": [
       "0         15:00:00\n",
       "1         17:00:00\n",
       "2         10:45:00\n",
       "3         23:40:00\n",
       "4         17:40:00\n",
       "            ...   \n",
       "167794    10:01:00\n",
       "167795    14:22:00\n",
       "167796    07:37:00\n",
       "167797    23:23:00\n",
       "167798    09:02:00\n",
       "Name: Crash_Time, Length: 167799, dtype: object"
      ]
     },
     "execution_count": 44,
     "metadata": {},
     "output_type": "execute_result"
    }
   ],
   "source": [
    "df[\"Crash_Time\"]"
   ]
  },
  {
   "cell_type": "code",
   "execution_count": null,
   "id": "9e4ef2c4",
   "metadata": {},
   "outputs": [],
   "source": []
  },
  {
   "cell_type": "code",
   "execution_count": null,
   "id": "4b2a28bf",
   "metadata": {},
   "outputs": [],
   "source": []
  },
  {
   "cell_type": "code",
   "execution_count": null,
   "id": "e7f4cc2e",
   "metadata": {},
   "outputs": [],
   "source": []
  },
  {
   "cell_type": "code",
   "execution_count": null,
   "id": "9d828b4e",
   "metadata": {},
   "outputs": [],
   "source": []
  },
  {
   "cell_type": "code",
   "execution_count": 21,
   "id": "47ceb3ab",
   "metadata": {},
   "outputs": [
    {
     "name": "stdout",
     "output_type": "stream",
     "text": [
      "<class 'pandas.core.frame.DataFrame'>\n",
      "RangeIndex: 167799 entries, 0 to 167798\n",
      "Data columns (total 31 columns):\n",
      " #   Column                          Non-Null Count   Dtype  \n",
      "---  ------                          --------------   -----  \n",
      " 0   Agency Name                     167799 non-null  object \n",
      " 1   ACRS Report Type                167799 non-null  object \n",
      " 2   Route Type                      167799 non-null  object \n",
      " 3   Road Name                       167799 non-null  object \n",
      " 4   Cross-Street Type               167799 non-null  object \n",
      " 5   Cross-Street Name               167799 non-null  object \n",
      " 6   Collision Type                  167799 non-null  object \n",
      " 7   Weather                         167799 non-null  object \n",
      " 8   Surface Condition               167799 non-null  object \n",
      " 9   Light                           167799 non-null  object \n",
      " 10  Traffic Control                 167799 non-null  object \n",
      " 11  Driver Substance Abuse          167799 non-null  object \n",
      " 12  Driver At Fault                 167799 non-null  object \n",
      " 13  Injury Severity                 167799 non-null  object \n",
      " 14  Driver Distracted By            167799 non-null  object \n",
      " 15  Drivers License State           167799 non-null  object \n",
      " 16  Vehicle Damage Extent           167799 non-null  object \n",
      " 17  Vehicle First Impact Location   167799 non-null  object \n",
      " 18  Vehicle Second Impact Location  167799 non-null  object \n",
      " 19  Vehicle Body Type               167799 non-null  object \n",
      " 20  Vehicle Movement                167799 non-null  object \n",
      " 21  Vehicle Continuing Dir          167799 non-null  object \n",
      " 22  Vehicle Going Dir               167799 non-null  object \n",
      " 23  Speed Limit                     167799 non-null  float64\n",
      " 24  Vehicle Year                    167799 non-null  float64\n",
      " 25  Vehicle Make                    167799 non-null  object \n",
      " 26  Vehicle Model                   167799 non-null  object \n",
      " 27  Location                        167799 non-null  object \n",
      " 28  Speed_Limit                     167799 non-null  float64\n",
      " 29  Crash Date                      167799 non-null  object \n",
      " 30  Crash Time                      167799 non-null  object \n",
      "dtypes: float64(3), object(28)\n",
      "memory usage: 39.7+ MB\n"
     ]
    }
   ],
   "source": [
    "df.info()"
   ]
  },
  {
   "cell_type": "code",
   "execution_count": 69,
   "id": "1dcf1a08",
   "metadata": {},
   "outputs": [
    {
     "data": {
      "text/plain": [
       "'\\ncategorical: by category level\\nnumerical: by average, max, min and total\\ndate: by year, by month\\nbinary: when present or not (x 2) for every binary\\n\\n#2 dim\\nnum with num        : what is avg vehicle year and avg speed limit\\nnum with binary     : what is avg speed limit when driver was at fault\\nnum with cat        : what is avg speed limit by injury severity\\nnum with date       : what is avg speed limit by month/year\\ncat with cat        : what is injury severity by vehicle make\\ncat with binary     : what is injury severity when driver was at fault\\ncat with date       : what is vehicle make by month\\nbinary with date    : how many times driver was at fault by year\\n\\n'"
      ]
     },
     "execution_count": 69,
     "metadata": {},
     "output_type": "execute_result"
    }
   ],
   "source": [
    "cat_cols = [\"vehicle_make\", \"injury_severity\", \"vehicle_continuing_dir\"]\n",
    "num_cols = [\"speed_limit\", \"vehicle_year\"]\n",
    "date_cols = [\"crash_date\"]\n",
    "bin_cols = [\"driver_at_fault\"]\n",
    "\n",
    "\"\"\"\n",
    "categorical: by category level\n",
    "numerical: by average, max, min and total\n",
    "date: by year, by month\n",
    "binary: when present or not (x 2) for every binary\n",
    "\n",
    "#2 dim\n",
    "num with num        : what is avg vehicle year and avg speed limit\n",
    "\n",
    "num with binary     : what is avg speed limit when driver was (at fault / not at fault)\n",
    "num with cat        : what is avg speed limit by injury severity\n",
    "num with date       : what is avg speed limit by month/year\n",
    "cat with cat        : what is injury severity by vehicle make\n",
    "cat with binary     : what is injury severity when driver was at fault\n",
    "cat with date       : what is vehicle make by month\n",
    "binary with date    : how many times driver was at fault by year\n",
    "\n",
    "\"\"\"\n",
    "\n",
    "for f in num_functions:\n",
    "    for num in num_cols:\n",
    "        print(f\"what is {f} \")"
   ]
  },
  {
   "cell_type": "code",
   "execution_count": 73,
   "id": "b7b02ffc",
   "metadata": {},
   "outputs": [
    {
     "data": {
      "text/plain": [
       "[('speed_limit', 'driver_at_fault'), ('vehicle_year', 'driver_at_fault')]"
      ]
     },
     "execution_count": 73,
     "metadata": {},
     "output_type": "execute_result"
    }
   ],
   "source": [
    "list(itertools.product(num_cols, bin_cols))"
   ]
  },
  {
   "cell_type": "code",
   "execution_count": 70,
   "id": "fb0beccd",
   "metadata": {},
   "outputs": [],
   "source": [
    "combinations = list(itertools.combinations(num_cols, 2))\n",
    "num_functions = ['min', 'max', 'avg', 'total']\n",
    "all_perm = list(itertools.permutations(num_functions, 2))\n",
    "all_perm.extend([(f, f) for f in num_functions])"
   ]
  },
  {
   "cell_type": "code",
   "execution_count": 71,
   "id": "64c524d9",
   "metadata": {},
   "outputs": [
    {
     "name": "stdout",
     "output_type": "stream",
     "text": [
      "what is min speed_limit and max speed_limit\n",
      "what is min vehicle_year and max vehicle_year\n",
      "what is min speed_limit and max vehicle_year\n",
      "what is min vehicle_year and max speed_limit\n",
      "what is min speed_limit and avg speed_limit\n",
      "what is min vehicle_year and avg vehicle_year\n",
      "what is min speed_limit and avg vehicle_year\n",
      "what is min vehicle_year and avg speed_limit\n",
      "what is min speed_limit and total speed_limit\n",
      "what is min vehicle_year and total vehicle_year\n",
      "what is min speed_limit and total vehicle_year\n",
      "what is min vehicle_year and total speed_limit\n",
      "what is max speed_limit and min speed_limit\n",
      "what is max vehicle_year and min vehicle_year\n",
      "what is max speed_limit and min vehicle_year\n",
      "what is max vehicle_year and min speed_limit\n",
      "what is max speed_limit and avg speed_limit\n",
      "what is max vehicle_year and avg vehicle_year\n",
      "what is max speed_limit and avg vehicle_year\n",
      "what is max vehicle_year and avg speed_limit\n",
      "what is max speed_limit and total speed_limit\n",
      "what is max vehicle_year and total vehicle_year\n",
      "what is max speed_limit and total vehicle_year\n",
      "what is max vehicle_year and total speed_limit\n",
      "what is avg speed_limit and min speed_limit\n",
      "what is avg vehicle_year and min vehicle_year\n",
      "what is avg speed_limit and min vehicle_year\n",
      "what is avg vehicle_year and min speed_limit\n",
      "what is avg speed_limit and max speed_limit\n",
      "what is avg vehicle_year and max vehicle_year\n",
      "what is avg speed_limit and max vehicle_year\n",
      "what is avg vehicle_year and max speed_limit\n",
      "what is avg speed_limit and total speed_limit\n",
      "what is avg vehicle_year and total vehicle_year\n",
      "what is avg speed_limit and total vehicle_year\n",
      "what is avg vehicle_year and total speed_limit\n",
      "what is total speed_limit and min speed_limit\n",
      "what is total vehicle_year and min vehicle_year\n",
      "what is total speed_limit and min vehicle_year\n",
      "what is total vehicle_year and min speed_limit\n",
      "what is total speed_limit and max speed_limit\n",
      "what is total vehicle_year and max vehicle_year\n",
      "what is total speed_limit and max vehicle_year\n",
      "what is total vehicle_year and max speed_limit\n",
      "what is total speed_limit and avg speed_limit\n",
      "what is total vehicle_year and avg vehicle_year\n",
      "what is total speed_limit and avg vehicle_year\n",
      "what is total vehicle_year and avg speed_limit\n",
      "what is min speed_limit and min speed_limit\n",
      "what is min vehicle_year and min vehicle_year\n",
      "what is min speed_limit and min vehicle_year\n",
      "what is min vehicle_year and min speed_limit\n",
      "what is max speed_limit and max speed_limit\n",
      "what is max vehicle_year and max vehicle_year\n",
      "what is max speed_limit and max vehicle_year\n",
      "what is max vehicle_year and max speed_limit\n",
      "what is avg speed_limit and avg speed_limit\n",
      "what is avg vehicle_year and avg vehicle_year\n",
      "what is avg speed_limit and avg vehicle_year\n",
      "what is avg vehicle_year and avg speed_limit\n",
      "what is total speed_limit and total speed_limit\n",
      "what is total vehicle_year and total vehicle_year\n",
      "what is total speed_limit and total vehicle_year\n",
      "what is total vehicle_year and total speed_limit\n",
      "what is min speed_limit and max speed_limit\n",
      "what is min vehicle_year and max vehicle_year\n",
      "what is min speed_limit and avg speed_limit\n",
      "what is min vehicle_year and avg vehicle_year\n",
      "what is min speed_limit and total speed_limit\n",
      "what is min vehicle_year and total vehicle_year\n",
      "what is max speed_limit and min speed_limit\n",
      "what is max vehicle_year and min vehicle_year\n",
      "what is max speed_limit and avg speed_limit\n",
      "what is max vehicle_year and avg vehicle_year\n",
      "what is max speed_limit and total speed_limit\n",
      "what is max vehicle_year and total vehicle_year\n",
      "what is avg speed_limit and min speed_limit\n",
      "what is avg vehicle_year and min vehicle_year\n",
      "what is avg speed_limit and max speed_limit\n",
      "what is avg vehicle_year and max vehicle_year\n",
      "what is avg speed_limit and total speed_limit\n",
      "what is avg vehicle_year and total vehicle_year\n",
      "what is total speed_limit and min speed_limit\n",
      "what is total vehicle_year and min vehicle_year\n",
      "what is total speed_limit and max speed_limit\n",
      "what is total vehicle_year and max vehicle_year\n",
      "what is total speed_limit and avg speed_limit\n",
      "what is total vehicle_year and avg vehicle_year\n"
     ]
    }
   ],
   "source": [
    "from copy import copy\n",
    "combinations = list(itertools.combinations(num_cols, 2))\n",
    "\n",
    "num_functions = ['min', 'max', 'avg', 'total']\n",
    "all_perm = list(itertools.permutations(num_functions, 2))\n",
    "full_perm = copy(all_perm)\n",
    "full_perm.extend([(f, f) for f in num_functions])\n",
    "\n",
    "# for just one numerical feature\n",
    "if len(num_cols) == 1:\n",
    "    for f1, f2 in all_perm:\n",
    "        for c in num_cols:\n",
    "            print(f\"what is {f1} {c} and {f2} {c}\")\n",
    "            \n",
    "else:\n",
    "    for f1, f2 in full_perm:\n",
    "        for c1, c2 in combinations:\n",
    "            print(f\"what is {f1} {c1} and {f2} {c1}\")\n",
    "            print(f\"what is {f1} {c2} and {f2} {c2}\")\n",
    "            print(f\"what is {f1} {c1} and {f2} {c2}\")\n",
    "            print(f\"what is {f1} {c2} and {f2} {c1}\")"
   ]
  },
  {
   "cell_type": "code",
   "execution_count": 65,
   "id": "ae3bdf6b",
   "metadata": {},
   "outputs": [
    {
     "data": {
      "text/plain": [
       "(16, 0)"
      ]
     },
     "execution_count": 65,
     "metadata": {},
     "output_type": "execute_result"
    }
   ],
   "source": [
    "len(all_perm), len(combinations)"
   ]
  },
  {
   "cell_type": "code",
   "execution_count": null,
   "id": "d8e623dc",
   "metadata": {},
   "outputs": [],
   "source": []
  },
  {
   "cell_type": "code",
   "execution_count": null,
   "id": "734519bd",
   "metadata": {},
   "outputs": [],
   "source": [
    "what is avg and min speed\n",
    "what is avg and min year\n",
    "what is avg year and min speed\n",
    "what is avg speed and min year\n",
    "what is avg and min speed\n",
    "what is avg and min cost\n",
    "what is avg cost and min speed\n",
    "what is avg speed and min cost\n",
    "what is avg and min year\n",
    "what is avg and min cost\n",
    "what is avg cost and min year\n",
    "what is avg year and min cost\n",
    "what is avg and max speed\n",
    "what is avg and max year\n",
    "what is avg year and max speed\n",
    "what is avg speed and max year\n",
    "what is avg and max speed\n",
    "what is avg and max cost\n",
    "what is avg cost and max speed\n",
    "what is avg speed and max cost\n",
    "what is avg and max year\n",
    "what is avg and max cost\n",
    "what is avg cost and max year\n",
    "what is avg year and max cost\n",
    "what is avg and sum speed\n",
    "what is avg and sum year\n",
    "what is avg year and sum speed\n",
    "what is avg speed and sum year\n",
    "what is avg and sum speed\n",
    "what is avg and sum cost\n",
    "what is avg cost and sum speed\n",
    "what is avg speed and sum cost\n",
    "what is avg and sum year\n",
    "what is avg and sum cost\n",
    "what is avg cost and sum year\n",
    "what is avg year and sum cost\n",
    "what is min and avg speed\n",
    "what is min and avg year\n",
    "what is min year and avg speed\n",
    "what is min speed and avg year\n",
    "what is min and avg speed\n",
    "what is min and avg cost\n",
    "what is min cost and avg speed\n",
    "what is min speed and avg cost\n",
    "what is min and avg year\n",
    "what is min and avg cost\n",
    "what is min cost and avg year\n",
    "what is min year and avg cost\n",
    "what is min and max speed\n",
    "what is min and max year\n",
    "what is min year and max speed\n",
    "what is min speed and max year\n",
    "what is min and max speed\n",
    "what is min and max cost\n",
    "what is min cost and max speed\n",
    "what is min speed and max cost\n",
    "what is min and max year\n",
    "what is min and max cost\n",
    "what is min cost and max year\n",
    "what is min year and max cost\n",
    "what is min and sum speed\n",
    "what is min and sum year\n",
    "what is min year and sum speed\n",
    "what is min speed and sum year\n",
    "what is min and sum speed\n",
    "what is min and sum cost\n",
    "what is min cost and sum speed\n",
    "what is min speed and sum cost\n",
    "what is min and sum year\n",
    "what is min and sum cost\n",
    "what is min cost and sum year\n",
    "what is min year and sum cost\n",
    "what is max and avg speed\n",
    "what is max and avg year\n",
    "what is max year and avg speed\n",
    "what is max speed and avg year\n",
    "what is max and avg speed\n",
    "what is max and avg cost\n",
    "what is max cost and avg speed\n",
    "what is max speed and avg cost\n",
    "what is max and avg year\n",
    "what is max and avg cost\n",
    "what is max cost and avg year\n",
    "what is max year and avg cost\n",
    "what is max and min speed\n",
    "what is max and min year\n",
    "what is max year and min speed\n",
    "what is max speed and min year\n",
    "what is max and min speed\n",
    "what is max and min cost\n",
    "what is max cost and min speed\n",
    "what is max speed and min cost\n",
    "what is max and min year\n",
    "what is max and min cost\n",
    "what is max cost and min year\n",
    "what is max year and min cost\n",
    "what is max and sum speed\n",
    "what is max and sum year\n",
    "what is max year and sum speed\n",
    "what is max speed and sum year\n",
    "what is max and sum speed\n",
    "what is max and sum cost\n",
    "what is max cost and sum speed\n",
    "what is max speed and sum cost\n",
    "what is max and sum year\n",
    "what is max and sum cost\n",
    "what is max cost and sum year\n",
    "what is max year and sum cost\n",
    "what is sum and avg speed\n",
    "what is sum and avg year\n",
    "what is sum year and avg speed\n",
    "what is sum speed and avg year\n",
    "what is sum and avg speed\n",
    "what is sum and avg cost\n",
    "what is sum cost and avg speed\n",
    "what is sum speed and avg cost\n",
    "what is sum and avg year\n",
    "what is sum and avg cost\n",
    "what is sum cost and avg year\n",
    "what is sum year and avg cost\n",
    "what is sum and min speed\n",
    "what is sum and min year\n",
    "what is sum year and min speed\n",
    "what is sum speed and min year\n",
    "what is sum and min speed\n",
    "what is sum and min cost\n",
    "what is sum cost and min speed\n",
    "what is sum speed and min cost\n",
    "what is sum and min year\n",
    "what is sum and min cost\n",
    "what is sum cost and min year\n",
    "what is sum year and min cost\n",
    "what is sum and max speed\n",
    "what is sum and max year\n",
    "what is sum year and max speed\n",
    "what is sum speed and max year\n",
    "what is sum and max speed\n",
    "what is sum and max cost\n",
    "what is sum cost and max speed\n",
    "what is sum speed and max cost\n",
    "what is sum and max year\n",
    "what is sum and max cost\n",
    "what is sum cost and max year\n",
    "what is sum year and max cost\n",
    "what is avg and avg speed\n",
    "what is avg and avg year\n",
    "what is avg year and avg speed\n",
    "what is avg speed and avg year\n",
    "what is avg and avg speed\n",
    "what is avg and avg cost\n",
    "what is avg cost and avg speed\n",
    "what is avg speed and avg cost\n",
    "what is avg and avg year\n",
    "what is avg and avg cost\n",
    "what is avg cost and avg year\n",
    "what is avg year and avg cost\n",
    "what is min and min speed\n",
    "what is min and min year\n",
    "what is min year and min speed\n",
    "what is min speed and min year\n",
    "what is min and min speed\n",
    "what is min and min cost\n",
    "what is min cost and min speed\n",
    "what is min speed and min cost\n",
    "what is min and min year\n",
    "what is min and min cost\n",
    "what is min cost and min year\n",
    "what is min year and min cost\n",
    "what is max and max speed\n",
    "what is max and max year\n",
    "what is max year and max speed\n",
    "what is max speed and max year\n",
    "what is max and max speed\n",
    "what is max and max cost\n",
    "what is max cost and max speed\n",
    "what is max speed and max cost\n",
    "what is max and max year\n",
    "what is max and max cost\n",
    "what is max cost and max year\n",
    "what is max year and max cost\n",
    "what is sum and sum speed\n",
    "what is sum and sum year\n",
    "what is sum year and sum speed\n",
    "what is sum speed and sum year\n",
    "what is sum and sum speed\n",
    "what is sum and sum cost\n",
    "what is sum cost and sum speed\n",
    "what is sum speed and sum cost\n",
    "what is sum and sum year\n",
    "what is sum and sum cost\n",
    "what is sum cost and sum year\n",
    "what is sum year and sum cost\n",
    "​"
   ]
  }
 ],
 "metadata": {
  "kernelspec": {
   "display_name": "Python (Similarity)",
   "language": "python",
   "name": "similarity-search"
  },
  "language_info": {
   "codemirror_mode": {
    "name": "ipython",
    "version": 3
   },
   "file_extension": ".py",
   "mimetype": "text/x-python",
   "name": "python",
   "nbconvert_exporter": "python",
   "pygments_lexer": "ipython3",
   "version": "3.9.16"
  },
  "varInspector": {
   "cols": {
    "lenName": 16,
    "lenType": 16,
    "lenVar": 40
   },
   "kernels_config": {
    "python": {
     "delete_cmd_postfix": "",
     "delete_cmd_prefix": "del ",
     "library": "var_list.py",
     "varRefreshCmd": "print(var_dic_list())"
    },
    "r": {
     "delete_cmd_postfix": ") ",
     "delete_cmd_prefix": "rm(",
     "library": "var_list.r",
     "varRefreshCmd": "cat(var_dic_list()) "
    }
   },
   "types_to_exclude": [
    "module",
    "function",
    "builtin_function_or_method",
    "instance",
    "_Feature"
   ],
   "window_display": false
  }
 },
 "nbformat": 4,
 "nbformat_minor": 5
}
