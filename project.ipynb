{
 "cells": [
  {
   "cell_type": "code",
   "execution_count": 1,
   "id": "1758ba4e",
   "metadata": {
    "ExecuteTime": {
     "end_time": "2024-01-06T18:01:44.007362Z",
     "start_time": "2024-01-06T18:01:37.971499Z"
    }
   },
   "outputs": [],
   "source": [
    "import pandas as pd\n",
    "import numpy as np\n",
    "\n",
    "from datetime import datetime\n",
    "import sqlite3\n",
    "import itertools"
   ]
  },
  {
   "cell_type": "code",
   "execution_count": 2,
   "id": "b7738aa6",
   "metadata": {
    "ExecuteTime": {
     "end_time": "2024-01-06T18:01:45.988953Z",
     "start_time": "2024-01-06T18:01:44.008855Z"
    }
   },
   "outputs": [],
   "source": [
    "df = pd.read_csv('data/Crash_Reporting_-_Drivers_Data.csv', low_memory=False)\n",
    "\n",
    "cols_to_drop = ['Report Number', 'Local Case Number','Latitude','Longitude',\n",
    "                'Off-Road Description', 'Municipality','Related Non-Motorist',\n",
    "                'Non-Motorist Substance Abuse', 'Circumstance']\n",
    "\n",
    "df.drop(cols_to_drop, axis=1, inplace=True)"
   ]
  },
  {
   "cell_type": "code",
   "execution_count": 3,
   "id": "90ef480c",
   "metadata": {
    "ExecuteTime": {
     "end_time": "2024-01-06T18:01:45.990834Z",
     "start_time": "2024-01-06T18:01:45.989248Z"
    }
   },
   "outputs": [],
   "source": [
    "col_datatypes = {}\n",
    "\n",
    "for i in df.columns:\n",
    "    col_datatypes[i] = type(i)"
   ]
  },
  {
   "cell_type": "code",
   "execution_count": 4,
   "id": "bdf3b290",
   "metadata": {
    "ExecuteTime": {
     "end_time": "2024-01-06T18:01:45.996740Z",
     "start_time": "2024-01-06T18:01:45.993092Z"
    }
   },
   "outputs": [],
   "source": [
    "d = {'Agency Name': str,\n",
    " 'ACRS Report Type': str,\n",
    " 'Crash Date/Time': 'datetime64[ns]',\n",
    " 'Route Type': str,\n",
    " 'Road Name': 'ignore',\n",
    " 'Cross-Street Type': str,\n",
    " 'Cross-Street Name': 'ignore',\n",
    " 'Collision Type': str,\n",
    " 'Weather': str,\n",
    " 'Surface Condition': str,\n",
    " 'Light': str,\n",
    " 'Traffic Control': str,\n",
    " 'Driver Substance Abuse': str,\n",
    " 'Person ID': 'ignore',\n",
    " 'Driver At Fault': str,\n",
    " 'Injury Severity': str,\n",
    " 'Driver Distracted By': str,\n",
    " 'Drivers License State': str,\n",
    " 'Vehicle ID': 'ignore',\n",
    " 'Vehicle Damage Extent': str,\n",
    " 'Vehicle First Impact Location': str,\n",
    " 'Vehicle Second Impact Location': str,\n",
    " 'Vehicle Body Type': str,\n",
    " 'Vehicle Movement': str,\n",
    " 'Vehicle Continuing Dir': str,\n",
    " 'Vehicle Going Dir': str,\n",
    " 'Speed Limit': float,\n",
    " 'Driverless Vehicle': 'ignore',\n",
    " 'Parked Vehicle': 'ignore',\n",
    " 'Vehicle Year': float,\n",
    " 'Vehicle Make': str,\n",
    " 'Vehicle Model': str,\n",
    " 'Equipment Problems': 'ignore',\n",
    " 'Location': str}"
   ]
  },
  {
   "cell_type": "code",
   "execution_count": 5,
   "id": "be7175cc",
   "metadata": {
    "ExecuteTime": {
     "end_time": "2024-01-06T18:01:49.569952Z",
     "start_time": "2024-01-06T18:01:46.002073Z"
    }
   },
   "outputs": [
    {
     "name": "stderr",
     "output_type": "stream",
     "text": [
      "/var/folders/h5/rbftgn_x1qn4d4fm680mmg5h0000gn/T/ipykernel_9386/4102681138.py:3: UserWarning: Could not infer format, so each element will be parsed individually, falling back to `dateutil`. To ensure parsing is consistent and as-expected, please specify a format.\n",
      "  df[key] = df[key].astype(value)\n"
     ]
    }
   ],
   "source": [
    "for key, value in d.items():\n",
    "    if value != 'ignore':\n",
    "        df[key] = df[key].astype(value)\n",
    "    else:\n",
    "        df.drop(key, axis=1, inplace=True)\n",
    "\n",
    "# df['speed_limit'] = df['Speed Limit']\n",
    "df['Crash Date'] = df['Crash Date/Time'].dt.date\n",
    "df['Crash Time'] = df['Crash Date/Time'].dt.time\n",
    "df.drop('Crash Date/Time', axis=1, inplace=True)"
   ]
  },
  {
   "cell_type": "code",
   "execution_count": 6,
   "id": "fd59c0c5",
   "metadata": {
    "ExecuteTime": {
     "end_time": "2024-01-06T18:01:49.577249Z",
     "start_time": "2024-01-06T18:01:49.575628Z"
    }
   },
   "outputs": [
    {
     "data": {
      "text/plain": [
       "Injury Severity\n",
       "NO APPARENT INJURY          140232\n",
       "POSSIBLE INJURY              17367\n",
       "SUSPECTED MINOR INJURY       11805\n",
       "SUSPECTED SERIOUS INJURY      1411\n",
       "FATAL INJURY                   153\n",
       "Name: count, dtype: int64"
      ]
     },
     "execution_count": 6,
     "metadata": {},
     "output_type": "execute_result"
    }
   ],
   "source": [
    "df[\"Injury Severity\"].value_counts()"
   ]
  },
  {
   "cell_type": "code",
   "execution_count": 7,
   "id": "c1e24447",
   "metadata": {
    "ExecuteTime": {
     "end_time": "2024-01-06T18:01:49.613876Z",
     "start_time": "2024-01-06T18:01:49.581058Z"
    }
   },
   "outputs": [],
   "source": [
    "df[\"Driver At Fault\"].replace({\"Yes\": 1, \"No\": 0, \"Unknown\": 0}, inplace=True)"
   ]
  },
  {
   "cell_type": "code",
   "execution_count": 8,
   "id": "07ae48b8",
   "metadata": {
    "ExecuteTime": {
     "end_time": "2024-01-06T18:01:49.620671Z",
     "start_time": "2024-01-06T18:01:49.615210Z"
    }
   },
   "outputs": [],
   "source": [
    "df.columns = [col.replace(\" \", \"_\").lower() for col in df.columns]"
   ]
  },
  {
   "cell_type": "markdown",
   "id": "2c7e3c23",
   "metadata": {},
   "source": [
    "### SQL Queries"
   ]
  },
  {
   "cell_type": "markdown",
   "id": "c1934580",
   "metadata": {},
   "source": [
    "### 1. What is the sum, average, count of a given column"
   ]
  },
  {
   "cell_type": "code",
   "execution_count": 9,
   "metadata": {
    "ExecuteTime": {
     "end_time": "2024-01-06T18:02:37.303067Z",
     "start_time": "2024-01-06T18:02:37.295148Z"
    },
    "collapsed": false
   },
   "outputs": [],
   "source": [
    "df.loc[df[\"vehicle_year\"]==0.0, \"vehicle_year\"] = np.nan"
   ]
  },
  {
   "cell_type": "code",
   "execution_count": 10,
   "metadata": {
    "ExecuteTime": {
     "end_time": "2024-01-06T18:02:37.777049Z",
     "start_time": "2024-01-06T18:02:37.769242Z"
    },
    "collapsed": false
   },
   "outputs": [
    {
     "data": {
      "text/plain": [
       "vehicle_year\n",
       "NaN       15651\n",
       "2015.0    11769\n",
       "2014.0    11579\n",
       "2016.0    11121\n",
       "2013.0    10891\n",
       "2012.0     9281\n",
       "2017.0     9002\n",
       "2011.0     8335\n",
       "2007.0     7888\n",
       "2008.0     7866\n",
       "2010.0     7390\n",
       "2006.0     7390\n",
       "2009.0     6757\n",
       "2018.0     6673\n",
       "2005.0     6477\n",
       "2004.0     6128\n",
       "2019.0     5405\n",
       "2003.0     5341\n",
       "2002.0     4263\n",
       "2001.0     3472\n",
       "2020.0     3424\n",
       "2021.0     2529\n",
       "2022.0     1608\n",
       "2023.0      679\n",
       "2024.0       49\n",
       "Name: count, dtype: int64"
      ]
     },
     "execution_count": 10,
     "metadata": {},
     "output_type": "execute_result"
    }
   ],
   "source": [
    "df.loc[(df[\"vehicle_year\"]<=2000) | (df[\"vehicle_year\"] > pd.to_datetime(\"today\").year), \"vehicle_year\"] = np.nan\n",
    "\n",
    "df[\"vehicle_year\"].value_counts(dropna=False)"
   ]
  },
  {
   "cell_type": "code",
   "execution_count": 11,
   "id": "90be2547",
   "metadata": {
    "ExecuteTime": {
     "end_time": "2024-01-06T18:02:40.005322Z",
     "start_time": "2024-01-06T18:02:39.190050Z"
    }
   },
   "outputs": [
    {
     "name": "stdout",
     "output_type": "stream",
     "text": [
      "what is the avg driver_at_fault: 0.5371414533713912\n",
      "what is the avg speed_limit: 32.55188105376445\n",
      "what is the avg vehicle_year: 2011.5437009470952\n",
      "what is the min driver_at_fault: 0\n",
      "what is the min speed_limit: 0.0\n",
      "what is the min vehicle_year: 2001.0\n",
      "what is the max driver_at_fault: 1\n",
      "what is the max speed_limit: 75.0\n",
      "what is the max vehicle_year: 2024.0\n",
      "what is the sum driver_at_fault: 91834\n",
      "what is the sum speed_limit: 5565330.0\n",
      "what is the sum vehicle_year: 312426933.0\n"
     ]
    }
   ],
   "source": [
    "# Connect to an in-memory SQLite database\n",
    "conn = sqlite3.connect(':memory:')\n",
    "# Insert the Pandas DataFrame into the SQLite database\n",
    "df.to_sql('crash_data', conn, index=False)\n",
    "num_functions = ['avg', 'min', 'max', 'sum']\n",
    "\n",
    "for func in num_functions:\n",
    "    for col in df.select_dtypes(include=['float','int']).columns:\n",
    "        query = f\"SELECT {func}({col}) as {col} from crash_data\"\n",
    "        print(f\"what is the {func} {col}: {pd.read_sql_query(query, conn).iat[0, 0]}\")"
   ]
  },
  {
   "cell_type": "code",
   "execution_count": 12,
   "id": "1dcf1a08",
   "metadata": {
    "ExecuteTime": {
     "end_time": "2024-01-06T18:03:43.898938Z",
     "start_time": "2024-01-06T18:03:43.892322Z"
    }
   },
   "outputs": [
    {
     "data": {
      "text/plain": [
       "'\\ncategorical: by category level\\nnumerical: by average, max, min and total\\ndate: by year, by month\\nbinary: when present or not (x 2) for every binary\\n\\n#2 dim\\nnum with num        : what is avg vehicle year and avg speed limit\\nnum with binary     : what is avg speed limit when driver was (at fault / not at fault)\\ncat with binary     : what is injury severity when driver was at fault\\ncat with cat        : what is injury severity by vehicle make\\nnum with cat        : what is avg speed limit by injury severity\\nnum with date       : what is avg speed limit by month/year\\n\\ncat with date       : what is vehicle make by month\\nbinary with date    : how many times driver was at fault by year\\n\\n#3 give some thought about 3 dimensions (limit)\\n#4 check with some other clean datasets\\n\\n'"
      ]
     },
     "execution_count": 12,
     "metadata": {},
     "output_type": "execute_result"
    }
   ],
   "source": [
    "cat_cols = [\"vehicle_make\", \"injury_severity\", \"vehicle_continuing_dir\"]\n",
    "num_cols = [\"speed_limit\", \"vehicle_year\"]\n",
    "date_cols = [\"crash_date\"]\n",
    "bin_cols = [\"driver_at_fault\"]\n",
    "\n",
    "\"\"\"\n",
    "categorical: by category level\n",
    "numerical: by average, max, min and total\n",
    "date: by year, by month\n",
    "binary: when present or not (x 2) for every binary\n",
    "\n",
    "#2 dim\n",
    "num with num        : what is avg vehicle year and avg speed limit\n",
    "num with binary     : what is avg speed limit when driver was (at fault / not at fault)\n",
    "cat with binary     : what is injury severity when driver was at fault\n",
    "cat with cat        : what is injury severity by vehicle make\n",
    "num with cat        : what is avg speed limit by injury severity\n",
    "num with date       : what is avg speed limit by month/year\n",
    "\n",
    "cat with date       : what is vehicle make by month\n",
    "binary with date    : how many times driver was at fault by year\n",
    "\n",
    "#3 give some thought about 3 dimensions (limit)\n",
    "#4 check with some other clean datasets\n",
    "\n",
    "\"\"\"\n",
    "\n",
    "# for f in num_functions:\n",
    "#     for num in num_cols:\n",
    "#         print(f\"what is {f} \")"
   ]
  },
  {
   "cell_type": "code",
   "execution_count": 13,
   "id": "b7b02ffc",
   "metadata": {
    "ExecuteTime": {
     "end_time": "2024-01-06T18:03:44.396933Z",
     "start_time": "2024-01-06T18:03:44.391944Z"
    }
   },
   "outputs": [
    {
     "data": {
      "text/plain": [
       "[('speed_limit', 'driver_at_fault'), ('vehicle_year', 'driver_at_fault')]"
      ]
     },
     "execution_count": 13,
     "metadata": {},
     "output_type": "execute_result"
    }
   ],
   "source": [
    "list(itertools.product(num_cols, bin_cols))"
   ]
  },
  {
   "cell_type": "code",
   "execution_count": 14,
   "metadata": {
    "ExecuteTime": {
     "end_time": "2024-01-06T18:03:44.893562Z",
     "start_time": "2024-01-06T18:03:44.880407Z"
    },
    "collapsed": false
   },
   "outputs": [
    {
     "data": {
      "text/plain": [
       "32.55188105376445"
      ]
     },
     "execution_count": 14,
     "metadata": {},
     "output_type": "execute_result"
    }
   ],
   "source": [
    "# what is the average speed limit\n",
    "col = \"speed_limit\"\n",
    "query = f\"SELECT avg({col}) as average_speed from crash_data\"\n",
    "pd.read_sql_query(query, conn).iat[0, 0]"
   ]
  },
  {
   "cell_type": "code",
   "execution_count": 15,
   "id": "fb0beccd",
   "metadata": {
    "ExecuteTime": {
     "end_time": "2024-01-06T18:03:45.503925Z",
     "start_time": "2024-01-06T18:03:45.502021Z"
    }
   },
   "outputs": [],
   "source": [
    "combinations = list(itertools.combinations(num_cols, 2))\n",
    "num_functions = ['min', 'max', 'avg', 'total']\n",
    "all_perm = list(itertools.permutations(num_functions, 2))\n",
    "all_perm.extend([(f, f) for f in num_functions])"
   ]
  },
  {
   "cell_type": "code",
   "execution_count": 19,
   "id": "873cda57",
   "metadata": {},
   "outputs": [
    {
     "data": {
      "text/plain": [
       "[('min', 'max'),\n",
       " ('min', 'avg'),\n",
       " ('min', 'total'),\n",
       " ('max', 'min'),\n",
       " ('max', 'avg'),\n",
       " ('max', 'total'),\n",
       " ('avg', 'min'),\n",
       " ('avg', 'max'),\n",
       " ('avg', 'total'),\n",
       " ('total', 'min'),\n",
       " ('total', 'max'),\n",
       " ('total', 'avg')]"
      ]
     },
     "execution_count": 19,
     "metadata": {},
     "output_type": "execute_result"
    }
   ],
   "source": []
  },
  {
   "cell_type": "code",
   "execution_count": 18,
   "id": "64c524d9",
   "metadata": {
    "ExecuteTime": {
     "end_time": "2024-01-06T18:10:33.313654Z",
     "start_time": "2024-01-06T18:10:32.716334Z"
    }
   },
   "outputs": [
    {
     "name": "stdout",
     "output_type": "stream",
     "text": [
      "what is min speed_limit and max speed_limit:    min_speed_limit  max_speed_limit\n",
      "0              0.0             75.0\n",
      "what is min vehicle_year and max vehicle_year:    min_vehicle_year  max_vehicle_year\n",
      "0            2001.0            2024.0\n",
      "what is min speed_limit and max vehicle_year:    min_speed_limit  max_vehicle_year\n",
      "0              0.0            2024.0\n",
      "what is min vehicle_year and max speed_limit:    min_vehicle_year  max_speed_limit\n",
      "0            2001.0             75.0\n",
      "what is min speed_limit and avg speed_limit:    min_speed_limit  avg_speed_limit\n",
      "0              0.0        32.551881\n",
      "what is min vehicle_year and avg vehicle_year:    min_vehicle_year  avg_vehicle_year\n",
      "0            2001.0       2011.543701\n",
      "what is min speed_limit and avg vehicle_year:    min_speed_limit  avg_vehicle_year\n",
      "0              0.0       2011.543701\n",
      "what is min vehicle_year and avg speed_limit:    min_vehicle_year  avg_speed_limit\n",
      "0            2001.0        32.551881\n",
      "what is min speed_limit and total speed_limit:    min_speed_limit  total_speed_limit\n",
      "0              0.0          5565330.0\n",
      "what is min vehicle_year and total vehicle_year:    min_vehicle_year  total_vehicle_year\n",
      "0            2001.0         312426933.0\n",
      "what is min speed_limit and total vehicle_year:    min_speed_limit  total_vehicle_year\n",
      "0              0.0         312426933.0\n",
      "what is min vehicle_year and total speed_limit:    min_vehicle_year  total_speed_limit\n",
      "0            2001.0          5565330.0\n",
      "what is max speed_limit and min speed_limit:    max_speed_limit  min_speed_limit\n",
      "0             75.0              0.0\n",
      "what is max vehicle_year and min vehicle_year:    max_vehicle_year  min_vehicle_year\n",
      "0            2024.0            2001.0\n",
      "what is max speed_limit and min vehicle_year:    max_speed_limit  min_vehicle_year\n",
      "0             75.0            2001.0\n",
      "what is max vehicle_year and min speed_limit:    max_vehicle_year  min_speed_limit\n",
      "0            2024.0              0.0\n",
      "what is max speed_limit and avg speed_limit:    max_speed_limit  avg_speed_limit\n",
      "0             75.0        32.551881\n",
      "what is max vehicle_year and avg vehicle_year:    max_vehicle_year  avg_vehicle_year\n",
      "0            2024.0       2011.543701\n",
      "what is max speed_limit and avg vehicle_year:    max_speed_limit  avg_vehicle_year\n",
      "0             75.0       2011.543701\n",
      "what is max vehicle_year and avg speed_limit:    max_vehicle_year  avg_speed_limit\n",
      "0            2024.0        32.551881\n",
      "what is max speed_limit and total speed_limit:    max_speed_limit  total_speed_limit\n",
      "0             75.0          5565330.0\n",
      "what is max vehicle_year and total vehicle_year:    max_vehicle_year  total_vehicle_year\n",
      "0            2024.0         312426933.0\n",
      "what is max speed_limit and total vehicle_year:    max_speed_limit  total_vehicle_year\n",
      "0             75.0         312426933.0\n",
      "what is max vehicle_year and total speed_limit:    max_vehicle_year  total_speed_limit\n",
      "0            2024.0          5565330.0\n",
      "what is avg speed_limit and min speed_limit:    avg_speed_limit  min_speed_limit\n",
      "0        32.551881              0.0\n",
      "what is avg vehicle_year and min vehicle_year:    avg_vehicle_year  min_vehicle_year\n",
      "0       2011.543701            2001.0\n",
      "what is avg speed_limit and min vehicle_year:    avg_speed_limit  min_vehicle_year\n",
      "0        32.551881            2001.0\n",
      "what is avg vehicle_year and min speed_limit:    avg_vehicle_year  min_speed_limit\n",
      "0       2011.543701              0.0\n",
      "what is avg speed_limit and max speed_limit:    avg_speed_limit  max_speed_limit\n",
      "0        32.551881             75.0\n",
      "what is avg vehicle_year and max vehicle_year:    avg_vehicle_year  max_vehicle_year\n",
      "0       2011.543701            2024.0\n",
      "what is avg speed_limit and max vehicle_year:    avg_speed_limit  max_vehicle_year\n",
      "0        32.551881            2024.0\n",
      "what is avg vehicle_year and max speed_limit:    avg_vehicle_year  max_speed_limit\n",
      "0       2011.543701             75.0\n",
      "what is avg speed_limit and total speed_limit:    avg_speed_limit  total_speed_limit\n",
      "0        32.551881          5565330.0\n",
      "what is avg vehicle_year and total vehicle_year:    avg_vehicle_year  total_vehicle_year\n",
      "0       2011.543701         312426933.0\n",
      "what is avg speed_limit and total vehicle_year:    avg_speed_limit  total_vehicle_year\n",
      "0        32.551881         312426933.0\n",
      "what is avg vehicle_year and total speed_limit:    avg_vehicle_year  total_speed_limit\n",
      "0       2011.543701          5565330.0\n",
      "what is total speed_limit and min speed_limit:    total_speed_limit  min_speed_limit\n",
      "0          5565330.0              0.0\n",
      "what is total vehicle_year and min vehicle_year:    total_vehicle_year  min_vehicle_year\n",
      "0         312426933.0            2001.0\n",
      "what is total speed_limit and min vehicle_year:    total_speed_limit  min_vehicle_year\n",
      "0          5565330.0            2001.0\n",
      "what is total vehicle_year and min speed_limit:    total_vehicle_year  min_speed_limit\n",
      "0         312426933.0              0.0\n",
      "what is total speed_limit and max speed_limit:    total_speed_limit  max_speed_limit\n",
      "0          5565330.0             75.0\n",
      "what is total vehicle_year and max vehicle_year:    total_vehicle_year  max_vehicle_year\n",
      "0         312426933.0            2024.0\n",
      "what is total speed_limit and max vehicle_year:    total_speed_limit  max_vehicle_year\n",
      "0          5565330.0            2024.0\n",
      "what is total vehicle_year and max speed_limit:    total_vehicle_year  max_speed_limit\n",
      "0         312426933.0             75.0\n",
      "what is total speed_limit and avg speed_limit:    total_speed_limit  avg_speed_limit\n",
      "0          5565330.0        32.551881\n",
      "what is total vehicle_year and avg vehicle_year:    total_vehicle_year  avg_vehicle_year\n",
      "0         312426933.0       2011.543701\n",
      "what is total speed_limit and avg vehicle_year:    total_speed_limit  avg_vehicle_year\n",
      "0          5565330.0       2011.543701\n",
      "what is total vehicle_year and avg speed_limit:    total_vehicle_year  avg_speed_limit\n",
      "0         312426933.0        32.551881\n",
      "what is min speed_limit when driver_at_fault\n",
      "what is min speed_limit when not driver_at_fault\n",
      "what is min vehicle_year when driver_at_fault\n",
      "what is min vehicle_year when not driver_at_fault\n",
      "what is max speed_limit when driver_at_fault\n",
      "what is max speed_limit when not driver_at_fault\n",
      "what is max vehicle_year when driver_at_fault\n",
      "what is max vehicle_year when not driver_at_fault\n",
      "what is avg speed_limit when driver_at_fault\n",
      "what is avg speed_limit when not driver_at_fault\n",
      "what is avg vehicle_year when driver_at_fault\n",
      "what is avg vehicle_year when not driver_at_fault\n",
      "what is total speed_limit when driver_at_fault\n",
      "what is total speed_limit when not driver_at_fault\n",
      "what is total vehicle_year when driver_at_fault\n",
      "what is total vehicle_year when not driver_at_fault\n",
      "what vehicle_make has most counts when driver_at_fault\n",
      "what vehicle_make has least counts when driver_at_fault\n",
      "what are the top 2 vehicle_make when driver_at_fault\n",
      "what are the top 3 vehicle_make when driver_at_fault\n",
      "what injury_severity has most counts when driver_at_fault\n",
      "what injury_severity has least counts when driver_at_fault\n",
      "what are the top 2 injury_severity when driver_at_fault\n",
      "what are the top 3 injury_severity when driver_at_fault\n",
      "what vehicle_continuing_dir has most counts when driver_at_fault\n",
      "what vehicle_continuing_dir has least counts when driver_at_fault\n",
      "what are the top 2 vehicle_continuing_dir when driver_at_fault\n",
      "what are the top 3 vehicle_continuing_dir when driver_at_fault\n",
      "what is the most injury_severity by vehicle_make\n",
      "what is the least injury_severity by vehicle_make\n",
      "what is the most vehicle_continuing_dir by vehicle_make\n",
      "what is the least vehicle_continuing_dir by vehicle_make\n",
      "what is the most vehicle_make by injury_severity\n",
      "what is the least vehicle_make by injury_severity\n",
      "what is the most vehicle_continuing_dir by injury_severity\n",
      "what is the least vehicle_continuing_dir by injury_severity\n",
      "what is the most vehicle_make by vehicle_continuing_dir\n",
      "what is the least vehicle_make by vehicle_continuing_dir\n",
      "what is the most injury_severity by vehicle_continuing_dir\n",
      "what is the least injury_severity by vehicle_continuing_dir\n",
      "what is min speed_limit by vehicle_make\n",
      "what is min speed_limit by injury_severity\n",
      "what is min speed_limit by vehicle_continuing_dir\n",
      "what is min vehicle_year by vehicle_make\n",
      "what is min vehicle_year by injury_severity\n",
      "what is min vehicle_year by vehicle_continuing_dir\n",
      "what is max speed_limit by vehicle_make\n",
      "what is max speed_limit by injury_severity\n",
      "what is max speed_limit by vehicle_continuing_dir\n",
      "what is max vehicle_year by vehicle_make\n",
      "what is max vehicle_year by injury_severity\n",
      "what is max vehicle_year by vehicle_continuing_dir\n",
      "what is avg speed_limit by vehicle_make\n",
      "what is avg speed_limit by injury_severity\n",
      "what is avg speed_limit by vehicle_continuing_dir\n",
      "what is avg vehicle_year by vehicle_make\n",
      "what is avg vehicle_year by injury_severity\n",
      "what is avg vehicle_year by vehicle_continuing_dir\n",
      "what is total speed_limit by vehicle_make\n",
      "what is total speed_limit by injury_severity\n",
      "what is total speed_limit by vehicle_continuing_dir\n",
      "what is total vehicle_year by vehicle_make\n",
      "what is total vehicle_year by injury_severity\n",
      "what is total vehicle_year by vehicle_continuing_dir\n",
      "what is min speed_limit by crash_date month\n",
      "what is min speed_limit by crash_date year\n",
      "what is min speed_limit by crash_date month and year\n",
      "what is min vehicle_year by crash_date month\n",
      "what is min vehicle_year by crash_date year\n",
      "what is min vehicle_year by crash_date month and year\n",
      "what is max speed_limit by crash_date month\n",
      "what is max speed_limit by crash_date year\n",
      "what is max speed_limit by crash_date month and year\n",
      "what is max vehicle_year by crash_date month\n",
      "what is max vehicle_year by crash_date year\n",
      "what is max vehicle_year by crash_date month and year\n",
      "what is avg speed_limit by crash_date month\n",
      "what is avg speed_limit by crash_date year\n",
      "what is avg speed_limit by crash_date month and year\n",
      "what is avg vehicle_year by crash_date month\n",
      "what is avg vehicle_year by crash_date year\n",
      "what is avg vehicle_year by crash_date month and year\n",
      "what is total speed_limit by crash_date month\n",
      "what is total speed_limit by crash_date year\n",
      "what is total speed_limit by crash_date month and year\n",
      "what is total vehicle_year by crash_date month\n",
      "what is total vehicle_year by crash_date year\n",
      "what is total vehicle_year by crash_date month and year\n",
      "what is most vehicle_make by crash_date month\n",
      "what is least vehicle_make by crash_date year\n",
      "what is most vehicle_make by crash_date month and year\n",
      "what is most vehicle_make by crash_date month\n",
      "what is least vehicle_make by crash_date year\n",
      "what is least vehicle_make by crash_date month and year\n",
      "what are the top 2 vehicle_make by month\n",
      "what are the top 2 vehicle_make by year\n",
      "what are the top 3 vehicle_make by month\n",
      "what are the top 3 vehicle_make by year\n",
      "what is most injury_severity by crash_date month\n",
      "what is least injury_severity by crash_date year\n",
      "what is most injury_severity by crash_date month and year\n",
      "what is most injury_severity by crash_date month\n",
      "what is least injury_severity by crash_date year\n",
      "what is least injury_severity by crash_date month and year\n",
      "what are the top 2 injury_severity by month\n",
      "what are the top 2 injury_severity by year\n",
      "what are the top 3 injury_severity by month\n",
      "what are the top 3 injury_severity by year\n",
      "what is most vehicle_continuing_dir by crash_date month\n",
      "what is least vehicle_continuing_dir by crash_date year\n",
      "what is most vehicle_continuing_dir by crash_date month and year\n",
      "what is most vehicle_continuing_dir by crash_date month\n",
      "what is least vehicle_continuing_dir by crash_date year\n",
      "what is least vehicle_continuing_dir by crash_date month and year\n",
      "what are the top 2 vehicle_continuing_dir by month\n",
      "what are the top 2 vehicle_continuing_dir by year\n",
      "what are the top 3 vehicle_continuing_dir by month\n",
      "what are the top 3 vehicle_continuing_dir by year\n",
      "which month has most driver_at_fault\n",
      "which month has least driver_at_fault\n",
      "which year has most driver_at_fault\n",
      "which year has least driver_at_fault\n",
      "which month and year has most driver_at_fault\n",
      "which month and year has least driver_at_fault\n"
     ]
    }
   ],
   "source": [
    "from copy import copy\n",
    "combinations = list(itertools.combinations(num_cols, 2))\n",
    "\n",
    "num_functions = ['min', 'max', 'avg', 'total']\n",
    "all_perm = list(itertools.permutations(num_functions, 2))\n",
    "full_perm = copy(all_perm)\n",
    "full_perm.extend([(f, f) for f in num_functions])\n",
    "\n",
    "# for just one numerical feature\n",
    "if len(num_cols) == 1:\n",
    "    for f1, f2 in all_perm:\n",
    "        for c in num_cols:\n",
    "            query = f\"SELECT {f1}({c}) as {f1}_{c}, {f2}({c}) as {f2}_{c} from crash_data\"\n",
    "            print(f\"what is {f1} {c} and {f2} {c}: {pd.read_sql_query(query, conn)}\")\n",
    "\n",
    "else:\n",
    "    # numerical with numerical\n",
    "    for f1, f2 in all_perm:\n",
    "        for c1, c2 in combinations:\n",
    "            query1 = f\"SELECT {f1}({c1}) as {f1}_{c1}, {f2}({c1}) as {f2}_{c1} from crash_data\"\n",
    "            print(f\"what is {f1} {c1} and {f2} {c1}: {pd.read_sql_query(query1, conn)}\")\n",
    "            query2 = f\"SELECT {f1}({c2}) as {f1}_{c2}, {f2}({c2}) as {f2}_{c2} from crash_data\"\n",
    "            print(f\"what is {f1} {c2} and {f2} {c2}: {pd.read_sql_query(query2, conn)}\")\n",
    "            query3 = f\"SELECT {f1}({c1}) as {f1}_{c1}, {f2}({c2}) as {f2}_{c2} from crash_data\"\n",
    "            print(f\"what is {f1} {c1} and {f2} {c2}: {pd.read_sql_query(query3, conn)}\")\n",
    "            query4 = f\"SELECT {f1}({c2}) as {f1}_{c2}, {f2}({c1}) as {f2}_{c1} from crash_data\"\n",
    "            print(f\"what is {f1} {c2} and {f2} {c1}: {pd.read_sql_query(query4, conn)}\")\n",
    "\n",
    "# Only categorical\n",
    "for col in cat_cols:\n",
    "    print(f\"what is most common {col}\")\n",
    "    print(f\"what is least common {col}\")\n",
    "    for n in range(1, 3):\n",
    "        print(f\"what are the top {n+1} {col}\")\n",
    "        print(f\"what are the bottom {n+1} {col}\")\n",
    "\n",
    "# Only binary\n",
    "for col in bin_cols:\n",
    "    print(f\"how many {col}\")\n",
    "    print(f\"how many not {col}\")\n",
    "\n",
    "# numerical with binary\n",
    "for func in num_functions:\n",
    "    for col in num_cols:\n",
    "        for cond in bin_cols:\n",
    "            print(f\"what is {func} {col} when {cond}\")\n",
    "            print(f\"what is {func} {col} when not {cond}\")\n",
    "\n",
    "# categorical with binary\n",
    "for col in cat_cols:\n",
    "    for cond in bin_cols:\n",
    "        print(f\"what {col} has most counts when {cond}\")\n",
    "        print(f\"what {col} has least counts when {cond}\")\n",
    "        for n in range(1, 3):\n",
    "            print(f\"what are the top {n+1} {col} when {cond}\")\n",
    "\n",
    "# categorical with categorical\n",
    "for i in cat_cols:\n",
    "    for j in cat_cols:\n",
    "        if j!= i:\n",
    "            print(f\"what is the most {j} by {i}\")\n",
    "            print(f\"what is the least {j} by {i}\")\n",
    "\n",
    "# numerical with categorical\n",
    "for func in num_functions:\n",
    "    for num_col in num_cols:\n",
    "        for cat_col in cat_cols:\n",
    "            print(f\"what is {func} {num_col} by {cat_col}\")\n",
    "\n",
    "dates = ['month', 'year']\n",
    "# numerical with date\n",
    "for func in num_functions:\n",
    "    for num_col in num_cols:\n",
    "        for date_col in date_cols:\n",
    "            print(f\"what is {func} {num_col} by {date_col} {dates[0]}\")\n",
    "            print(f\"what is {func} {num_col} by {date_col} {dates[1]}\")\n",
    "            print(f\"what is {func} {num_col} by {date_col} {dates[0]} and {dates[1]}\")\n",
    "\n",
    "# categorical with date\n",
    "for cat_col in cat_cols:\n",
    "    for date_col in date_cols:\n",
    "        print(f\"what is most {cat_col} by {date_col} {dates[0]}\")\n",
    "        print(f\"what is least {cat_col} by {date_col} {dates[1]}\")\n",
    "        print(f\"what is most {cat_col} by {date_col} {dates[0]} and {dates[1]}\")\n",
    "        print(f\"what is most {cat_col} by {date_col} {dates[0]}\")\n",
    "        print(f\"what is least {cat_col} by {date_col} {dates[1]}\")\n",
    "        print(f\"what is least {cat_col} by {date_col} {dates[0]} and {dates[1]}\")\n",
    "        for n in range(1, 3):\n",
    "            print(f\"what are the top {n+1} {cat_col} by {dates[0]}\")\n",
    "            print(f\"what are the top {n+1} {cat_col} by {dates[1]}\")\n",
    "\n",
    "# date with binary\n",
    "for i in range(len(dates)-1):\n",
    "    for j in bin_cols:\n",
    "        print(f\"which {dates[i]} has most {j}\")\n",
    "        print(f\"which {dates[i]} has least {j}\")\n",
    "        print(f\"which {dates[i+1]} has most {j}\")\n",
    "        print(f\"which {dates[i+1]} has least {j}\")\n",
    "        print(f\"which {dates[i]} and {dates[i+1]} has most {j}\")\n",
    "        print(f\"which {dates[i]} and {dates[i+1]} has least {j}\")"
   ]
  },
  {
   "cell_type": "code",
   "execution_count": null,
   "metadata": {
    "ExecuteTime": {
     "end_time": "2024-01-06T18:50:49.694660Z",
     "start_time": "2024-01-06T18:50:49.688517Z"
    },
    "collapsed": false
   },
   "outputs": [],
   "source": []
  },
  {
   "cell_type": "code",
   "execution_count": 38,
   "metadata": {
    "ExecuteTime": {
     "end_time": "2024-01-06T18:32:09.542607Z",
     "start_time": "2024-01-06T18:32:09.534898Z"
    },
    "collapsed": false
   },
   "outputs": [
    {
     "data": {
      "text/plain": [
       "0         2019-05-31\n",
       "1         2023-07-21\n",
       "2         2023-07-20\n",
       "3         2023-07-23\n",
       "4         2023-07-24\n",
       "             ...    \n",
       "170963    2016-03-01\n",
       "170964    2017-07-19\n",
       "170965    2020-11-23\n",
       "170966    2019-11-23\n",
       "170967    2015-01-21\n",
       "Name: crash_date, Length: 170968, dtype: object"
      ]
     },
     "execution_count": 38,
     "metadata": {},
     "output_type": "execute_result"
    }
   ],
   "source": [
    "df['month_year'] = df[\"\"]"
   ]
  },
  {
   "cell_type": "code",
   "execution_count": 47,
   "metadata": {
    "ExecuteTime": {
     "end_time": "2024-01-06T18:36:26.499377Z",
     "start_time": "2024-01-06T18:36:26.494704Z"
    },
    "collapsed": false
   },
   "outputs": [
    {
     "data": {
      "text/plain": [
       "['min', 'max', 'avg', 'total']"
      ]
     },
     "execution_count": 47,
     "metadata": {},
     "output_type": "execute_result"
    }
   ],
   "source": [
    "num_functions"
   ]
  },
  {
   "cell_type": "code",
   "execution_count": 59,
   "metadata": {
    "ExecuteTime": {
     "end_time": "2024-01-06T18:56:51.242963Z",
     "start_time": "2024-01-06T18:56:51.238155Z"
    },
    "collapsed": false
   },
   "outputs": [
    {
     "name": "stdout",
     "output_type": "stream",
     "text": [
      "what is most vehicle_make by crash_date month\n",
      "what is least vehicle_make by crash_date year\n",
      "what is most vehicle_make by crash_date month and year\n",
      "what is most vehicle_make by crash_date month\n",
      "what is least vehicle_make by crash_date year\n",
      "what is least vehicle_make by crash_date month and year\n",
      "what are the top 2 vehicle_make by month\n",
      "what are the top 2 vehicle_make by year\n",
      "what are the top 3 vehicle_make by month\n",
      "what are the top 3 vehicle_make by year\n",
      "what is most injury_severity by crash_date month\n",
      "what is least injury_severity by crash_date year\n",
      "what is most injury_severity by crash_date month and year\n",
      "what is most injury_severity by crash_date month\n",
      "what is least injury_severity by crash_date year\n",
      "what is least injury_severity by crash_date month and year\n",
      "what are the top 2 injury_severity by month\n",
      "what are the top 2 injury_severity by year\n",
      "what are the top 3 injury_severity by month\n",
      "what are the top 3 injury_severity by year\n",
      "what is most vehicle_continuing_dir by crash_date month\n",
      "what is least vehicle_continuing_dir by crash_date year\n",
      "what is most vehicle_continuing_dir by crash_date month and year\n",
      "what is most vehicle_continuing_dir by crash_date month\n",
      "what is least vehicle_continuing_dir by crash_date year\n",
      "what is least vehicle_continuing_dir by crash_date month and year\n",
      "what are the top 2 vehicle_continuing_dir by month\n",
      "what are the top 2 vehicle_continuing_dir by year\n",
      "what are the top 3 vehicle_continuing_dir by month\n",
      "what are the top 3 vehicle_continuing_dir by year\n"
     ]
    }
   ],
   "source": [
    "for cat_col in cat_cols:\n",
    "    for date_col in date_cols:\n",
    "        print(f\"what is most {cat_col} by {date_col} {dates[0]}\")\n",
    "        print(f\"what is least {cat_col} by {date_col} {dates[1]}\")\n",
    "        print(f\"what is most {cat_col} by {date_col} {dates[0]} and {dates[1]}\")\n",
    "        print(f\"what is most {cat_col} by {date_col} {dates[0]}\")\n",
    "        print(f\"what is least {cat_col} by {date_col} {dates[1]}\")\n",
    "        print(f\"what is least {cat_col} by {date_col} {dates[0]} and {dates[1]}\")\n",
    "        for n in range(1, 3):\n",
    "            print(f\"what are the top {n+1} {cat_col} by {dates[0]}\")\n",
    "            print(f\"what are the top {n+1} {cat_col} by {dates[1]}\")"
   ]
  },
  {
   "cell_type": "code",
   "execution_count": null,
   "id": "d8e623dc",
   "metadata": {},
   "outputs": [],
   "source": [
    "# Karan (make 3 cells with dynamic for loop covering all the questions):\n",
    "# cat with binary     : what is injury severity when driver was at fault\n",
    "# num with cat        : what is avg speed limit by injury severity\n",
    "#\n",
    "# Shantanu (make 4 cells with dynamic for loop covering all the questions)::\n",
    "# num with date       : what is avg speed limit by month/year\n",
    "# cat with cat        : what is injury severity by vehicle make\n",
    "# cat with date       : what is vehicle make by month\n",
    "# binary with date    : how many times driver was at fault by year"
   ]
  },
  {
   "cell_type": "code",
   "execution_count": 29,
   "metadata": {
    "ExecuteTime": {
     "end_time": "2024-01-06T18:11:04.278818Z",
     "start_time": "2024-01-06T18:11:04.273453Z"
    },
    "collapsed": false
   },
   "outputs": [
    {
     "data": {
      "text/plain": [
       "(['vehicle_make', 'injury_severity', 'vehicle_continuing_dir'],\n",
       " ['driver_at_fault'])"
      ]
     },
     "execution_count": 29,
     "metadata": {},
     "output_type": "execute_result"
    }
   ],
   "source": [
    "cat_cols, bin_cols"
   ]
  },
  {
   "cell_type": "code",
   "execution_count": 32,
   "metadata": {
    "ExecuteTime": {
     "end_time": "2024-01-06T18:24:38.750300Z",
     "start_time": "2024-01-06T18:24:38.725394Z"
    },
    "collapsed": false
   },
   "outputs": [
    {
     "data": {
      "text/plain": [
       "North      46536\n",
       "South      45634\n",
       "East       35856\n",
       "West       34655\n",
       "Unknown     5621\n",
       "nan         2666\n",
       "Name: vehicle_continuing_dir, dtype: int64"
      ]
     },
     "execution_count": 32,
     "metadata": {},
     "output_type": "execute_result"
    }
   ],
   "source": [
    "df[\"vehicle_continuing_dir\"].value_counts()"
   ]
  },
  {
   "cell_type": "code",
   "execution_count": null,
   "metadata": {
    "collapsed": false
   },
   "outputs": [],
   "source": [
    "# What vehicle_make has most counts when driver at fault\n",
    "# What was the most injury_severity when driver at fault\n",
    "# What was the vehicle_continuing_dir when driver at fault\n",
    "\n",
    "# What vehicle_make has most counts when driver at no fault\n",
    "# What was the most injury_severity when driver at no fault\n",
    "# What was the vehicle_continuing_dir when driver at no fault\n",
    "\n",
    "# What are the top two vehicle_make when driver at fault\n",
    "# What was the top two injury_severity when driver at fault\n",
    "# What are the top two vehicle_make when driver at no fault\n",
    "# What are the top two injury_severity when driver at no fault"
   ]
  },
  {
   "cell_type": "code",
   "execution_count": 34,
   "metadata": {
    "ExecuteTime": {
     "end_time": "2024-01-06T18:27:09.096387Z",
     "start_time": "2024-01-06T18:27:09.090195Z"
    },
    "collapsed": false
   },
   "outputs": [
    {
     "name": "stdout",
     "output_type": "stream",
     "text": [
      "what vehicle_make has most counts when driver_at_fault\n",
      "what vehicle_make has least counts when driver_at_fault\n",
      "what are the top 2 vehicle_make when driver_at_fault\n",
      "what are the top 3 vehicle_make when driver_at_fault\n",
      "what injury_severity has most counts when driver_at_fault\n",
      "what injury_severity has least counts when driver_at_fault\n",
      "what are the top 2 injury_severity when driver_at_fault\n",
      "what are the top 3 injury_severity when driver_at_fault\n",
      "what vehicle_continuing_dir has most counts when driver_at_fault\n",
      "what vehicle_continuing_dir has least counts when driver_at_fault\n",
      "what are the top 2 vehicle_continuing_dir when driver_at_fault\n",
      "what are the top 3 vehicle_continuing_dir when driver_at_fault\n"
     ]
    }
   ],
   "source": [
    "\"\"\"\n",
    "1. generated question based on pandas dataframe (done)\n",
    "2. generated sql queries based on #1\n",
    "3. canonical question based on #1 (chatGPT) - 3x of #1\n",
    "4. LLM Model to convert canonical question to best generated question\n",
    "\n",
    "input = paraphrased question\n",
    "output = best generated question (w/ cosine similarity and w/ LLM) (from #4)\n",
    "result = scores between cosine and LLM (metric)\n",
    "\"\"\""
   ]
  },
  {
   "cell_type": "code",
   "execution_count": 28,
   "metadata": {
    "ExecuteTime": {
     "end_time": "2024-01-06T18:10:39.900283Z",
     "start_time": "2024-01-06T18:10:39.891549Z"
    },
    "collapsed": false
   },
   "outputs": [
    {
     "data": {
      "text/plain": [
       "['min', 'max', 'avg', 'total']"
      ]
     },
     "execution_count": 28,
     "metadata": {},
     "output_type": "execute_result"
    }
   ],
   "source": [
    "num_functions"
   ]
  },
  {
   "cell_type": "code",
   "execution_count": null,
   "metadata": {
    "collapsed": false
   },
   "outputs": [],
   "source": []
  },
  {
   "cell_type": "code",
   "execution_count": null,
   "metadata": {
    "collapsed": false
   },
   "outputs": [],
   "source": []
  },
  {
   "cell_type": "code",
   "execution_count": null,
   "metadata": {
    "collapsed": false
   },
   "outputs": [],
   "source": []
  },
  {
   "cell_type": "code",
   "execution_count": null,
   "id": "734519bd",
   "metadata": {},
   "outputs": [],
   "source": [
    "what is avg and min speed\n",
    "what is avg and min year\n",
    "what is avg year and min speed\n",
    "what is avg speed and min year\n",
    "what is avg and min speed\n",
    "what is avg and min cost\n",
    "what is avg cost and min speed\n",
    "what is avg speed and min cost\n",
    "what is avg and min year\n",
    "what is avg and min cost\n",
    "what is avg cost and min year\n",
    "what is avg year and min cost\n",
    "what is avg and max speed\n",
    "what is avg and max year\n",
    "what is avg year and max speed\n",
    "what is avg speed and max year\n",
    "what is avg and max speed\n",
    "what is avg and max cost\n",
    "what is avg cost and max speed\n",
    "what is avg speed and max cost\n",
    "what is avg and max year\n",
    "what is avg and max cost\n",
    "what is avg cost and max year\n",
    "what is avg year and max cost\n",
    "what is avg and sum speed\n",
    "what is avg and sum year\n",
    "what is avg year and sum speed\n",
    "what is avg speed and sum year\n",
    "what is avg and sum speed\n",
    "what is avg and sum cost\n",
    "what is avg cost and sum speed\n",
    "what is avg speed and sum cost\n",
    "what is avg and sum year\n",
    "what is avg and sum cost\n",
    "what is avg cost and sum year\n",
    "what is avg year and sum cost\n",
    "what is min and avg speed\n",
    "what is min and avg year\n",
    "what is min year and avg speed\n",
    "what is min speed and avg year\n",
    "what is min and avg speed\n",
    "what is min and avg cost\n",
    "what is min cost and avg speed\n",
    "what is min speed and avg cost\n",
    "what is min and avg year\n",
    "what is min and avg cost\n",
    "what is min cost and avg year\n",
    "what is min year and avg cost\n",
    "what is min and max speed\n",
    "what is min and max year\n",
    "what is min year and max speed\n",
    "what is min speed and max year\n",
    "what is min and max speed\n",
    "what is min and max cost\n",
    "what is min cost and max speed\n",
    "what is min speed and max cost\n",
    "what is min and max year\n",
    "what is min and max cost\n",
    "what is min cost and max year\n",
    "what is min year and max cost\n",
    "what is min and sum speed\n",
    "what is min and sum year\n",
    "what is min year and sum speed\n",
    "what is min speed and sum year\n",
    "what is min and sum speed\n",
    "what is min and sum cost\n",
    "what is min cost and sum speed\n",
    "what is min speed and sum cost\n",
    "what is min and sum year\n",
    "what is min and sum cost\n",
    "what is min cost and sum year\n",
    "what is min year and sum cost\n",
    "what is max and avg speed\n",
    "what is max and avg year\n",
    "what is max year and avg speed\n",
    "what is max speed and avg year\n",
    "what is max and avg speed\n",
    "what is max and avg cost\n",
    "what is max cost and avg speed\n",
    "what is max speed and avg cost\n",
    "what is max and avg year\n",
    "what is max and avg cost\n",
    "what is max cost and avg year\n",
    "what is max year and avg cost\n",
    "what is max and min speed\n",
    "what is max and min year\n",
    "what is max year and min speed\n",
    "what is max speed and min year\n",
    "what is max and min speed\n",
    "what is max and min cost\n",
    "what is max cost and min speed\n",
    "what is max speed and min cost\n",
    "what is max and min year\n",
    "what is max and min cost\n",
    "what is max cost and min year\n",
    "what is max year and min cost\n",
    "what is max and sum speed\n",
    "what is max and sum year\n",
    "what is max year and sum speed\n",
    "what is max speed and sum year\n",
    "what is max and sum speed\n",
    "what is max and sum cost\n",
    "what is max cost and sum speed\n",
    "what is max speed and sum cost\n",
    "what is max and sum year\n",
    "what is max and sum cost\n",
    "what is max cost and sum year\n",
    "what is max year and sum cost\n",
    "what is sum and avg speed\n",
    "what is sum and avg year\n",
    "what is sum year and avg speed\n",
    "what is sum speed and avg year\n",
    "what is sum and avg speed\n",
    "what is sum and avg cost\n",
    "what is sum cost and avg speed\n",
    "what is sum speed and avg cost\n",
    "what is sum and avg year\n",
    "what is sum and avg cost\n",
    "what is sum cost and avg year\n",
    "what is sum year and avg cost\n",
    "what is sum and min speed\n",
    "what is sum and min year\n",
    "what is sum year and min speed\n",
    "what is sum speed and min year\n",
    "what is sum and min speed\n",
    "what is sum and min cost\n",
    "what is sum cost and min speed\n",
    "what is sum speed and min cost\n",
    "what is sum and min year\n",
    "what is sum and min cost\n",
    "what is sum cost and min year\n",
    "what is sum year and min cost\n",
    "what is sum and max speed\n",
    "what is sum and max year\n",
    "what is sum year and max speed\n",
    "what is sum speed and max year\n",
    "what is sum and max speed\n",
    "what is sum and max cost\n",
    "what is sum cost and max speed\n",
    "what is sum speed and max cost\n",
    "what is sum and max year\n",
    "what is sum and max cost\n",
    "what is sum cost and max year\n",
    "what is sum year and max cost\n",
    "what is avg and avg speed\n",
    "what is avg and avg year\n",
    "what is avg year and avg speed\n",
    "what is avg speed and avg year\n",
    "what is avg and avg speed\n",
    "what is avg and avg cost\n",
    "what is avg cost and avg speed\n",
    "what is avg speed and avg cost\n",
    "what is avg and avg year\n",
    "what is avg and avg cost\n",
    "what is avg cost and avg year\n",
    "what is avg year and avg cost\n",
    "what is min and min speed\n",
    "what is min and min year\n",
    "what is min year and min speed\n",
    "what is min speed and min year\n",
    "what is min and min speed\n",
    "what is min and min cost\n",
    "what is min cost and min speed\n",
    "what is min speed and min cost\n",
    "what is min and min year\n",
    "what is min and min cost\n",
    "what is min cost and min year\n",
    "what is min year and min cost\n",
    "what is max and max speed\n",
    "what is max and max year\n",
    "what is max year and max speed\n",
    "what is max speed and max year\n",
    "what is max and max speed\n",
    "what is max and max cost\n",
    "what is max cost and max speed\n",
    "what is max speed and max cost\n",
    "what is max and max year\n",
    "what is max and max cost\n",
    "what is max cost and max year\n",
    "what is max year and max cost\n",
    "what is sum and sum speed\n",
    "what is sum and sum year\n",
    "what is sum year and sum speed\n",
    "what is sum speed and sum year\n",
    "what is sum and sum speed\n",
    "what is sum and sum cost\n",
    "what is sum cost and sum speed\n",
    "what is sum speed and sum cost\n",
    "what is sum and sum year\n",
    "what is sum and sum cost\n",
    "what is sum cost and sum year\n",
    "what is sum year and sum cost\n",
    "​"
   ]
  },
  {
   "cell_type": "code",
   "execution_count": 49,
   "id": "73305587",
   "metadata": {},
   "outputs": [
    {
     "name": "stdout",
     "output_type": "stream",
     "text": [
      "what is min speed_limit when driver_at_fault\n",
      "what is min speed_limit when not driver_at_fault\n",
      "what is min vehicle_year when driver_at_fault\n",
      "what is min vehicle_year when not driver_at_fault\n",
      "what is max speed_limit when driver_at_fault\n",
      "what is max speed_limit when not driver_at_fault\n",
      "what is max vehicle_year when driver_at_fault\n",
      "what is max vehicle_year when not driver_at_fault\n",
      "what is avg speed_limit when driver_at_fault\n",
      "what is avg speed_limit when not driver_at_fault\n",
      "what is avg vehicle_year when driver_at_fault\n",
      "what is avg vehicle_year when not driver_at_fault\n",
      "what is total speed_limit when driver_at_fault\n",
      "what is total speed_limit when not driver_at_fault\n",
      "what is total vehicle_year when driver_at_fault\n",
      "what is total vehicle_year when not driver_at_fault\n"
     ]
    }
   ],
   "source": [
    "### SQL QUERY FOR NUMERICAL WITH BINARY\n",
    "\n",
    "for func in num_functions:\n",
    "    for col in num_cols:\n",
    "        for cond in bin_cols:\n",
    "            print(f\"what is {func} {col} when {cond}\")\n",
    "            print(f\"what is {func} {col} when not {cond}\")"
   ]
  },
  {
   "cell_type": "code",
   "execution_count": 42,
   "id": "4e30350b",
   "metadata": {},
   "outputs": [
    {
     "name": "stdout",
     "output_type": "stream",
     "text": [
      "what is min speed_limit and max speed_limit:    min_speed_limit  max_speed_limit\n",
      "0              0.0             75.0\n",
      "what is min vehicle_year and max vehicle_year:    min_vehicle_year  max_vehicle_year\n",
      "0            2001.0            2024.0\n",
      "what is min speed_limit and max vehicle_year:    min_speed_limit  max_vehicle_year\n",
      "0              0.0            2024.0\n",
      "what is min vehicle_year and max speed_limit:    min_vehicle_year  max_speed_limit\n",
      "0            2001.0             75.0\n",
      "what is min speed_limit and max speed_limit:    min_speed_limit  max_speed_limit\n",
      "0              0.0             70.0\n",
      "what is min vehicle_year and max vehicle_year:    min_vehicle_year  max_vehicle_year\n",
      "0            2001.0            2024.0\n",
      "what is min speed_limit and max vehicle_year:    min_speed_limit  max_vehicle_year\n",
      "0              0.0            2024.0\n",
      "what is min vehicle_year and max speed_limit:    min_vehicle_year  max_speed_limit\n",
      "0            2001.0             70.0\n",
      "what is min speed_limit and avg speed_limit:    min_speed_limit  avg_speed_limit\n",
      "0              0.0        31.278448\n",
      "what is min vehicle_year and avg vehicle_year:    min_vehicle_year  avg_vehicle_year\n",
      "0            2001.0       2011.186619\n",
      "what is min speed_limit and avg vehicle_year:    min_speed_limit  avg_vehicle_year\n",
      "0              0.0       2011.186619\n",
      "what is min vehicle_year and avg speed_limit:    min_vehicle_year  avg_speed_limit\n",
      "0            2001.0        31.278448\n",
      "what is min speed_limit and avg speed_limit:    min_speed_limit  avg_speed_limit\n",
      "0              0.0        34.029684\n",
      "what is min vehicle_year and avg vehicle_year:    min_vehicle_year  avg_vehicle_year\n",
      "0            2001.0       2011.934343\n",
      "what is min speed_limit and avg vehicle_year:    min_speed_limit  avg_vehicle_year\n",
      "0              0.0       2011.934343\n",
      "what is min vehicle_year and avg speed_limit:    min_vehicle_year  avg_speed_limit\n",
      "0            2001.0        34.029684\n",
      "what is min speed_limit and total speed_limit:    min_speed_limit  total_speed_limit\n",
      "0              0.0          2872425.0\n",
      "what is min vehicle_year and total vehicle_year:    min_vehicle_year  total_vehicle_year\n",
      "0            2001.0         163195727.0\n",
      "what is min speed_limit and total vehicle_year:    min_speed_limit  total_vehicle_year\n",
      "0              0.0         163195727.0\n",
      "what is min vehicle_year and total speed_limit:    min_vehicle_year  total_speed_limit\n",
      "0            2001.0          2872425.0\n",
      "what is min speed_limit and total speed_limit:    min_speed_limit  total_speed_limit\n",
      "0              0.0          2692905.0\n",
      "what is min vehicle_year and total vehicle_year:    min_vehicle_year  total_vehicle_year\n",
      "0            2001.0         149231206.0\n",
      "what is min speed_limit and total vehicle_year:    min_speed_limit  total_vehicle_year\n",
      "0              0.0         149231206.0\n",
      "what is min vehicle_year and total speed_limit:    min_vehicle_year  total_speed_limit\n",
      "0            2001.0          2692905.0\n",
      "what is max speed_limit and min speed_limit:    max_speed_limit  min_speed_limit\n",
      "0             75.0              0.0\n",
      "what is max vehicle_year and min vehicle_year:    max_vehicle_year  min_vehicle_year\n",
      "0            2024.0            2001.0\n",
      "what is max speed_limit and min vehicle_year:    max_speed_limit  min_vehicle_year\n",
      "0             75.0            2001.0\n",
      "what is max vehicle_year and min speed_limit:    max_vehicle_year  min_speed_limit\n",
      "0            2024.0              0.0\n",
      "what is max speed_limit and min speed_limit:    max_speed_limit  min_speed_limit\n",
      "0             70.0              0.0\n",
      "what is max vehicle_year and min vehicle_year:    max_vehicle_year  min_vehicle_year\n",
      "0            2024.0            2001.0\n",
      "what is max speed_limit and min vehicle_year:    max_speed_limit  min_vehicle_year\n",
      "0             70.0            2001.0\n",
      "what is max vehicle_year and min speed_limit:    max_vehicle_year  min_speed_limit\n",
      "0            2024.0              0.0\n",
      "what is max speed_limit and avg speed_limit:    max_speed_limit  avg_speed_limit\n",
      "0             75.0        31.278448\n",
      "what is max vehicle_year and avg vehicle_year:    max_vehicle_year  avg_vehicle_year\n",
      "0            2024.0       2011.186619\n",
      "what is max speed_limit and avg vehicle_year:    max_speed_limit  avg_vehicle_year\n",
      "0             75.0       2011.186619\n",
      "what is max vehicle_year and avg speed_limit:    max_vehicle_year  avg_speed_limit\n",
      "0            2024.0        31.278448\n",
      "what is max speed_limit and avg speed_limit:    max_speed_limit  avg_speed_limit\n",
      "0             70.0        34.029684\n",
      "what is max vehicle_year and avg vehicle_year:    max_vehicle_year  avg_vehicle_year\n",
      "0            2024.0       2011.934343\n",
      "what is max speed_limit and avg vehicle_year:    max_speed_limit  avg_vehicle_year\n",
      "0             70.0       2011.934343\n",
      "what is max vehicle_year and avg speed_limit:    max_vehicle_year  avg_speed_limit\n",
      "0            2024.0        34.029684\n",
      "what is max speed_limit and total speed_limit:    max_speed_limit  total_speed_limit\n",
      "0             75.0          2872425.0\n",
      "what is max vehicle_year and total vehicle_year:    max_vehicle_year  total_vehicle_year\n",
      "0            2024.0         163195727.0\n",
      "what is max speed_limit and total vehicle_year:    max_speed_limit  total_vehicle_year\n",
      "0             75.0         163195727.0\n",
      "what is max vehicle_year and total speed_limit:    max_vehicle_year  total_speed_limit\n",
      "0            2024.0          2872425.0\n",
      "what is max speed_limit and total speed_limit:    max_speed_limit  total_speed_limit\n",
      "0             70.0          2692905.0\n",
      "what is max vehicle_year and total vehicle_year:    max_vehicle_year  total_vehicle_year\n",
      "0            2024.0         149231206.0\n",
      "what is max speed_limit and total vehicle_year:    max_speed_limit  total_vehicle_year\n",
      "0             70.0         149231206.0\n",
      "what is max vehicle_year and total speed_limit:    max_vehicle_year  total_speed_limit\n",
      "0            2024.0          2692905.0\n",
      "what is avg speed_limit and min speed_limit:    avg_speed_limit  min_speed_limit\n",
      "0        31.278448              0.0\n",
      "what is avg vehicle_year and min vehicle_year:    avg_vehicle_year  min_vehicle_year\n",
      "0       2011.186619            2001.0\n",
      "what is avg speed_limit and min vehicle_year:    avg_speed_limit  min_vehicle_year\n",
      "0        31.278448            2001.0\n",
      "what is avg vehicle_year and min speed_limit:    avg_vehicle_year  min_speed_limit\n",
      "0       2011.186619              0.0\n",
      "what is avg speed_limit and min speed_limit:    avg_speed_limit  min_speed_limit\n",
      "0        34.029684              0.0\n",
      "what is avg vehicle_year and min vehicle_year:    avg_vehicle_year  min_vehicle_year\n",
      "0       2011.934343            2001.0\n",
      "what is avg speed_limit and min vehicle_year:    avg_speed_limit  min_vehicle_year\n",
      "0        34.029684            2001.0\n",
      "what is avg vehicle_year and min speed_limit:    avg_vehicle_year  min_speed_limit\n",
      "0       2011.934343              0.0\n",
      "what is avg speed_limit and max speed_limit:    avg_speed_limit  max_speed_limit\n",
      "0        31.278448             75.0\n",
      "what is avg vehicle_year and max vehicle_year:    avg_vehicle_year  max_vehicle_year\n",
      "0       2011.186619            2024.0\n",
      "what is avg speed_limit and max vehicle_year:    avg_speed_limit  max_vehicle_year\n",
      "0        31.278448            2024.0\n",
      "what is avg vehicle_year and max speed_limit:    avg_vehicle_year  max_speed_limit\n",
      "0       2011.186619             75.0\n",
      "what is avg speed_limit and max speed_limit:    avg_speed_limit  max_speed_limit\n",
      "0        34.029684             70.0\n",
      "what is avg vehicle_year and max vehicle_year:    avg_vehicle_year  max_vehicle_year\n",
      "0       2011.934343            2024.0\n",
      "what is avg speed_limit and max vehicle_year:    avg_speed_limit  max_vehicle_year\n",
      "0        34.029684            2024.0\n",
      "what is avg vehicle_year and max speed_limit:    avg_vehicle_year  max_speed_limit\n",
      "0       2011.934343             70.0\n",
      "what is avg speed_limit and total speed_limit:    avg_speed_limit  total_speed_limit\n",
      "0        31.278448          2872425.0\n",
      "what is avg vehicle_year and total vehicle_year:    avg_vehicle_year  total_vehicle_year\n",
      "0       2011.186619         163195727.0\n",
      "what is avg speed_limit and total vehicle_year:    avg_speed_limit  total_vehicle_year\n",
      "0        31.278448         163195727.0\n",
      "what is avg vehicle_year and total speed_limit:    avg_vehicle_year  total_speed_limit\n",
      "0       2011.186619          2872425.0\n",
      "what is avg speed_limit and total speed_limit:    avg_speed_limit  total_speed_limit\n",
      "0        34.029684          2692905.0\n",
      "what is avg vehicle_year and total vehicle_year:    avg_vehicle_year  total_vehicle_year\n",
      "0       2011.934343         149231206.0\n",
      "what is avg speed_limit and total vehicle_year:    avg_speed_limit  total_vehicle_year\n",
      "0        34.029684         149231206.0\n",
      "what is avg vehicle_year and total speed_limit:    avg_vehicle_year  total_speed_limit\n",
      "0       2011.934343          2692905.0\n",
      "what is total speed_limit and min speed_limit:    total_speed_limit  min_speed_limit\n",
      "0          2872425.0              0.0\n",
      "what is total vehicle_year and min vehicle_year:    total_vehicle_year  min_vehicle_year\n",
      "0         163195727.0            2001.0\n",
      "what is total speed_limit and min vehicle_year:    total_speed_limit  min_vehicle_year\n",
      "0          2872425.0            2001.0\n",
      "what is total vehicle_year and min speed_limit:    total_vehicle_year  min_speed_limit\n",
      "0         163195727.0              0.0\n",
      "what is total speed_limit and min speed_limit:    total_speed_limit  min_speed_limit\n",
      "0          2692905.0              0.0\n",
      "what is total vehicle_year and min vehicle_year:    total_vehicle_year  min_vehicle_year\n",
      "0         149231206.0            2001.0\n",
      "what is total speed_limit and min vehicle_year:    total_speed_limit  min_vehicle_year\n",
      "0          2692905.0            2001.0\n",
      "what is total vehicle_year and min speed_limit:    total_vehicle_year  min_speed_limit\n",
      "0         149231206.0              0.0\n",
      "what is total speed_limit and max speed_limit:    total_speed_limit  max_speed_limit\n",
      "0          2872425.0             75.0\n",
      "what is total vehicle_year and max vehicle_year:    total_vehicle_year  max_vehicle_year\n",
      "0         163195727.0            2024.0\n",
      "what is total speed_limit and max vehicle_year:    total_speed_limit  max_vehicle_year\n",
      "0          2872425.0            2024.0\n",
      "what is total vehicle_year and max speed_limit:    total_vehicle_year  max_speed_limit\n",
      "0         163195727.0             75.0\n",
      "what is total speed_limit and max speed_limit:    total_speed_limit  max_speed_limit\n",
      "0          2692905.0             70.0\n",
      "what is total vehicle_year and max vehicle_year:    total_vehicle_year  max_vehicle_year\n",
      "0         149231206.0            2024.0\n",
      "what is total speed_limit and max vehicle_year:    total_speed_limit  max_vehicle_year\n",
      "0          2692905.0            2024.0\n",
      "what is total vehicle_year and max speed_limit:    total_vehicle_year  max_speed_limit\n",
      "0         149231206.0             70.0\n",
      "what is total speed_limit and avg speed_limit:    total_speed_limit  avg_speed_limit\n",
      "0          2872425.0        31.278448\n",
      "what is total vehicle_year and avg vehicle_year:    total_vehicle_year  avg_vehicle_year\n",
      "0         163195727.0       2011.186619\n",
      "what is total speed_limit and avg vehicle_year:    total_speed_limit  avg_vehicle_year\n",
      "0          2872425.0       2011.186619\n",
      "what is total vehicle_year and avg speed_limit:    total_vehicle_year  avg_speed_limit\n",
      "0         163195727.0        31.278448\n",
      "what is total speed_limit and avg speed_limit:    total_speed_limit  avg_speed_limit\n",
      "0          2692905.0        34.029684\n",
      "what is total vehicle_year and avg vehicle_year:    total_vehicle_year  avg_vehicle_year\n",
      "0         149231206.0       2011.934343\n",
      "what is total speed_limit and avg vehicle_year:    total_speed_limit  avg_vehicle_year\n",
      "0          2692905.0       2011.934343\n",
      "what is total vehicle_year and avg speed_limit:    total_vehicle_year  avg_speed_limit\n",
      "0         149231206.0        34.029684\n"
     ]
    }
   ],
   "source": [
    "# Case - SQL Queries for numerical with binary\n",
    "for f1, f2 in all_perm:\n",
    "    for c1,c2 in combinations:\n",
    "        for binary in bin_cols:\n",
    "            # case-1: when drievr at fault\n",
    "            query1 = f\"SELECT {f1}({c1}) as {f1}_{c1}, {f2}({c1}) as {f2}_{c1} from crash_data where {binary} \"\n",
    "            print(f\"what is {f1} {c1} and {f2} {c1}: {pd.read_sql_query(query1, conn)}\")\n",
    "            query2 = f\"SELECT {f1}({c2}) as {f1}_{c2}, {f2}({c2}) as {f2}_{c2} from crash_data where  {binary}\"\n",
    "            print(f\"what is {f1} {c2} and {f2} {c2}: {pd.read_sql_query(query2, conn)}\")\n",
    "            query3 = f\"SELECT {f1}({c1}) as {f1}_{c1}, {f2}({c2}) as {f2}_{c2} from crash_data where {binary}\"\n",
    "            print(f\"what is {f1} {c1} and {f2} {c2}: {pd.read_sql_query(query3, conn)}\")\n",
    "            query4 = f\"SELECT {f1}({c2}) as {f1}_{c2}, {f2}({c1}) as {f2}_{c1} from crash_data where {binary}\"\n",
    "            print(f\"what is {f1} {c2} and {f2} {c1}: {pd.read_sql_query(query4, conn)}\")\n",
    "\n",
    "            # case-2: when driver not at fault\n",
    "            query5 = f\"SELECT {f1}({c1}) as {f1}_{c1}, {f2}({c1}) as {f2}_{c1} from crash_data where not {binary} \"\n",
    "            print(f\"what is {f1} {c1} and {f2} {c1}: {pd.read_sql_query(query5, conn)}\")\n",
    "            query6 = f\"SELECT {f1}({c2}) as {f1}_{c2}, {f2}({c2}) as {f2}_{c2} from crash_data where not {binary}\"\n",
    "            print(f\"what is {f1} {c2} and {f2} {c2}: {pd.read_sql_query(query6, conn)}\")\n",
    "            query7 = f\"SELECT {f1}({c1}) as {f1}_{c1}, {f2}({c2}) as {f2}_{c2} from crash_data where not {binary}\"\n",
    "            print(f\"what is {f1} {c1} and {f2} {c2}: {pd.read_sql_query(query7, conn)}\")\n",
    "            query8 = f\"SELECT {f1}({c2}) as {f1}_{c2}, {f2}({c1}) as {f2}_{c1} from crash_data where not {binary}\"\n",
    "            print(f\"what is {f1} {c2} and {f2} {c1}: {pd.read_sql_query(query8, conn)}\")\n"
   ]
  },
  {
   "cell_type": "code",
   "execution_count": 45,
   "id": "844cc8f4",
   "metadata": {},
   "outputs": [
    {
     "name": "stdout",
     "output_type": "stream",
     "text": [
      "what vehicle_make has most counts when driver_at_fault\n",
      "what vehicle_make has least counts when driver_at_fault\n",
      "what are the top 2 vehicle_make when driver_at_fault\n",
      "what are the top 3 vehicle_make when driver_at_fault\n",
      "what injury_severity has most counts when driver_at_fault\n",
      "what injury_severity has least counts when driver_at_fault\n",
      "what are the top 2 injury_severity when driver_at_fault\n",
      "what are the top 3 injury_severity when driver_at_fault\n",
      "what vehicle_continuing_dir has most counts when driver_at_fault\n",
      "what vehicle_continuing_dir has least counts when driver_at_fault\n",
      "what are the top 2 vehicle_continuing_dir when driver_at_fault\n",
      "what are the top 3 vehicle_continuing_dir when driver_at_fault\n"
     ]
    }
   ],
   "source": [
    "### SQL QUERIES FOR CATEGORICAL WITH BINARY\n",
    "\n",
    "# categorical with binary\n",
    "for col in cat_cols:\n",
    "    for cond in bin_cols:\n",
    "        print(f\"what {col} has most counts when {cond}\")\n",
    "        print(f\"what {col} has least counts when {cond}\")\n",
    "        for n in range(1, 3):\n",
    "            print(f\"what are the top {n+1} {col} when {cond}\")"
   ]
  },
  {
   "cell_type": "code",
   "execution_count": 67,
   "id": "3440d6eb",
   "metadata": {},
   "outputs": [],
   "source": [
    "count_func = ['count']"
   ]
  },
  {
   "cell_type": "code",
   "execution_count": 81,
   "id": "723fb858",
   "metadata": {},
   "outputs": [
    {
     "name": "stdout",
     "output_type": "stream",
     "text": [
      "what is vehicle_make, count(vehicle_make) as count_max_counts :   vehicle_make  count_max_counts\n",
      "0       TOYOTA             11914\n",
      "what is vehicle_make, count(vehicle_make) as count_min_counts :   vehicle_make  count_min_counts\n",
      "0            -                 1\n",
      "Top 2 vehicle_make:   vehicle_make\n",
      "0       TOYOTA\n",
      "1        HONDA\n",
      "Top 3 vehicle_make:   vehicle_make\n",
      "0       TOYOTA\n",
      "1        HONDA\n",
      "2         FORD\n",
      "what is injury_severity, count(injury_severity) as count_max_counts :       injury_severity  count_max_counts\n",
      "0  NO APPARENT INJURY             78873\n",
      "what is injury_severity, count(injury_severity) as count_min_counts :   injury_severity  count_min_counts\n",
      "0    FATAL INJURY                97\n",
      "Top 2 injury_severity:       injury_severity\n",
      "0  NO APPARENT INJURY\n",
      "1     POSSIBLE INJURY\n",
      "Top 3 injury_severity:           injury_severity\n",
      "0      NO APPARENT INJURY\n",
      "1         POSSIBLE INJURY\n",
      "2  SUSPECTED MINOR INJURY\n",
      "what is vehicle_continuing_dir, count(vehicle_continuing_dir) as count_max_counts :   vehicle_continuing_dir  count_max_counts\n",
      "0                  North             24339\n",
      "what is vehicle_continuing_dir, count(vehicle_continuing_dir) as count_min_counts :   vehicle_continuing_dir  count_min_counts\n",
      "0                    nan               211\n",
      "Top 2 vehicle_continuing_dir:   vehicle_continuing_dir\n",
      "0                  North\n",
      "1                  South\n",
      "Top 3 vehicle_continuing_dir:   vehicle_continuing_dir\n",
      "0                  North\n",
      "1                  South\n",
      "2                   East\n"
     ]
    }
   ],
   "source": [
    "for i in cat_cols:\n",
    "    for j in count_func:\n",
    "        for condition in bin_cols:\n",
    "            query1 = f\"SELECT {i}, {j}({i}) as {j}_max_counts from crash_data where {condition} group by 1 order by 2 desc limit 1\"\n",
    "            print(f\"what is {i}, {j}({i}) as {j}_max_counts : {pd.read_sql_query(query1,conn)}\")\n",
    "\n",
    "            query2 = f\"SELECT {i}, {j}({i}) as {j}_min_counts from crash_data where {condition} group by 1 order by 2 limit 1\"\n",
    "            print(f\"what is {i}, {j}({i}) as {j}_min_counts : {pd.read_sql_query(query2,conn)}\")\n",
    "\n",
    "            query3 = f\"select {i} from crash_data where {condition} group by 1 order by {j}({i}) desc limit 2\"\n",
    "            print(f\"Top 2 {i}: {pd.read_sql_query(query3,conn)}\")\n",
    "            \n",
    "            query4 = f\"select {i} from crash_data where {condition} group by 1 order by {j}({i}) desc limit 3\"\n",
    "            print(f\"Top 3 {i}: {pd.read_sql_query(query4,conn)}\")"
   ]
  }
 ],
 "metadata": {
  "kernelspec": {
   "display_name": "llm_venv",
   "language": "python",
   "name": "python3"
  },
  "language_info": {
   "codemirror_mode": {
    "name": "ipython",
    "version": 3
   },
   "file_extension": ".py",
   "mimetype": "text/x-python",
   "name": "python",
   "nbconvert_exporter": "python",
   "pygments_lexer": "ipython3",
   "version": "3.11.3"
  },
  "varInspector": {
   "cols": {
    "lenName": 16,
    "lenType": 16,
    "lenVar": 40
   },
   "kernels_config": {
    "python": {
     "delete_cmd_postfix": "",
     "delete_cmd_prefix": "del ",
     "library": "var_list.py",
     "varRefreshCmd": "print(var_dic_list())"
    },
    "r": {
     "delete_cmd_postfix": ") ",
     "delete_cmd_prefix": "rm(",
     "library": "var_list.r",
     "varRefreshCmd": "cat(var_dic_list()) "
    }
   },
   "types_to_exclude": [
    "module",
    "function",
    "builtin_function_or_method",
    "instance",
    "_Feature"
   ],
   "window_display": false
  }
 },
 "nbformat": 4,
 "nbformat_minor": 5
}
